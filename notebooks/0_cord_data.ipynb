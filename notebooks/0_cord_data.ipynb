{
 "cells": [
  {
   "cell_type": "code",
   "execution_count": 60,
   "metadata": {
    "ExecuteTime": {
     "end_time": "2020-04-27T18:31:59.286792Z",
     "start_time": "2020-04-27T18:31:59.080456Z"
    }
   },
   "outputs": [
    {
     "name": "stdout",
     "output_type": "stream",
     "text": [
      "The autoreload extension is already loaded. To reload it, use:\n",
      "  %reload_ext autoreload\n"
     ]
    }
   ],
   "source": [
    "import json\n",
    "import requests\n",
    "import re\n",
    "\n",
    "from tqdm.notebook import tqdm\n",
    "\n",
    "import pandas as pd\n",
    "import numpy as np\n",
    "\n",
    "from seq2cite import config, utils, aws\n",
    "\n",
    "%load_ext autoreload\n",
    "%autoreload 2"
   ]
  },
  {
   "cell_type": "markdown",
   "metadata": {},
   "source": [
    "# Exploring CORD-19 Dataset"
   ]
  },
  {
   "cell_type": "code",
   "execution_count": 5,
   "metadata": {
    "ExecuteTime": {
     "end_time": "2020-04-27T18:01:16.454608Z",
     "start_time": "2020-04-27T18:01:15.968049Z"
    }
   },
   "outputs": [],
   "source": [
    "s3, s3_resource = aws.connect_aws_s3()\n",
    "cord19_bucket = aws.get_cord19_bucket(s3, s3_resource)"
   ]
  },
  {
   "cell_type": "code",
   "execution_count": 6,
   "metadata": {
    "ExecuteTime": {
     "end_time": "2020-04-27T18:01:16.854373Z",
     "start_time": "2020-04-27T18:01:16.782662Z"
    }
   },
   "outputs": [],
   "source": [
    "def list_bucket_contents(bucket_resource, match='', size_mb=0):\n",
    "    total_size_gb = 0\n",
    "    total_files = 0\n",
    "    match_size_gb = 0\n",
    "    match_files = 0\n",
    "    for key in bucket_resource.objects.all():\n",
    "        key_size_mb = key.size/1024/1024\n",
    "        total_size_gb += key_size_mb\n",
    "        total_files += 1\n",
    "        list_check = False\n",
    "        if not match:\n",
    "            list_check = True\n",
    "        elif match in key.key:\n",
    "            list_check = True\n",
    "        if list_check and not size_mb:\n",
    "            match_files += 1\n",
    "            match_size_gb += key_size_mb\n",
    "            print(f'{key.key} ({key_size_mb:3.0f}MB)')\n",
    "        elif list_check and key_size_mb <= size_mb:\n",
    "            match_files += 1\n",
    "            match_size_gb += key_size_mb\n",
    "            print(f'{key.key} ({key_sizexmb:3.0f}MB)')\n",
    "\n",
    "        if key.key.endswith('.json'):\n",
    "            break\n",
    "    if match:\n",
    "        print(f'Matched file size is {match_size_gb/1024:3.1f}GB with {match_files} files')            \n",
    "    \n",
    "    print(f'Bucket total size is {total_size_gb/1024:3.1f}GB with {total_files} files')\n",
    "    \n",
    "    "
   ]
  },
  {
   "cell_type": "code",
   "execution_count": 7,
   "metadata": {
    "ExecuteTime": {
     "end_time": "2020-04-27T18:01:20.017568Z",
     "start_time": "2020-04-27T18:01:17.565453Z"
    }
   },
   "outputs": [
    {
     "name": "stdout",
     "output_type": "stream",
     "text": [
      "2020-03-13/COVID.DATA.LIC.AGMT.pdf (  0MB)\n",
      "2020-03-13/all_sources_metadata_2020-03-13.csv ( 48MB)\n",
      "2020-03-13/all_sources_metadata_2020-03-13.readme (  0MB)\n",
      "2020-03-13/biorxiv_medrxiv.tar.gz ( 13MB)\n",
      "2020-03-13/comm_use_subset.tar.gz (186MB)\n",
      "2020-03-13/json_schema.txt (  0MB)\n",
      "2020-03-13/noncomm_use_subset.tar.gz ( 36MB)\n",
      "2020-03-13/pmc_custom_license.tar.gz ( 19MB)\n",
      "2020-03-20/biorxiv_medrxiv.tar.gz ( 13MB)\n",
      "2020-03-20/changelog (  0MB)\n",
      "2020-03-20/comm_use_subset.tar.gz (183MB)\n",
      "2020-03-20/custom_license.tar.gz (344MB)\n",
      "2020-03-20/metadata.csv ( 60MB)\n",
      "2020-03-20/noncomm_use_subset.tar.gz ( 40MB)\n",
      "2020-03-27/biorxiv_medrxiv.tar.gz ( 15MB)\n",
      "2020-03-27/changelog (  0MB)\n",
      "2020-03-27/comm_use_subset.tar.gz (186MB)\n",
      "2020-03-27/custom_license.tar.gz (414MB)\n",
      "2020-03-27/metadata.csv ( 66MB)\n",
      "2020-03-27/metadata_with_mag_mapping.csv ( 68MB)\n",
      "2020-03-27/noncomm_use_subset.tar.gz ( 40MB)\n",
      "2020-04-03/biorxiv_medrxiv.tar.gz ( 18MB)\n",
      "2020-04-03/changelog (  0MB)\n",
      "2020-04-03/comm_use_subset.tar.gz (346MB)\n",
      "2020-04-03/cord19_specter_embeddings_2020-04-03.tar.gz (303MB)\n",
      "2020-04-03/custom_license.tar.gz (512MB)\n",
      "2020-04-03/metadata.csv ( 69MB)\n",
      "2020-04-03/metadata_with_mag_mapping_04_03.csv ( 69MB)\n",
      "2020-04-03/noncomm_use_subset.tar.gz ( 70MB)\n",
      "2020-04-10/04-10-mag-mapping.csv ( 75MB)\n",
      "2020-04-10/biorxiv_medrxiv.tar.gz ( 21MB)\n",
      "2020-04-10/changelog (  0MB)\n",
      "2020-04-10/comm_use_subset.tar.gz (350MB)\n",
      "2020-04-10/cord19_specter_embeddings_2020-04-10.tar.gz (327MB)\n",
      "2020-04-10/custom_license.tar.gz (629MB)\n",
      "2020-04-10/metadata.csv ( 74MB)\n",
      "2020-04-10/noncomm_use_subset.tar.gz ( 73MB)\n",
      "2020-04-17/biorxiv_medrxiv.tar.gz ( 25MB)\n",
      "2020-04-17/biorxiv_medrxiv/pdf_json/0015023cc06b5362d332b3baf348d11567ca2fbb.json (  0MB)\n",
      "Bucket total size is 4.6GB with 39 files\n"
     ]
    }
   ],
   "source": [
    "list_bucket_contents(cord19_bucket)"
   ]
  },
  {
   "cell_type": "code",
   "execution_count": 8,
   "metadata": {
    "ExecuteTime": {
     "end_time": "2020-04-27T18:01:20.642930Z",
     "start_time": "2020-04-27T18:01:20.593433Z"
    }
   },
   "outputs": [],
   "source": [
    "def preview_csv_dataset(bucket, key, rows=10):\n",
    "    data_source = {\n",
    "            'Bucket': bucket,\n",
    "            'Key': key\n",
    "        }\n",
    "    # Generate the URL to get Key from Bucket\n",
    "    url = s3.generate_presigned_url(\n",
    "        ClientMethod = 'get_object',\n",
    "        Params = data_source\n",
    "    )\n",
    "\n",
    "    data = pd.read_csv(url, nrows=rows)\n",
    "    return data"
   ]
  },
  {
   "cell_type": "code",
   "execution_count": 9,
   "metadata": {
    "ExecuteTime": {
     "end_time": "2020-04-27T18:01:25.385296Z",
     "start_time": "2020-04-27T18:01:21.092888Z"
    }
   },
   "outputs": [
    {
     "data": {
      "text/html": [
       "<div>\n",
       "<style scoped>\n",
       "    .dataframe tbody tr th:only-of-type {\n",
       "        vertical-align: middle;\n",
       "    }\n",
       "\n",
       "    .dataframe tbody tr th {\n",
       "        vertical-align: top;\n",
       "    }\n",
       "\n",
       "    .dataframe thead th {\n",
       "        text-align: right;\n",
       "    }\n",
       "</style>\n",
       "<table border=\"1\" class=\"dataframe\">\n",
       "  <thead>\n",
       "    <tr style=\"text-align: right;\">\n",
       "      <th></th>\n",
       "      <th>cord_uid</th>\n",
       "      <th>sha</th>\n",
       "      <th>source_x</th>\n",
       "      <th>title</th>\n",
       "      <th>doi</th>\n",
       "      <th>pmcid</th>\n",
       "      <th>pubmed_id</th>\n",
       "      <th>license</th>\n",
       "      <th>abstract</th>\n",
       "      <th>publish_time</th>\n",
       "      <th>authors</th>\n",
       "      <th>journal</th>\n",
       "      <th>Microsoft Academic Paper ID</th>\n",
       "      <th>WHO #Covidence</th>\n",
       "      <th>has_pdf_parse</th>\n",
       "      <th>has_pmc_xml_parse</th>\n",
       "      <th>full_text_file</th>\n",
       "      <th>url</th>\n",
       "    </tr>\n",
       "  </thead>\n",
       "  <tbody>\n",
       "    <tr>\n",
       "      <th>0</th>\n",
       "      <td>8q5ondtn</td>\n",
       "      <td>NaN</td>\n",
       "      <td>Elsevier</td>\n",
       "      <td>Intrauterine virus infections and congenital h...</td>\n",
       "      <td>10.1016/0002-8703(72)90077-4</td>\n",
       "      <td>NaN</td>\n",
       "      <td>4361535.0</td>\n",
       "      <td>els-covid</td>\n",
       "      <td>Abstract The etiologic basis for the vast majo...</td>\n",
       "      <td>1972-12-31</td>\n",
       "      <td>Overall, James C.</td>\n",
       "      <td>American Heart Journal</td>\n",
       "      <td>NaN</td>\n",
       "      <td>NaN</td>\n",
       "      <td>False</td>\n",
       "      <td>False</td>\n",
       "      <td>custom_license</td>\n",
       "      <td>https://doi.org/10.1016/0002-8703(72)90077-4</td>\n",
       "    </tr>\n",
       "    <tr>\n",
       "      <th>1</th>\n",
       "      <td>pzfd0e50</td>\n",
       "      <td>NaN</td>\n",
       "      <td>Elsevier</td>\n",
       "      <td>Coronaviruses in Balkan nephritis</td>\n",
       "      <td>10.1016/0002-8703(80)90355-5</td>\n",
       "      <td>NaN</td>\n",
       "      <td>6243850.0</td>\n",
       "      <td>els-covid</td>\n",
       "      <td>NaN</td>\n",
       "      <td>1980-03-31</td>\n",
       "      <td>Georgescu, Leonida; Diosi, Peter; Buţiu, Ioan;...</td>\n",
       "      <td>American Heart Journal</td>\n",
       "      <td>NaN</td>\n",
       "      <td>NaN</td>\n",
       "      <td>False</td>\n",
       "      <td>False</td>\n",
       "      <td>custom_license</td>\n",
       "      <td>https://doi.org/10.1016/0002-8703(80)90355-5</td>\n",
       "    </tr>\n",
       "    <tr>\n",
       "      <th>2</th>\n",
       "      <td>22bka3gi</td>\n",
       "      <td>NaN</td>\n",
       "      <td>Elsevier</td>\n",
       "      <td>Cigarette smoking and coronary heart disease: ...</td>\n",
       "      <td>10.1016/0002-8703(80)90356-7</td>\n",
       "      <td>NaN</td>\n",
       "      <td>7355701.0</td>\n",
       "      <td>els-covid</td>\n",
       "      <td>NaN</td>\n",
       "      <td>1980-03-31</td>\n",
       "      <td>Friedman, Gary D</td>\n",
       "      <td>American Heart Journal</td>\n",
       "      <td>NaN</td>\n",
       "      <td>NaN</td>\n",
       "      <td>False</td>\n",
       "      <td>False</td>\n",
       "      <td>custom_license</td>\n",
       "      <td>https://doi.org/10.1016/0002-8703(80)90356-7</td>\n",
       "    </tr>\n",
       "    <tr>\n",
       "      <th>3</th>\n",
       "      <td>zp9k1k3z</td>\n",
       "      <td>aecbc613ebdab36753235197ffb4f35734b5ca63</td>\n",
       "      <td>Elsevier</td>\n",
       "      <td>Clinical and immunologic studies in identical ...</td>\n",
       "      <td>10.1016/0002-9343(73)90176-9</td>\n",
       "      <td>NaN</td>\n",
       "      <td>4579077.0</td>\n",
       "      <td>els-covid</td>\n",
       "      <td>Abstract Middle-aged female identical twins, o...</td>\n",
       "      <td>1973-08-31</td>\n",
       "      <td>Brunner, Carolyn M.; Horwitz, David A.; Shann,...</td>\n",
       "      <td>The American Journal of Medicine</td>\n",
       "      <td>NaN</td>\n",
       "      <td>NaN</td>\n",
       "      <td>True</td>\n",
       "      <td>False</td>\n",
       "      <td>custom_license</td>\n",
       "      <td>https://doi.org/10.1016/0002-9343(73)90176-9</td>\n",
       "    </tr>\n",
       "    <tr>\n",
       "      <th>4</th>\n",
       "      <td>cjuzul89</td>\n",
       "      <td>NaN</td>\n",
       "      <td>Elsevier</td>\n",
       "      <td>Epidemiology of community-acquired respiratory...</td>\n",
       "      <td>10.1016/0002-9343(85)90361-4</td>\n",
       "      <td>NaN</td>\n",
       "      <td>4014285.0</td>\n",
       "      <td>els-covid</td>\n",
       "      <td>Abstract Upper respiratory tract infections ar...</td>\n",
       "      <td>1985-06-28</td>\n",
       "      <td>Garibaldi, Richard A.</td>\n",
       "      <td>The American Journal of Medicine</td>\n",
       "      <td>NaN</td>\n",
       "      <td>NaN</td>\n",
       "      <td>False</td>\n",
       "      <td>False</td>\n",
       "      <td>custom_license</td>\n",
       "      <td>https://doi.org/10.1016/0002-9343(85)90361-4</td>\n",
       "    </tr>\n",
       "    <tr>\n",
       "      <th>...</th>\n",
       "      <td>...</td>\n",
       "      <td>...</td>\n",
       "      <td>...</td>\n",
       "      <td>...</td>\n",
       "      <td>...</td>\n",
       "      <td>...</td>\n",
       "      <td>...</td>\n",
       "      <td>...</td>\n",
       "      <td>...</td>\n",
       "      <td>...</td>\n",
       "      <td>...</td>\n",
       "      <td>...</td>\n",
       "      <td>...</td>\n",
       "      <td>...</td>\n",
       "      <td>...</td>\n",
       "      <td>...</td>\n",
       "      <td>...</td>\n",
       "      <td>...</td>\n",
       "    </tr>\n",
       "    <tr>\n",
       "      <th>95</th>\n",
       "      <td>ro3x3qa3</td>\n",
       "      <td>bcea326da7ffbd034aa531671d14f0b907e561cc</td>\n",
       "      <td>Elsevier</td>\n",
       "      <td>A comparative assessment of four serological m...</td>\n",
       "      <td>10.1016/0020-7519(88)90147-6</td>\n",
       "      <td>NaN</td>\n",
       "      <td>NaN</td>\n",
       "      <td>els-covid</td>\n",
       "      <td>Abstract Antibodies against Crithidia fascicul...</td>\n",
       "      <td>1988-04-30</td>\n",
       "      <td>Ingram, George A.; Al-Yaman, Fadwa</td>\n",
       "      <td>International Journal for Parasitology</td>\n",
       "      <td>NaN</td>\n",
       "      <td>NaN</td>\n",
       "      <td>True</td>\n",
       "      <td>False</td>\n",
       "      <td>custom_license</td>\n",
       "      <td>https://doi.org/10.1016/0020-7519(88)90147-6</td>\n",
       "    </tr>\n",
       "    <tr>\n",
       "      <th>96</th>\n",
       "      <td>ootj52fs</td>\n",
       "      <td>0ec192980f4b5026fb0aeef3de313f14ff58ef3d</td>\n",
       "      <td>Elsevier</td>\n",
       "      <td>Immunolabelling of fish host molecules on the ...</td>\n",
       "      <td>10.1016/0020-7519(94)00076-z</td>\n",
       "      <td>NaN</td>\n",
       "      <td>7622332.0</td>\n",
       "      <td>els-covid</td>\n",
       "      <td>Abstract Immunoblotting, SDS-PAGE and western ...</td>\n",
       "      <td>1995-02-28</td>\n",
       "      <td>Williams, M.A.; Hoole, D.</td>\n",
       "      <td>International Journal for Parasitology</td>\n",
       "      <td>NaN</td>\n",
       "      <td>NaN</td>\n",
       "      <td>True</td>\n",
       "      <td>False</td>\n",
       "      <td>custom_license</td>\n",
       "      <td>https://doi.org/10.1016/0020-7519(94)00076-z</td>\n",
       "    </tr>\n",
       "    <tr>\n",
       "      <th>97</th>\n",
       "      <td>a4f8u1ze</td>\n",
       "      <td>188a50cddda7d12946f81822b3cee70d77d20cb4</td>\n",
       "      <td>Elsevier</td>\n",
       "      <td>Identification of diagnostic antigens for Sout...</td>\n",
       "      <td>10.1016/0020-7519(94)90034-5</td>\n",
       "      <td>NaN</td>\n",
       "      <td>8026903.0</td>\n",
       "      <td>els-covid</td>\n",
       "      <td>Abstract Identification of diagnostic antigens...</td>\n",
       "      <td>1994-04-30</td>\n",
       "      <td>Böse, Reinhard; Peymann, Berit; Barbosa, Imke ...</td>\n",
       "      <td>International Journal for Parasitology</td>\n",
       "      <td>NaN</td>\n",
       "      <td>NaN</td>\n",
       "      <td>True</td>\n",
       "      <td>False</td>\n",
       "      <td>custom_license</td>\n",
       "      <td>https://doi.org/10.1016/0020-7519(94)90034-5</td>\n",
       "    </tr>\n",
       "    <tr>\n",
       "      <th>98</th>\n",
       "      <td>i8x80knq</td>\n",
       "      <td>f6af90a5e3b6a85f64c42d66bbdc9ec3ace4b2ae</td>\n",
       "      <td>Elsevier</td>\n",
       "      <td>Diagnosis of Babesia caballi infections in hor...</td>\n",
       "      <td>10.1016/0020-7519(94)90081-7</td>\n",
       "      <td>NaN</td>\n",
       "      <td>8070952.0</td>\n",
       "      <td>els-covid</td>\n",
       "      <td>Abstract From Babesia caballi in vitro culture...</td>\n",
       "      <td>1994-05-31</td>\n",
       "      <td>Böse, Reinhard; Peymann, Berit</td>\n",
       "      <td>International Journal for Parasitology</td>\n",
       "      <td>NaN</td>\n",
       "      <td>NaN</td>\n",
       "      <td>True</td>\n",
       "      <td>False</td>\n",
       "      <td>custom_license</td>\n",
       "      <td>https://doi.org/10.1016/0020-7519(94)90081-7</td>\n",
       "    </tr>\n",
       "    <tr>\n",
       "      <th>99</th>\n",
       "      <td>7sxioviw</td>\n",
       "      <td>d566761a00777e1dc241fd4966359faf254369c3</td>\n",
       "      <td>Elsevier</td>\n",
       "      <td>Electron microscopy of the intestine of gnotob...</td>\n",
       "      <td>10.1016/0021-9975(82)90011-1</td>\n",
       "      <td>NaN</td>\n",
       "      <td>6296207.0</td>\n",
       "      <td>els-covid</td>\n",
       "      <td>Abstract Five gnotobiotic piglets inoculated o...</td>\n",
       "      <td>1982-10-31</td>\n",
       "      <td>Narita, M.; Fukusho, A.; Shimizu, Y.</td>\n",
       "      <td>Journal of Comparative Pathology</td>\n",
       "      <td>NaN</td>\n",
       "      <td>NaN</td>\n",
       "      <td>True</td>\n",
       "      <td>False</td>\n",
       "      <td>custom_license</td>\n",
       "      <td>https://doi.org/10.1016/0021-9975(82)90011-1</td>\n",
       "    </tr>\n",
       "  </tbody>\n",
       "</table>\n",
       "<p>100 rows × 18 columns</p>\n",
       "</div>"
      ],
      "text/plain": [
       "    cord_uid                                       sha  source_x  \\\n",
       "0   8q5ondtn                                       NaN  Elsevier   \n",
       "1   pzfd0e50                                       NaN  Elsevier   \n",
       "2   22bka3gi                                       NaN  Elsevier   \n",
       "3   zp9k1k3z  aecbc613ebdab36753235197ffb4f35734b5ca63  Elsevier   \n",
       "4   cjuzul89                                       NaN  Elsevier   \n",
       "..       ...                                       ...       ...   \n",
       "95  ro3x3qa3  bcea326da7ffbd034aa531671d14f0b907e561cc  Elsevier   \n",
       "96  ootj52fs  0ec192980f4b5026fb0aeef3de313f14ff58ef3d  Elsevier   \n",
       "97  a4f8u1ze  188a50cddda7d12946f81822b3cee70d77d20cb4  Elsevier   \n",
       "98  i8x80knq  f6af90a5e3b6a85f64c42d66bbdc9ec3ace4b2ae  Elsevier   \n",
       "99  7sxioviw  d566761a00777e1dc241fd4966359faf254369c3  Elsevier   \n",
       "\n",
       "                                                title  \\\n",
       "0   Intrauterine virus infections and congenital h...   \n",
       "1                   Coronaviruses in Balkan nephritis   \n",
       "2   Cigarette smoking and coronary heart disease: ...   \n",
       "3   Clinical and immunologic studies in identical ...   \n",
       "4   Epidemiology of community-acquired respiratory...   \n",
       "..                                                ...   \n",
       "95  A comparative assessment of four serological m...   \n",
       "96  Immunolabelling of fish host molecules on the ...   \n",
       "97  Identification of diagnostic antigens for Sout...   \n",
       "98  Diagnosis of Babesia caballi infections in hor...   \n",
       "99  Electron microscopy of the intestine of gnotob...   \n",
       "\n",
       "                             doi  pmcid  pubmed_id    license  \\\n",
       "0   10.1016/0002-8703(72)90077-4    NaN  4361535.0  els-covid   \n",
       "1   10.1016/0002-8703(80)90355-5    NaN  6243850.0  els-covid   \n",
       "2   10.1016/0002-8703(80)90356-7    NaN  7355701.0  els-covid   \n",
       "3   10.1016/0002-9343(73)90176-9    NaN  4579077.0  els-covid   \n",
       "4   10.1016/0002-9343(85)90361-4    NaN  4014285.0  els-covid   \n",
       "..                           ...    ...        ...        ...   \n",
       "95  10.1016/0020-7519(88)90147-6    NaN        NaN  els-covid   \n",
       "96  10.1016/0020-7519(94)00076-z    NaN  7622332.0  els-covid   \n",
       "97  10.1016/0020-7519(94)90034-5    NaN  8026903.0  els-covid   \n",
       "98  10.1016/0020-7519(94)90081-7    NaN  8070952.0  els-covid   \n",
       "99  10.1016/0021-9975(82)90011-1    NaN  6296207.0  els-covid   \n",
       "\n",
       "                                             abstract publish_time  \\\n",
       "0   Abstract The etiologic basis for the vast majo...   1972-12-31   \n",
       "1                                                 NaN   1980-03-31   \n",
       "2                                                 NaN   1980-03-31   \n",
       "3   Abstract Middle-aged female identical twins, o...   1973-08-31   \n",
       "4   Abstract Upper respiratory tract infections ar...   1985-06-28   \n",
       "..                                                ...          ...   \n",
       "95  Abstract Antibodies against Crithidia fascicul...   1988-04-30   \n",
       "96  Abstract Immunoblotting, SDS-PAGE and western ...   1995-02-28   \n",
       "97  Abstract Identification of diagnostic antigens...   1994-04-30   \n",
       "98  Abstract From Babesia caballi in vitro culture...   1994-05-31   \n",
       "99  Abstract Five gnotobiotic piglets inoculated o...   1982-10-31   \n",
       "\n",
       "                                              authors  \\\n",
       "0                                   Overall, James C.   \n",
       "1   Georgescu, Leonida; Diosi, Peter; Buţiu, Ioan;...   \n",
       "2                                    Friedman, Gary D   \n",
       "3   Brunner, Carolyn M.; Horwitz, David A.; Shann,...   \n",
       "4                               Garibaldi, Richard A.   \n",
       "..                                                ...   \n",
       "95                 Ingram, George A.; Al-Yaman, Fadwa   \n",
       "96                          Williams, M.A.; Hoole, D.   \n",
       "97  Böse, Reinhard; Peymann, Berit; Barbosa, Imke ...   \n",
       "98                     Böse, Reinhard; Peymann, Berit   \n",
       "99               Narita, M.; Fukusho, A.; Shimizu, Y.   \n",
       "\n",
       "                                   journal  Microsoft Academic Paper ID  \\\n",
       "0                   American Heart Journal                          NaN   \n",
       "1                   American Heart Journal                          NaN   \n",
       "2                   American Heart Journal                          NaN   \n",
       "3         The American Journal of Medicine                          NaN   \n",
       "4         The American Journal of Medicine                          NaN   \n",
       "..                                     ...                          ...   \n",
       "95  International Journal for Parasitology                          NaN   \n",
       "96  International Journal for Parasitology                          NaN   \n",
       "97  International Journal for Parasitology                          NaN   \n",
       "98  International Journal for Parasitology                          NaN   \n",
       "99        Journal of Comparative Pathology                          NaN   \n",
       "\n",
       "    WHO #Covidence  has_pdf_parse  has_pmc_xml_parse  full_text_file  \\\n",
       "0              NaN          False              False  custom_license   \n",
       "1              NaN          False              False  custom_license   \n",
       "2              NaN          False              False  custom_license   \n",
       "3              NaN           True              False  custom_license   \n",
       "4              NaN          False              False  custom_license   \n",
       "..             ...            ...                ...             ...   \n",
       "95             NaN           True              False  custom_license   \n",
       "96             NaN           True              False  custom_license   \n",
       "97             NaN           True              False  custom_license   \n",
       "98             NaN           True              False  custom_license   \n",
       "99             NaN           True              False  custom_license   \n",
       "\n",
       "                                             url  \n",
       "0   https://doi.org/10.1016/0002-8703(72)90077-4  \n",
       "1   https://doi.org/10.1016/0002-8703(80)90355-5  \n",
       "2   https://doi.org/10.1016/0002-8703(80)90356-7  \n",
       "3   https://doi.org/10.1016/0002-9343(73)90176-9  \n",
       "4   https://doi.org/10.1016/0002-9343(85)90361-4  \n",
       "..                                           ...  \n",
       "95  https://doi.org/10.1016/0020-7519(88)90147-6  \n",
       "96  https://doi.org/10.1016/0020-7519(94)00076-z  \n",
       "97  https://doi.org/10.1016/0020-7519(94)90034-5  \n",
       "98  https://doi.org/10.1016/0020-7519(94)90081-7  \n",
       "99  https://doi.org/10.1016/0021-9975(82)90011-1  \n",
       "\n",
       "[100 rows x 18 columns]"
      ]
     },
     "execution_count": 9,
     "metadata": {},
     "output_type": "execute_result"
    }
   ],
   "source": [
    "metadata = pd.read_csv(f's3://{config.cord19_aws_bucket}/2020-04-03/metadata.csv',\n",
    "                       nrows=100,\n",
    "                       skiprows=0,\n",
    "                      names=config.metadata_columns,\n",
    "                      header=0)\n",
    "metadata"
   ]
  },
  {
   "cell_type": "code",
   "execution_count": 10,
   "metadata": {
    "ExecuteTime": {
     "end_time": "2020-04-27T18:01:27.625876Z",
     "start_time": "2020-04-27T18:01:27.421353Z"
    }
   },
   "outputs": [
    {
     "data": {
      "text/html": [
       "<div>\n",
       "<style scoped>\n",
       "    .dataframe tbody tr th:only-of-type {\n",
       "        vertical-align: middle;\n",
       "    }\n",
       "\n",
       "    .dataframe tbody tr th {\n",
       "        vertical-align: top;\n",
       "    }\n",
       "\n",
       "    .dataframe thead th {\n",
       "        text-align: right;\n",
       "    }\n",
       "</style>\n",
       "<table border=\"1\" class=\"dataframe\">\n",
       "  <thead>\n",
       "    <tr style=\"text-align: right;\">\n",
       "      <th></th>\n",
       "      <th>cord_uid</th>\n",
       "      <th>sha</th>\n",
       "      <th>source_x</th>\n",
       "      <th>title</th>\n",
       "      <th>doi</th>\n",
       "      <th>pmcid</th>\n",
       "      <th>pubmed_id</th>\n",
       "      <th>license</th>\n",
       "      <th>abstract</th>\n",
       "      <th>publish_time</th>\n",
       "      <th>authors</th>\n",
       "      <th>journal</th>\n",
       "      <th>Microsoft Academic Paper ID</th>\n",
       "      <th>WHO #Covidence</th>\n",
       "      <th>has_pdf_parse</th>\n",
       "      <th>has_pmc_xml_parse</th>\n",
       "      <th>full_text_file</th>\n",
       "      <th>url</th>\n",
       "    </tr>\n",
       "  </thead>\n",
       "  <tbody>\n",
       "    <tr>\n",
       "      <th>3</th>\n",
       "      <td>zp9k1k3z</td>\n",
       "      <td>aecbc613ebdab36753235197ffb4f35734b5ca63</td>\n",
       "      <td>Elsevier</td>\n",
       "      <td>Clinical and immunologic studies in identical ...</td>\n",
       "      <td>10.1016/0002-9343(73)90176-9</td>\n",
       "      <td>NaN</td>\n",
       "      <td>4579077.0</td>\n",
       "      <td>els-covid</td>\n",
       "      <td>Abstract Middle-aged female identical twins, o...</td>\n",
       "      <td>1973-08-31</td>\n",
       "      <td>Brunner, Carolyn M.; Horwitz, David A.; Shann,...</td>\n",
       "      <td>The American Journal of Medicine</td>\n",
       "      <td>NaN</td>\n",
       "      <td>NaN</td>\n",
       "      <td>True</td>\n",
       "      <td>False</td>\n",
       "      <td>custom_license</td>\n",
       "      <td>https://doi.org/10.1016/0002-9343(73)90176-9</td>\n",
       "    </tr>\n",
       "    <tr>\n",
       "      <th>5</th>\n",
       "      <td>wwf90zxt</td>\n",
       "      <td>212e990b378e8d267042753d5f9d4a64ea5e9869</td>\n",
       "      <td>Elsevier</td>\n",
       "      <td>Infectious diarrhea: Pathogenesis and risk fac...</td>\n",
       "      <td>10.1016/0002-9343(85)90367-5</td>\n",
       "      <td>NaN</td>\n",
       "      <td>2861742.0</td>\n",
       "      <td>els-covid</td>\n",
       "      <td>Abstract Our understanding of the pathogenesis...</td>\n",
       "      <td>1985-06-28</td>\n",
       "      <td>Cantey, J.Robert</td>\n",
       "      <td>The American Journal of Medicine</td>\n",
       "      <td>NaN</td>\n",
       "      <td>NaN</td>\n",
       "      <td>True</td>\n",
       "      <td>False</td>\n",
       "      <td>custom_license</td>\n",
       "      <td>https://doi.org/10.1016/0002-9343(85)90367-5</td>\n",
       "    </tr>\n",
       "    <tr>\n",
       "      <th>6</th>\n",
       "      <td>dlh93ax6</td>\n",
       "      <td>bf5d344243153d58be692ceb26f52c08e2bd2d2f</td>\n",
       "      <td>Elsevier</td>\n",
       "      <td>New perspectives on the pathogenesis of rheuma...</td>\n",
       "      <td>10.1016/0002-9343(88)90356-7</td>\n",
       "      <td>NaN</td>\n",
       "      <td>3052052.0</td>\n",
       "      <td>els-covid</td>\n",
       "      <td>Abstract In the pathogenesis of rheumatoid art...</td>\n",
       "      <td>1988-10-14</td>\n",
       "      <td>Zvaifler, Nathan J.</td>\n",
       "      <td>The American Journal of Medicine</td>\n",
       "      <td>NaN</td>\n",
       "      <td>NaN</td>\n",
       "      <td>True</td>\n",
       "      <td>False</td>\n",
       "      <td>custom_license</td>\n",
       "      <td>https://doi.org/10.1016/0002-9343(88)90356-7</td>\n",
       "    </tr>\n",
       "    <tr>\n",
       "      <th>7</th>\n",
       "      <td>i94lyfsh</td>\n",
       "      <td>ddd2ecf42ec86ad66072962081e1ce4594431f9c</td>\n",
       "      <td>Elsevier</td>\n",
       "      <td>Management of acute and chronic respiratory tr...</td>\n",
       "      <td>10.1016/0002-9343(88)90456-1</td>\n",
       "      <td>NaN</td>\n",
       "      <td>3048091.0</td>\n",
       "      <td>els-covid</td>\n",
       "      <td>Abstract Pharyngitis, bronchitis, and pneumoni...</td>\n",
       "      <td>1988-09-16</td>\n",
       "      <td>Ellner, Jerrold J.</td>\n",
       "      <td>The American Journal of Medicine</td>\n",
       "      <td>NaN</td>\n",
       "      <td>NaN</td>\n",
       "      <td>True</td>\n",
       "      <td>False</td>\n",
       "      <td>custom_license</td>\n",
       "      <td>https://doi.org/10.1016/0002-9343(88)90456-1</td>\n",
       "    </tr>\n",
       "    <tr>\n",
       "      <th>8</th>\n",
       "      <td>vs5yondw</td>\n",
       "      <td>a55cb4e724091ced46b5e55b982a14525eea1c7e</td>\n",
       "      <td>Elsevier</td>\n",
       "      <td>Acute bronchitis: Results of U.S. and European...</td>\n",
       "      <td>10.1016/0002-9343(92)90608-e</td>\n",
       "      <td>NaN</td>\n",
       "      <td>1621745.0</td>\n",
       "      <td>els-covid</td>\n",
       "      <td>Abstract Acute bronchitis, an illness frequent...</td>\n",
       "      <td>1992-06-22</td>\n",
       "      <td>Dere, Willard H.</td>\n",
       "      <td>The American Journal of Medicine</td>\n",
       "      <td>NaN</td>\n",
       "      <td>NaN</td>\n",
       "      <td>True</td>\n",
       "      <td>False</td>\n",
       "      <td>custom_license</td>\n",
       "      <td>https://doi.org/10.1016/0002-9343(92)90608-e</td>\n",
       "    </tr>\n",
       "    <tr>\n",
       "      <th>...</th>\n",
       "      <td>...</td>\n",
       "      <td>...</td>\n",
       "      <td>...</td>\n",
       "      <td>...</td>\n",
       "      <td>...</td>\n",
       "      <td>...</td>\n",
       "      <td>...</td>\n",
       "      <td>...</td>\n",
       "      <td>...</td>\n",
       "      <td>...</td>\n",
       "      <td>...</td>\n",
       "      <td>...</td>\n",
       "      <td>...</td>\n",
       "      <td>...</td>\n",
       "      <td>...</td>\n",
       "      <td>...</td>\n",
       "      <td>...</td>\n",
       "      <td>...</td>\n",
       "    </tr>\n",
       "    <tr>\n",
       "      <th>95</th>\n",
       "      <td>ro3x3qa3</td>\n",
       "      <td>bcea326da7ffbd034aa531671d14f0b907e561cc</td>\n",
       "      <td>Elsevier</td>\n",
       "      <td>A comparative assessment of four serological m...</td>\n",
       "      <td>10.1016/0020-7519(88)90147-6</td>\n",
       "      <td>NaN</td>\n",
       "      <td>NaN</td>\n",
       "      <td>els-covid</td>\n",
       "      <td>Abstract Antibodies against Crithidia fascicul...</td>\n",
       "      <td>1988-04-30</td>\n",
       "      <td>Ingram, George A.; Al-Yaman, Fadwa</td>\n",
       "      <td>International Journal for Parasitology</td>\n",
       "      <td>NaN</td>\n",
       "      <td>NaN</td>\n",
       "      <td>True</td>\n",
       "      <td>False</td>\n",
       "      <td>custom_license</td>\n",
       "      <td>https://doi.org/10.1016/0020-7519(88)90147-6</td>\n",
       "    </tr>\n",
       "    <tr>\n",
       "      <th>96</th>\n",
       "      <td>ootj52fs</td>\n",
       "      <td>0ec192980f4b5026fb0aeef3de313f14ff58ef3d</td>\n",
       "      <td>Elsevier</td>\n",
       "      <td>Immunolabelling of fish host molecules on the ...</td>\n",
       "      <td>10.1016/0020-7519(94)00076-z</td>\n",
       "      <td>NaN</td>\n",
       "      <td>7622332.0</td>\n",
       "      <td>els-covid</td>\n",
       "      <td>Abstract Immunoblotting, SDS-PAGE and western ...</td>\n",
       "      <td>1995-02-28</td>\n",
       "      <td>Williams, M.A.; Hoole, D.</td>\n",
       "      <td>International Journal for Parasitology</td>\n",
       "      <td>NaN</td>\n",
       "      <td>NaN</td>\n",
       "      <td>True</td>\n",
       "      <td>False</td>\n",
       "      <td>custom_license</td>\n",
       "      <td>https://doi.org/10.1016/0020-7519(94)00076-z</td>\n",
       "    </tr>\n",
       "    <tr>\n",
       "      <th>97</th>\n",
       "      <td>a4f8u1ze</td>\n",
       "      <td>188a50cddda7d12946f81822b3cee70d77d20cb4</td>\n",
       "      <td>Elsevier</td>\n",
       "      <td>Identification of diagnostic antigens for Sout...</td>\n",
       "      <td>10.1016/0020-7519(94)90034-5</td>\n",
       "      <td>NaN</td>\n",
       "      <td>8026903.0</td>\n",
       "      <td>els-covid</td>\n",
       "      <td>Abstract Identification of diagnostic antigens...</td>\n",
       "      <td>1994-04-30</td>\n",
       "      <td>Böse, Reinhard; Peymann, Berit; Barbosa, Imke ...</td>\n",
       "      <td>International Journal for Parasitology</td>\n",
       "      <td>NaN</td>\n",
       "      <td>NaN</td>\n",
       "      <td>True</td>\n",
       "      <td>False</td>\n",
       "      <td>custom_license</td>\n",
       "      <td>https://doi.org/10.1016/0020-7519(94)90034-5</td>\n",
       "    </tr>\n",
       "    <tr>\n",
       "      <th>98</th>\n",
       "      <td>i8x80knq</td>\n",
       "      <td>f6af90a5e3b6a85f64c42d66bbdc9ec3ace4b2ae</td>\n",
       "      <td>Elsevier</td>\n",
       "      <td>Diagnosis of Babesia caballi infections in hor...</td>\n",
       "      <td>10.1016/0020-7519(94)90081-7</td>\n",
       "      <td>NaN</td>\n",
       "      <td>8070952.0</td>\n",
       "      <td>els-covid</td>\n",
       "      <td>Abstract From Babesia caballi in vitro culture...</td>\n",
       "      <td>1994-05-31</td>\n",
       "      <td>Böse, Reinhard; Peymann, Berit</td>\n",
       "      <td>International Journal for Parasitology</td>\n",
       "      <td>NaN</td>\n",
       "      <td>NaN</td>\n",
       "      <td>True</td>\n",
       "      <td>False</td>\n",
       "      <td>custom_license</td>\n",
       "      <td>https://doi.org/10.1016/0020-7519(94)90081-7</td>\n",
       "    </tr>\n",
       "    <tr>\n",
       "      <th>99</th>\n",
       "      <td>7sxioviw</td>\n",
       "      <td>d566761a00777e1dc241fd4966359faf254369c3</td>\n",
       "      <td>Elsevier</td>\n",
       "      <td>Electron microscopy of the intestine of gnotob...</td>\n",
       "      <td>10.1016/0021-9975(82)90011-1</td>\n",
       "      <td>NaN</td>\n",
       "      <td>6296207.0</td>\n",
       "      <td>els-covid</td>\n",
       "      <td>Abstract Five gnotobiotic piglets inoculated o...</td>\n",
       "      <td>1982-10-31</td>\n",
       "      <td>Narita, M.; Fukusho, A.; Shimizu, Y.</td>\n",
       "      <td>Journal of Comparative Pathology</td>\n",
       "      <td>NaN</td>\n",
       "      <td>NaN</td>\n",
       "      <td>True</td>\n",
       "      <td>False</td>\n",
       "      <td>custom_license</td>\n",
       "      <td>https://doi.org/10.1016/0021-9975(82)90011-1</td>\n",
       "    </tr>\n",
       "  </tbody>\n",
       "</table>\n",
       "<p>72 rows × 18 columns</p>\n",
       "</div>"
      ],
      "text/plain": [
       "    cord_uid                                       sha  source_x  \\\n",
       "3   zp9k1k3z  aecbc613ebdab36753235197ffb4f35734b5ca63  Elsevier   \n",
       "5   wwf90zxt  212e990b378e8d267042753d5f9d4a64ea5e9869  Elsevier   \n",
       "6   dlh93ax6  bf5d344243153d58be692ceb26f52c08e2bd2d2f  Elsevier   \n",
       "7   i94lyfsh  ddd2ecf42ec86ad66072962081e1ce4594431f9c  Elsevier   \n",
       "8   vs5yondw  a55cb4e724091ced46b5e55b982a14525eea1c7e  Elsevier   \n",
       "..       ...                                       ...       ...   \n",
       "95  ro3x3qa3  bcea326da7ffbd034aa531671d14f0b907e561cc  Elsevier   \n",
       "96  ootj52fs  0ec192980f4b5026fb0aeef3de313f14ff58ef3d  Elsevier   \n",
       "97  a4f8u1ze  188a50cddda7d12946f81822b3cee70d77d20cb4  Elsevier   \n",
       "98  i8x80knq  f6af90a5e3b6a85f64c42d66bbdc9ec3ace4b2ae  Elsevier   \n",
       "99  7sxioviw  d566761a00777e1dc241fd4966359faf254369c3  Elsevier   \n",
       "\n",
       "                                                title  \\\n",
       "3   Clinical and immunologic studies in identical ...   \n",
       "5   Infectious diarrhea: Pathogenesis and risk fac...   \n",
       "6   New perspectives on the pathogenesis of rheuma...   \n",
       "7   Management of acute and chronic respiratory tr...   \n",
       "8   Acute bronchitis: Results of U.S. and European...   \n",
       "..                                                ...   \n",
       "95  A comparative assessment of four serological m...   \n",
       "96  Immunolabelling of fish host molecules on the ...   \n",
       "97  Identification of diagnostic antigens for Sout...   \n",
       "98  Diagnosis of Babesia caballi infections in hor...   \n",
       "99  Electron microscopy of the intestine of gnotob...   \n",
       "\n",
       "                             doi  pmcid  pubmed_id    license  \\\n",
       "3   10.1016/0002-9343(73)90176-9    NaN  4579077.0  els-covid   \n",
       "5   10.1016/0002-9343(85)90367-5    NaN  2861742.0  els-covid   \n",
       "6   10.1016/0002-9343(88)90356-7    NaN  3052052.0  els-covid   \n",
       "7   10.1016/0002-9343(88)90456-1    NaN  3048091.0  els-covid   \n",
       "8   10.1016/0002-9343(92)90608-e    NaN  1621745.0  els-covid   \n",
       "..                           ...    ...        ...        ...   \n",
       "95  10.1016/0020-7519(88)90147-6    NaN        NaN  els-covid   \n",
       "96  10.1016/0020-7519(94)00076-z    NaN  7622332.0  els-covid   \n",
       "97  10.1016/0020-7519(94)90034-5    NaN  8026903.0  els-covid   \n",
       "98  10.1016/0020-7519(94)90081-7    NaN  8070952.0  els-covid   \n",
       "99  10.1016/0021-9975(82)90011-1    NaN  6296207.0  els-covid   \n",
       "\n",
       "                                             abstract publish_time  \\\n",
       "3   Abstract Middle-aged female identical twins, o...   1973-08-31   \n",
       "5   Abstract Our understanding of the pathogenesis...   1985-06-28   \n",
       "6   Abstract In the pathogenesis of rheumatoid art...   1988-10-14   \n",
       "7   Abstract Pharyngitis, bronchitis, and pneumoni...   1988-09-16   \n",
       "8   Abstract Acute bronchitis, an illness frequent...   1992-06-22   \n",
       "..                                                ...          ...   \n",
       "95  Abstract Antibodies against Crithidia fascicul...   1988-04-30   \n",
       "96  Abstract Immunoblotting, SDS-PAGE and western ...   1995-02-28   \n",
       "97  Abstract Identification of diagnostic antigens...   1994-04-30   \n",
       "98  Abstract From Babesia caballi in vitro culture...   1994-05-31   \n",
       "99  Abstract Five gnotobiotic piglets inoculated o...   1982-10-31   \n",
       "\n",
       "                                              authors  \\\n",
       "3   Brunner, Carolyn M.; Horwitz, David A.; Shann,...   \n",
       "5                                    Cantey, J.Robert   \n",
       "6                                 Zvaifler, Nathan J.   \n",
       "7                                  Ellner, Jerrold J.   \n",
       "8                                    Dere, Willard H.   \n",
       "..                                                ...   \n",
       "95                 Ingram, George A.; Al-Yaman, Fadwa   \n",
       "96                          Williams, M.A.; Hoole, D.   \n",
       "97  Böse, Reinhard; Peymann, Berit; Barbosa, Imke ...   \n",
       "98                     Böse, Reinhard; Peymann, Berit   \n",
       "99               Narita, M.; Fukusho, A.; Shimizu, Y.   \n",
       "\n",
       "                                   journal  Microsoft Academic Paper ID  \\\n",
       "3         The American Journal of Medicine                          NaN   \n",
       "5         The American Journal of Medicine                          NaN   \n",
       "6         The American Journal of Medicine                          NaN   \n",
       "7         The American Journal of Medicine                          NaN   \n",
       "8         The American Journal of Medicine                          NaN   \n",
       "..                                     ...                          ...   \n",
       "95  International Journal for Parasitology                          NaN   \n",
       "96  International Journal for Parasitology                          NaN   \n",
       "97  International Journal for Parasitology                          NaN   \n",
       "98  International Journal for Parasitology                          NaN   \n",
       "99        Journal of Comparative Pathology                          NaN   \n",
       "\n",
       "    WHO #Covidence  has_pdf_parse  has_pmc_xml_parse  full_text_file  \\\n",
       "3              NaN           True              False  custom_license   \n",
       "5              NaN           True              False  custom_license   \n",
       "6              NaN           True              False  custom_license   \n",
       "7              NaN           True              False  custom_license   \n",
       "8              NaN           True              False  custom_license   \n",
       "..             ...            ...                ...             ...   \n",
       "95             NaN           True              False  custom_license   \n",
       "96             NaN           True              False  custom_license   \n",
       "97             NaN           True              False  custom_license   \n",
       "98             NaN           True              False  custom_license   \n",
       "99             NaN           True              False  custom_license   \n",
       "\n",
       "                                             url  \n",
       "3   https://doi.org/10.1016/0002-9343(73)90176-9  \n",
       "5   https://doi.org/10.1016/0002-9343(85)90367-5  \n",
       "6   https://doi.org/10.1016/0002-9343(88)90356-7  \n",
       "7   https://doi.org/10.1016/0002-9343(88)90456-1  \n",
       "8   https://doi.org/10.1016/0002-9343(92)90608-e  \n",
       "..                                           ...  \n",
       "95  https://doi.org/10.1016/0020-7519(88)90147-6  \n",
       "96  https://doi.org/10.1016/0020-7519(94)00076-z  \n",
       "97  https://doi.org/10.1016/0020-7519(94)90034-5  \n",
       "98  https://doi.org/10.1016/0020-7519(94)90081-7  \n",
       "99  https://doi.org/10.1016/0021-9975(82)90011-1  \n",
       "\n",
       "[72 rows x 18 columns]"
      ]
     },
     "execution_count": 10,
     "metadata": {},
     "output_type": "execute_result"
    }
   ],
   "source": [
    "metadata[~pd.isna(metadata['sha'])]"
   ]
  },
  {
   "cell_type": "code",
   "execution_count": 12,
   "metadata": {
    "ExecuteTime": {
     "end_time": "2020-04-27T18:02:07.464861Z",
     "start_time": "2020-04-27T18:02:06.860047Z"
    }
   },
   "outputs": [
    {
     "data": {
      "text/plain": [
       "{'paper_id': 'f94beaebca9e855e0f2f632aefb0c3e44d8fcf54',\n",
       " 'metadata': {'title': '', 'authors': []},\n",
       " 'abstract': [],\n",
       " 'body_text': [{'text': ' Infection (1982) ',\n",
       "   'cite_spans': [{'start': 1,\n",
       "     'end': 17,\n",
       "     'text': 'Infection (1982)',\n",
       "     'ref_id': None}],\n",
       "   'ref_spans': [],\n",
       "   'section': 'Journal of Hospital'},\n",
       "  {'text': 'In a recent prevalence study of nosocomial infection in the United Kingdom (Meers et al., 1981) , there were surprisingly few reports of virus-associated disease. There is, however, clear evidence that enteric viruses may be transmitted to patients in hospitals and other confined communities. The spread of enteroviruses such as Echo (Nagington et al., 1978) and Coxsackie (Pether, 1982) is known to occur in these environments and in the case of neonates has occasionally resulted in serious illness with significant mortality. Transmission of hepatitis A virus has also been documented as an infection hazard, especially in institutions caring for mentally retarded children (Krugman and Giles, 1970) . During the last decade viruses have been recognized as an important major cause of acute diarrhoeal disease. At present rotavirus infection is thought to account for the majority of these cases although there is increasing evidence of episodes associated with other agents, e.g. adenovirus (Flewett et al., 1975) , astrovirus (Kurtz, Lee and Pickering, 1977) , calicivirus (Cubitt, McSwiggan and Arstall, 1980) and coronavirus (Caul, Paver and Clarke, 1975) .',\n",
       "   'cite_spans': [{'start': 75,\n",
       "     'end': 95,\n",
       "     'text': '(Meers et al., 1981)',\n",
       "     'ref_id': 'BIBREF3'},\n",
       "    {'start': 335,\n",
       "     'end': 359,\n",
       "     'text': '(Nagington et al., 1978)',\n",
       "     'ref_id': None},\n",
       "    {'start': 364,\n",
       "     'end': 388,\n",
       "     'text': 'Coxsackie (Pether, 1982)',\n",
       "     'ref_id': None},\n",
       "    {'start': 678,\n",
       "     'end': 703,\n",
       "     'text': '(Krugman and Giles, 1970)',\n",
       "     'ref_id': None},\n",
       "    {'start': 996,\n",
       "     'end': 1018,\n",
       "     'text': '(Flewett et al., 1975)',\n",
       "     'ref_id': None},\n",
       "    {'start': 1040,\n",
       "     'end': 1064,\n",
       "     'text': 'Lee and Pickering, 1977)',\n",
       "     'ref_id': 'BIBREF1'},\n",
       "    {'start': 1079,\n",
       "     'end': 1116,\n",
       "     'text': '(Cubitt, McSwiggan and Arstall, 1980)',\n",
       "     'ref_id': None},\n",
       "    {'start': 1133,\n",
       "     'end': 1163,\n",
       "     'text': '(Caul, Paver and Clarke, 1975)',\n",
       "     'ref_id': None}],\n",
       "   'ref_spans': [],\n",
       "   'section': 'Enteric viruses in hospital-acquired infection'},\n",
       "  {'text': 'In special care baby units, outbreaks of rotavirus infection may cause symptoms of mild diarrhoea and vomiting (Bishop et al., 1976) , but this is not always the case. We have investigated an episode in which infection was accompanied by severe illness which resulted in a number of deaths. Rotavirus may become endemic in such units and under these circumstances infected babies often remain asymptomatic (Chrystie, Totterdell and Banatvala, 1978) . Evidence for this situation was provided by a study of the RNA profiles of rotaviruses affecting neonates in a unit in JJelbourne (Rodger et al., 1981) . In this study, certain strains of virus persisted in the unit for a period of up to four years and differed from strains circulating in the community during this time. Rotavirus infection requiring hospital admission is most common in the six months to three years age group. Nosocomial infections are extremely common in this age range (Holmes, 1979) . Recently there have also been a number of reports of infection in adults, involving both patients and staff. These have taken place in an obstetric unit (Hildreth, Thomas and Ridgeway, 1981) and in several wards and residential homes caring for elderly patients (Cubitt and Holzel, 1980; Holzel et al., 1980) . In these episodes symptoms ranged from mild diarrhoea to severe gastrointestinal fluid loss requiring intravenous rehydration.',\n",
       "   'cite_spans': [{'start': 111,\n",
       "     'end': 132,\n",
       "     'text': '(Bishop et al., 1976)',\n",
       "     'ref_id': None},\n",
       "    {'start': 406,\n",
       "     'end': 448,\n",
       "     'text': '(Chrystie, Totterdell and Banatvala, 1978)',\n",
       "     'ref_id': None},\n",
       "    {'start': 581,\n",
       "     'end': 602,\n",
       "     'text': '(Rodger et al., 1981)',\n",
       "     'ref_id': 'BIBREF6'},\n",
       "    {'start': 942, 'end': 956, 'text': '(Holmes, 1979)', 'ref_id': None},\n",
       "    {'start': 1123,\n",
       "     'end': 1149,\n",
       "     'text': 'Thomas and Ridgeway, 1981)',\n",
       "     'ref_id': None},\n",
       "    {'start': 1221,\n",
       "     'end': 1246,\n",
       "     'text': '(Cubitt and Holzel, 1980;',\n",
       "     'ref_id': None},\n",
       "    {'start': 1247,\n",
       "     'end': 1267,\n",
       "     'text': 'Holzel et al., 1980)',\n",
       "     'ref_id': None}],\n",
       "   'ref_spans': [],\n",
       "   'section': 'Enteric viruses in hospital-acquired infection'},\n",
       "  {'text': 'An appreciation of the world-wide distribution of rotavirus infection became possible only recently following the introduction of methods, e.g. immunofluorescence, ClE and ELISA, which are more readily available than electron microscopy as diagnostic techniques. At present, electron microscopy provides c195-6701/82/02~101 i-04 Soz.oo;o (9 1982 The IIospital Infection Society the only means of diagnosis of infection caused by the non-cultivable gastroenteritis viruses and, therefore, little is known of their true significance in nosocomial infection. During the last year, both astrovirus (Lee and Kurtz, 1981) and adenovirus type 38 (De Jong et al., 1981) h ave been propagated in vitro and further progress along these lines should lead to the development of less sophisticated and expensive means of diagnosis. Transmission of enteric viruses is generally considered to be via the faecaloral route and spread of infection may be from patient to patient, or via members of the hospital staff. Upper respiratory tract symptoms are, however, not infrequently reported in association with gastrointestinal disturbance (Steinhoff, 1980; Cubitt and McSwiggan, 1981) . These findings suggest that spread of virus may occur via the respiratory route, a possibility which requires further investigation.',\n",
       "   'cite_spans': [{'start': 594,\n",
       "     'end': 615,\n",
       "     'text': '(Lee and Kurtz, 1981)',\n",
       "     'ref_id': 'BIBREF2'},\n",
       "    {'start': 639,\n",
       "     'end': 661,\n",
       "     'text': '(De Jong et al., 1981)',\n",
       "     'ref_id': None},\n",
       "    {'start': 1122,\n",
       "     'end': 1139,\n",
       "     'text': '(Steinhoff, 1980;',\n",
       "     'ref_id': 'BIBREF7'},\n",
       "    {'start': 1140,\n",
       "     'end': 1167,\n",
       "     'text': 'Cubitt and McSwiggan, 1981)',\n",
       "     'ref_id': None}],\n",
       "   'ref_spans': [],\n",
       "   'section': 'Enteric viruses in hospital-acquired infection'},\n",
       "  {'text': \"Recent studies (Kurtz, Lee and Parsons, 1980; Tan and Schnagl, 1981) investigating the virucidal activity of various disinfectants, have shown the importance of selecting an appropriate compound. These reports indicated that 90 per cent ethanol was the most effective agent against a whole range of enteric viruses. Tan and Schnagl found that commonly used disinfectants, such as 'Hexol', 'Hibiclens' and 'Betadine', were of little value. These findings should be considered in formulating policies both for hand washing and for the disinfection of contaminated equipment. Use of inefficient bedpan washers is a recognized hazard and this possible source of virus transmission was highlighted in the report concerning the outbreak in an obstetric unit (Hildreth et al., 1981) .\",\n",
       "   'cite_spans': [{'start': 23,\n",
       "     'end': 45,\n",
       "     'text': 'Lee and Parsons, 1980;',\n",
       "     'ref_id': None},\n",
       "    {'start': 46,\n",
       "     'end': 68,\n",
       "     'text': 'Tan and Schnagl, 1981)',\n",
       "     'ref_id': 'BIBREF8'},\n",
       "    {'start': 752,\n",
       "     'end': 775,\n",
       "     'text': '(Hildreth et al., 1981)',\n",
       "     'ref_id': None}],\n",
       "   'ref_spans': [],\n",
       "   'section': 'Enteric viruses in hospital-acquired infection'},\n",
       "  {'text': 'Management of outbreaks of rotavirus infection requires close collaboration between laboratory and clinical staff. Virological investigations are frequently omitted until bacterial causes have been excluded and we strongly recommend that both types of investigations are performed in parallel. Whenever possible faecal specimens from all patients and staff of an infected unit should be screened for the presence of virus. This may be of particular value as some patients may continue to excrete virus long after the cessation of symptoms. Ideally if all cases are to be diagnosed investigations should also include serological tests.',\n",
       "   'cite_spans': [],\n",
       "   'ref_spans': [],\n",
       "   'section': 'Enteric viruses in hospital-acquired infection'},\n",
       "  {'text': \"Our experience of outbreaks in three distinct clinical settings provides information on some aspects of control. Where isolation facilities are provided and correctly used, it is possible to terminate an outbreak rapidly. In practice, isolation cubicles are rarely available and, in units dealing with long-stay patients, control measures are limited to 'stool urine needle' isolation (Bagshawe, Blowers and Lidwell, 1978) and to the limitation of all staff movement from the affected ward. In general wards, where length of hospital stay is short, it may be feasible to close the unit to admissions until no further cases have appeared for 72 h. These measures should limit the extent of the outbreak.\",\n",
       "   'cite_spans': [{'start': 385,\n",
       "     'end': 422,\n",
       "     'text': '(Bagshawe, Blowers and Lidwell, 1978)',\n",
       "     'ref_id': 'BIBREF0'}],\n",
       "   'ref_spans': [],\n",
       "   'section': 'Enteric viruses in hospital-acquired infection'},\n",
       "  {'text': 'It seems likely that a wider realization of the importance of hospital-acquired viral infection supported by the availability of new diagnostic techniques will improve our understanding and management of this type of nosocomial infection. ',\n",
       "   'cite_spans': [],\n",
       "   'ref_spans': [],\n",
       "   'section': 'Enteric viruses in hospital-acquired infection'}],\n",
       " 'bib_entries': {'BIBREF0': {'ref_id': 'b0',\n",
       "   'title': 'Isolating patients in hospital to control infection',\n",
       "   'authors': [{'first': 'K',\n",
       "     'middle': ['D'],\n",
       "     'last': 'Bagshawe',\n",
       "     'suffix': ''},\n",
       "    {'first': 'R', 'middle': [], 'last': 'Blowers', 'suffix': ''},\n",
       "    {'first': '.', 'middle': ['M'], 'last': 'Lidwell', 'suffix': ''}],\n",
       "   'year': 1978,\n",
       "   'venue': 'Journal of Hospital Infection',\n",
       "   'volume': '1',\n",
       "   'issn': '',\n",
       "   'pages': '321--326',\n",
       "   'other_ids': {}},\n",
       "  'BIBREF1': {'ref_id': 'b1',\n",
       "   'title': \"Astrovirus associated gastroenteritis in a children's ward\",\n",
       "   'authors': [{'first': 'J', 'middle': ['B'], 'last': 'Kcrtz', 'suffix': ''},\n",
       "    {'first': 'T', 'middle': ['W'], 'last': 'Lee', 'suffix': ''},\n",
       "    {'first': 'P', 'middle': ['J'], 'last': 'Pickering', 'suffix': ''}],\n",
       "   'year': 1977,\n",
       "   'venue': 'Journal of Clinical Pathology',\n",
       "   'volume': '30',\n",
       "   'issn': '',\n",
       "   'pages': '948--952',\n",
       "   'other_ids': {}},\n",
       "  'BIBREF2': {'ref_id': 'b2',\n",
       "   'title': 'Serial propagation of astrovirus in tissue culture with the aid of trypsin',\n",
       "   'authors': [{'first': 'T', 'middle': ['W'], 'last': 'Lee', 'suffix': ''},\n",
       "    {'first': 'J', 'middle': ['B'], 'last': 'Kurtz', 'suffix': ''}],\n",
       "   'year': 1981,\n",
       "   'venue': 'Journal of General Virology',\n",
       "   'volume': '57',\n",
       "   'issn': '',\n",
       "   'pages': '421--424',\n",
       "   'other_ids': {}},\n",
       "  'BIBREF3': {'ref_id': 'b3',\n",
       "   'title': 'Report on the National Survey of Infection in Hospitals',\n",
       "   'authors': [{'first': 'P', 'middle': ['D'], 'last': 'Meers', 'suffix': ''},\n",
       "    {'first': 'G', 'middle': ['A J'], 'last': 'Ayliffe', 'suffix': ''},\n",
       "    {'first': 'A', 'middle': ['M'], 'last': 'Emmerson', 'suffix': ''},\n",
       "    {'first': 'D', 'middle': ['A'], 'last': 'Leigh', 'suffix': ''},\n",
       "    {'first': 'R', 'middle': ['T'], 'last': 'Mayon-White', 'suffix': ''},\n",
       "    {'first': 'C', 'middle': ['A'], 'last': 'Mackintosh', 'suffix': ''},\n",
       "    {'first': 'J', 'middle': ['L'], 'last': 'Stronge', 'suffix': ''}],\n",
       "   'year': 1980,\n",
       "   'venue': 'Journal of Hospital Infection',\n",
       "   'volume': '2',\n",
       "   'issn': '',\n",
       "   'pages': '',\n",
       "   'other_ids': {}},\n",
       "  'BIBREF5': {'ref_id': 'b5',\n",
       "   'title': 'Coxsackie B2 outbreak in a special care baby unit',\n",
       "   'authors': [{'first': 'J', 'middle': ['V S'], 'last': '', 'suffix': ''}],\n",
       "   'year': 1982,\n",
       "   'venue': '',\n",
       "   'volume': '',\n",
       "   'issn': '',\n",
       "   'pages': '',\n",
       "   'other_ids': {}},\n",
       "  'BIBREF6': {'ref_id': 'b6',\n",
       "   'title': 'Molecular epidemiology of human rotaviruses in Melbourne, Australia from 1973-1979, as determined by electrophoresis of genome ribonucleic acid',\n",
       "   'authors': [{'first': 'J', 'middle': ['M'], 'last': 'Rodger', 'suffix': ''},\n",
       "    {'first': 'R', 'middle': ['F'], 'last': 'Bishop', 'suffix': ''},\n",
       "    {'first': 'C', 'middle': [], 'last': 'Birch', 'suffix': ''},\n",
       "    {'first': 'B', 'middle': [], 'last': 'Mcclean', 'suffix': ''},\n",
       "    {'first': 'I', 'middle': ['H'], 'last': 'Holmes', 'suffix': ''}],\n",
       "   'year': 1981,\n",
       "   'venue': 'Journal of Clinical Microbiology',\n",
       "   'volume': '13',\n",
       "   'issn': '',\n",
       "   'pages': '272--278',\n",
       "   'other_ids': {}},\n",
       "  'BIBREF7': {'ref_id': 'b7',\n",
       "   'title': 'Rotavirus: the first five years',\n",
       "   'authors': [{'first': 'M',\n",
       "     'middle': ['C'],\n",
       "     'last': 'Steinhoff',\n",
       "     'suffix': ''}],\n",
       "   'year': 1980,\n",
       "   'venue': 'Joumul of Puediutrics',\n",
       "   'volume': '96',\n",
       "   'issn': '',\n",
       "   'pages': '611--622',\n",
       "   'other_ids': {}},\n",
       "  'BIBREF8': {'ref_id': 'b8',\n",
       "   'title': 'Inactivation of a rotavirus by disinfectants',\n",
       "   'authors': [{'first': 'J', 'middle': ['A'], 'last': 'Tan', 'suffix': ''},\n",
       "    {'first': 'R', 'middle': ['D'], 'last': 'Schnagl', 'suffix': ''}],\n",
       "   'year': 1981,\n",
       "   'venue': 'Medical Journal of Australia',\n",
       "   'volume': '1',\n",
       "   'issn': '',\n",
       "   'pages': '19--23',\n",
       "   'other_ids': {}}},\n",
       " 'ref_entries': {'TABREF1': {'text': \"Helen S. Holzel King's College Hospital, Denmark Hill, London SE5 6RS W. D. Cubitt Public Health Laboratory, Central Middlesex Hospital, Park Royal, London NW1 0 7NS\",\n",
       "   'latex': None,\n",
       "   'type': 'table'}},\n",
       " 'back_matter': []}"
      ]
     },
     "execution_count": 12,
     "metadata": {},
     "output_type": "execute_result"
    }
   ],
   "source": [
    "id_ = 'f94beaebca9e855e0f2f632aefb0c3e44d8fcf54'\n",
    "subset = 'custom_license'\n",
    "article = aws.read_item(subset, id_, s3=s3)\n",
    "article"
   ]
  },
  {
   "cell_type": "code",
   "execution_count": 3,
   "metadata": {
    "ExecuteTime": {
     "end_time": "2020-04-27T18:00:50.248861Z",
     "start_time": "2020-04-27T18:00:49.638134Z"
    }
   },
   "outputs": [],
   "source": [
    "import spacy\n",
    "import scispacy"
   ]
  },
  {
   "cell_type": "code",
   "execution_count": 4,
   "metadata": {
    "ExecuteTime": {
     "end_time": "2020-04-27T18:00:53.701072Z",
     "start_time": "2020-04-27T18:00:50.881546Z"
    }
   },
   "outputs": [],
   "source": [
    "nlp = spacy.load(\"en_core_sci_sm\", disable=[\"ner\"])"
   ]
  },
  {
   "cell_type": "code",
   "execution_count": 14,
   "metadata": {
    "ExecuteTime": {
     "end_time": "2020-04-27T18:03:09.463594Z",
     "start_time": "2020-04-27T18:03:09.250545Z"
    }
   },
   "outputs": [],
   "source": [
    "section = article['body_text'][1]\n",
    "doc = nlp(section['text'])"
   ]
  },
  {
   "cell_type": "code",
   "execution_count": 17,
   "metadata": {
    "ExecuteTime": {
     "end_time": "2020-04-27T18:03:17.615570Z",
     "start_time": "2020-04-27T18:03:17.552595Z"
    }
   },
   "outputs": [
    {
     "data": {
      "text/plain": [
       "[In a recent prevalence study of nosocomial infection in the United Kingdom (Meers et al., 1981) , there were surprisingly few reports of virus-associated disease.,\n",
       " There is, however, clear evidence that enteric viruses may be transmitted to patients in hospitals and other confined communities.,\n",
       " The spread of enteroviruses such as Echo (Nagington et al., 1978) and Coxsackie (Pether, 1982) is known to occur in these environments and in the case of neonates has occasionally resulted in serious illness with significant mortality.,\n",
       " Transmission of hepatitis A virus has also been documented as an infection hazard, especially in institutions caring for mentally retarded children (Krugman and Giles, 1970) .,\n",
       " During the last decade viruses have been recognized as an important major cause of acute diarrhoeal disease.,\n",
       " At present rotavirus infection is thought to account for the majority of these cases although there is increasing evidence of episodes associated with other agents, e.g. adenovirus (Flewett et al., 1975) , astrovirus (Kurtz, Lee and Pickering, 1977) , calicivirus (Cubitt, McSwiggan and Arstall, 1980) and coronavirus (Caul, Paver and Clarke, 1975) .]"
      ]
     },
     "execution_count": 17,
     "metadata": {},
     "output_type": "execute_result"
    }
   ],
   "source": [
    "list(doc.sents)"
   ]
  },
  {
   "cell_type": "code",
   "execution_count": 27,
   "metadata": {
    "ExecuteTime": {
     "end_time": "2020-04-27T18:04:42.550603Z",
     "start_time": "2020-04-27T18:04:42.490464Z"
    }
   },
   "outputs": [],
   "source": [
    "sentences = list(doc.sents)"
   ]
  },
  {
   "cell_type": "code",
   "execution_count": 42,
   "metadata": {
    "ExecuteTime": {
     "end_time": "2020-04-27T18:20:41.782860Z",
     "start_time": "2020-04-27T18:20:41.728234Z"
    }
   },
   "outputs": [
    {
     "name": "stdout",
     "output_type": "stream",
     "text": [
      "START: 0 -- END: 162\n",
      "In a recent prevalence study of nosocomial infection in the United Kingdom (Meers et al., 1981) , there were surprisingly few reports of virus-associated disease.\n"
     ]
    }
   ],
   "source": [
    "print(f'START: {sentences[0].start_char} -- END: {sentences[0].end_char}')\n",
    "print(sentences[0])"
   ]
  },
  {
   "cell_type": "code",
   "execution_count": 43,
   "metadata": {
    "ExecuteTime": {
     "end_time": "2020-04-27T18:20:43.858871Z",
     "start_time": "2020-04-27T18:20:43.793904Z"
    }
   },
   "outputs": [
    {
     "data": {
      "text/plain": [
       "94"
      ]
     },
     "execution_count": 43,
     "metadata": {},
     "output_type": "execute_result"
    }
   ],
   "source": [
    "sentences[0].text.index(')')"
   ]
  },
  {
   "cell_type": "code",
   "execution_count": 44,
   "metadata": {
    "ExecuteTime": {
     "end_time": "2020-04-27T18:20:53.355056Z",
     "start_time": "2020-04-27T18:20:53.299342Z"
    }
   },
   "outputs": [
    {
     "name": "stdout",
     "output_type": "stream",
     "text": [
      "START: 163 -- END: 293\n",
      "There is, however, clear evidence that enteric viruses may be transmitted to patients in hospitals and other confined communities.\n"
     ]
    }
   ],
   "source": [
    "print(f'START: {sentences[1].start_char} -- END: {sentences[1].end_char}')\n",
    "print(sentences[1])"
   ]
  },
  {
   "cell_type": "code",
   "execution_count": 45,
   "metadata": {
    "ExecuteTime": {
     "end_time": "2020-04-27T18:20:56.255360Z",
     "start_time": "2020-04-27T18:20:56.196676Z"
    }
   },
   "outputs": [
    {
     "data": {
      "text/plain": [
       "[{'start': 75, 'end': 95, 'text': '(Meers et al., 1981)', 'ref_id': 'BIBREF3'},\n",
       " {'start': 335,\n",
       "  'end': 359,\n",
       "  'text': '(Nagington et al., 1978)',\n",
       "  'ref_id': None},\n",
       " {'start': 364,\n",
       "  'end': 388,\n",
       "  'text': 'Coxsackie (Pether, 1982)',\n",
       "  'ref_id': None},\n",
       " {'start': 678,\n",
       "  'end': 703,\n",
       "  'text': '(Krugman and Giles, 1970)',\n",
       "  'ref_id': None},\n",
       " {'start': 996, 'end': 1018, 'text': '(Flewett et al., 1975)', 'ref_id': None},\n",
       " {'start': 1040,\n",
       "  'end': 1064,\n",
       "  'text': 'Lee and Pickering, 1977)',\n",
       "  'ref_id': 'BIBREF1'},\n",
       " {'start': 1079,\n",
       "  'end': 1116,\n",
       "  'text': '(Cubitt, McSwiggan and Arstall, 1980)',\n",
       "  'ref_id': None},\n",
       " {'start': 1133,\n",
       "  'end': 1163,\n",
       "  'text': '(Caul, Paver and Clarke, 1975)',\n",
       "  'ref_id': None}]"
      ]
     },
     "execution_count": 45,
     "metadata": {},
     "output_type": "execute_result"
    }
   ],
   "source": [
    "section['cite_spans']"
   ]
  },
  {
   "cell_type": "code",
   "execution_count": 46,
   "metadata": {
    "ExecuteTime": {
     "end_time": "2020-04-27T18:21:01.703369Z",
     "start_time": "2020-04-27T18:21:01.659142Z"
    }
   },
   "outputs": [
    {
     "data": {
      "text/plain": [
       "[162, 293, 529, 705, 814, 1165]"
      ]
     },
     "execution_count": 46,
     "metadata": {},
     "output_type": "execute_result"
    }
   ],
   "source": [
    "sent_ends = [sent.end_char for sent in sentences]\n",
    "sent_ends"
   ]
  },
  {
   "cell_type": "code",
   "execution_count": 47,
   "metadata": {
    "ExecuteTime": {
     "end_time": "2020-04-27T18:21:03.134680Z",
     "start_time": "2020-04-27T18:21:03.010741Z"
    }
   },
   "outputs": [
    {
     "data": {
      "text/plain": [
       "{'start': 364, 'end': 388, 'text': 'Coxsackie (Pether, 1982)', 'ref_id': None}"
      ]
     },
     "execution_count": 47,
     "metadata": {},
     "output_type": "execute_result"
    }
   ],
   "source": [
    "cite_ex = section['cite_spans'][2]\n",
    "cite_ex"
   ]
  },
  {
   "cell_type": "code",
   "execution_count": 51,
   "metadata": {
    "ExecuteTime": {
     "end_time": "2020-04-27T18:21:26.270059Z",
     "start_time": "2020-04-27T18:21:26.172426Z"
    }
   },
   "outputs": [
    {
     "data": {
      "text/plain": [
       "2"
      ]
     },
     "execution_count": 51,
     "metadata": {},
     "output_type": "execute_result"
    }
   ],
   "source": [
    "np.searchsorted(sent_ends, cite_ex['end'])"
   ]
  },
  {
   "cell_type": "code",
   "execution_count": 54,
   "metadata": {
    "ExecuteTime": {
     "end_time": "2020-04-27T18:22:14.243343Z",
     "start_time": "2020-04-27T18:22:14.141174Z"
    }
   },
   "outputs": [
    {
     "data": {
      "text/plain": [
       "2"
      ]
     },
     "execution_count": 54,
     "metadata": {},
     "output_type": "execute_result"
    }
   ],
   "source": [
    "np.searchsorted(sent_ends, 529, side='left')"
   ]
  },
  {
   "cell_type": "code",
   "execution_count": 56,
   "metadata": {
    "ExecuteTime": {
     "end_time": "2020-04-27T18:25:26.138726Z",
     "start_time": "2020-04-27T18:25:26.029782Z"
    }
   },
   "outputs": [
    {
     "data": {
      "text/plain": [
       "[In a recent prevalence study of nosocomial infection in the United Kingdom (Meers et al., 1981) , there were surprisingly few reports of virus-associated disease.]"
      ]
     },
     "execution_count": 56,
     "metadata": {},
     "output_type": "execute_result"
    }
   ],
   "source": [
    "sentences[0:1]"
   ]
  },
  {
   "cell_type": "code",
   "execution_count": 65,
   "metadata": {
    "ExecuteTime": {
     "end_time": "2020-04-27T18:32:51.072547Z",
     "start_time": "2020-04-27T18:32:50.933870Z"
    }
   },
   "outputs": [
    {
     "name": "stdout",
     "output_type": "stream",
     "text": [
      "CPU times: user 125 µs, sys: 2 µs, total: 127 µs\n",
      "Wall time: 136 µs\n"
     ]
    },
    {
     "data": {
      "text/plain": [
       "'In a recent prevalence study of nosocomial infection in the United Kingdom <CITE> , there were surprisingly few reports of virus-associated disease.'"
      ]
     },
     "execution_count": 65,
     "metadata": {},
     "output_type": "execute_result"
    }
   ],
   "source": [
    "%time sentences[0].text.replace('(Meers et al., 1981)', '<CITE>')"
   ]
  },
  {
   "cell_type": "code",
   "execution_count": 67,
   "metadata": {
    "ExecuteTime": {
     "end_time": "2020-04-27T18:33:18.607786Z",
     "start_time": "2020-04-27T18:33:18.560215Z"
    }
   },
   "outputs": [
    {
     "name": "stdout",
     "output_type": "stream",
     "text": [
      "CPU times: user 338 µs, sys: 7 µs, total: 345 µs\n",
      "Wall time: 354 µs\n"
     ]
    },
    {
     "data": {
      "text/plain": [
       "'In a recent prevalence study of nosocomial infection in the United Kingdom <CITE> , there were surprisingly few reports of virus-associated disease.'"
      ]
     },
     "execution_count": 67,
     "metadata": {},
     "output_type": "execute_result"
    }
   ],
   "source": [
    "%time re.sub(re.escape('(Meers et al., 1981)'), '<CITE>', sentences[0].text)"
   ]
  },
  {
   "cell_type": "code",
   "execution_count": 71,
   "metadata": {
    "ExecuteTime": {
     "end_time": "2020-04-27T18:35:12.609758Z",
     "start_time": "2020-04-27T18:35:12.540656Z"
    }
   },
   "outputs": [
    {
     "data": {
      "text/plain": [
       "'In a recent prevalence study of nosocomial infection in the United Kingdom (Meers et al., 1981) , there were surprisingly few reports of virus-associated disease. There is, however, clear evidence that enteric viruses may be transmitted to patients in hospitals and other confined communities.'"
      ]
     },
     "execution_count": 71,
     "metadata": {},
     "output_type": "execute_result"
    }
   ],
   "source": [
    "' '.join([s.text for s in sentences[0:2]])"
   ]
  },
  {
   "cell_type": "code",
   "execution_count": 79,
   "metadata": {
    "ExecuteTime": {
     "end_time": "2020-04-27T20:35:13.920057Z",
     "start_time": "2020-04-27T20:35:13.845677Z"
    }
   },
   "outputs": [],
   "source": [
    "import csv"
   ]
  },
  {
   "cell_type": "code",
   "execution_count": 81,
   "metadata": {
    "ExecuteTime": {
     "end_time": "2020-04-27T20:43:43.895477Z",
     "start_time": "2020-04-27T20:43:43.805799Z"
    }
   },
   "outputs": [],
   "source": [
    "with (config.raw / 'cord19_articles.csv').open('w') as fp:\n",
    "    csvwriter = csv.writer(fp)\n",
    "    \n",
    "    csvwriter.writerow(['test1', 'test2', 'test3'])\n",
    "    csvwriter.writerow(['r1', 'r2', 'r3'])\n",
    "    csvwriter.writerow(['text with, a comma', 'text with, a semicolon;', 'r3'])"
   ]
  },
  {
   "cell_type": "code",
   "execution_count": null,
   "metadata": {},
   "outputs": [],
   "source": []
  },
  {
   "cell_type": "code",
   "execution_count": 75,
   "metadata": {
    "ExecuteTime": {
     "end_time": "2020-04-27T20:33:23.244498Z",
     "start_time": "2020-04-27T20:33:22.540839Z"
    }
   },
   "outputs": [],
   "source": [
    "fp = (config.raw / 'cord19_articles.csv').open('w')"
   ]
  },
  {
   "cell_type": "code",
   "execution_count": 78,
   "metadata": {
    "ExecuteTime": {
     "end_time": "2020-04-27T20:33:50.414649Z",
     "start_time": "2020-04-27T20:33:50.316156Z"
    }
   },
   "outputs": [
    {
     "data": {
      "text/plain": [
       "8"
      ]
     },
     "execution_count": 78,
     "metadata": {},
     "output_type": "execute_result"
    }
   ],
   "source": [
    "fp.write(','.join(['test1', 'test2', 'test3']))\n",
    "fp.write(','.join(['11', '12', '13']))\n",
    "fp.write(','.join(['21', '22', '23']))"
   ]
  },
  {
   "cell_type": "code",
   "execution_count": null,
   "metadata": {},
   "outputs": [],
   "source": []
  }
 ],
 "metadata": {
  "kernelspec": {
   "display_name": "Python 3",
   "language": "python",
   "name": "python3"
  },
  "varInspector": {
   "cols": {
    "lenName": 16,
    "lenType": 16,
    "lenVar": 40
   },
   "kernels_config": {
    "python": {
     "delete_cmd_postfix": "",
     "delete_cmd_prefix": "del ",
     "library": "var_list.py",
     "varRefreshCmd": "print(var_dic_list())"
    },
    "r": {
     "delete_cmd_postfix": ") ",
     "delete_cmd_prefix": "rm(",
     "library": "var_list.r",
     "varRefreshCmd": "cat(var_dic_list()) "
    }
   },
   "types_to_exclude": [
    "module",
    "function",
    "builtin_function_or_method",
    "instance",
    "_Feature"
   ],
   "window_display": false
  }
 },
 "nbformat": 4,
 "nbformat_minor": 2
}
