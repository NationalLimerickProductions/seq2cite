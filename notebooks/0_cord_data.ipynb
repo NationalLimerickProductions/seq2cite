{
 "cells": [
  {
   "cell_type": "code",
   "execution_count": 109,
   "metadata": {
    "ExecuteTime": {
     "end_time": "2020-04-27T22:10:27.098158Z",
     "start_time": "2020-04-27T22:10:27.006290Z"
    }
   },
   "outputs": [
    {
     "name": "stdout",
     "output_type": "stream",
     "text": [
      "The autoreload extension is already loaded. To reload it, use:\n",
      "  %reload_ext autoreload\n",
      "The line_profiler extension is already loaded. To reload it, use:\n",
      "  %reload_ext line_profiler\n"
     ]
    }
   ],
   "source": [
    "import json\n",
    "import requests\n",
    "import re\n",
    "\n",
    "from tqdm.notebook import tqdm\n",
    "\n",
    "import pandas as pd\n",
    "import numpy as np\n",
    "\n",
    "from seq2cite import config, utils, aws, text\n",
    "\n",
    "import sys\n",
    "if str(config.src) not in sys.path:\n",
    "    sys.path.append(str(config.src))\n",
    "\n",
    "processing_data = __import__('0_processing_data')\n",
    "\n",
    "%load_ext autoreload\n",
    "%autoreload 2\n",
    "%load_ext line_profiler"
   ]
  },
  {
   "cell_type": "markdown",
   "metadata": {},
   "source": [
    "# Exploring CORD-19 Dataset"
   ]
  },
  {
   "cell_type": "code",
   "execution_count": 5,
   "metadata": {
    "ExecuteTime": {
     "end_time": "2020-04-27T18:01:16.454608Z",
     "start_time": "2020-04-27T18:01:15.968049Z"
    }
   },
   "outputs": [],
   "source": [
    "s3, s3_resource = aws.connect_aws_s3()\n",
    "cord19_bucket = aws.get_cord19_bucket(s3, s3_resource)"
   ]
  },
  {
   "cell_type": "code",
   "execution_count": 6,
   "metadata": {
    "ExecuteTime": {
     "end_time": "2020-04-27T18:01:16.854373Z",
     "start_time": "2020-04-27T18:01:16.782662Z"
    }
   },
   "outputs": [],
   "source": [
    "def list_bucket_contents(bucket_resource, match='', size_mb=0):\n",
    "    total_size_gb = 0\n",
    "    total_files = 0\n",
    "    match_size_gb = 0\n",
    "    match_files = 0\n",
    "    for key in bucket_resource.objects.all():\n",
    "        key_size_mb = key.size/1024/1024\n",
    "        total_size_gb += key_size_mb\n",
    "        total_files += 1\n",
    "        list_check = False\n",
    "        if not match:\n",
    "            list_check = True\n",
    "        elif match in key.key:\n",
    "            list_check = True\n",
    "        if list_check and not size_mb:\n",
    "            match_files += 1\n",
    "            match_size_gb += key_size_mb\n",
    "            print(f'{key.key} ({key_size_mb:3.0f}MB)')\n",
    "        elif list_check and key_size_mb <= size_mb:\n",
    "            match_files += 1\n",
    "            match_size_gb += key_size_mb\n",
    "            print(f'{key.key} ({key_sizexmb:3.0f}MB)')\n",
    "\n",
    "        if key.key.endswith('.json'):\n",
    "            break\n",
    "    if match:\n",
    "        print(f'Matched file size is {match_size_gb/1024:3.1f}GB with {match_files} files')            \n",
    "    \n",
    "    print(f'Bucket total size is {total_size_gb/1024:3.1f}GB with {total_files} files')\n",
    "    \n",
    "    "
   ]
  },
  {
   "cell_type": "code",
   "execution_count": 7,
   "metadata": {
    "ExecuteTime": {
     "end_time": "2020-04-27T18:01:20.017568Z",
     "start_time": "2020-04-27T18:01:17.565453Z"
    }
   },
   "outputs": [
    {
     "name": "stdout",
     "output_type": "stream",
     "text": [
      "2020-03-13/COVID.DATA.LIC.AGMT.pdf (  0MB)\n",
      "2020-03-13/all_sources_metadata_2020-03-13.csv ( 48MB)\n",
      "2020-03-13/all_sources_metadata_2020-03-13.readme (  0MB)\n",
      "2020-03-13/biorxiv_medrxiv.tar.gz ( 13MB)\n",
      "2020-03-13/comm_use_subset.tar.gz (186MB)\n",
      "2020-03-13/json_schema.txt (  0MB)\n",
      "2020-03-13/noncomm_use_subset.tar.gz ( 36MB)\n",
      "2020-03-13/pmc_custom_license.tar.gz ( 19MB)\n",
      "2020-03-20/biorxiv_medrxiv.tar.gz ( 13MB)\n",
      "2020-03-20/changelog (  0MB)\n",
      "2020-03-20/comm_use_subset.tar.gz (183MB)\n",
      "2020-03-20/custom_license.tar.gz (344MB)\n",
      "2020-03-20/metadata.csv ( 60MB)\n",
      "2020-03-20/noncomm_use_subset.tar.gz ( 40MB)\n",
      "2020-03-27/biorxiv_medrxiv.tar.gz ( 15MB)\n",
      "2020-03-27/changelog (  0MB)\n",
      "2020-03-27/comm_use_subset.tar.gz (186MB)\n",
      "2020-03-27/custom_license.tar.gz (414MB)\n",
      "2020-03-27/metadata.csv ( 66MB)\n",
      "2020-03-27/metadata_with_mag_mapping.csv ( 68MB)\n",
      "2020-03-27/noncomm_use_subset.tar.gz ( 40MB)\n",
      "2020-04-03/biorxiv_medrxiv.tar.gz ( 18MB)\n",
      "2020-04-03/changelog (  0MB)\n",
      "2020-04-03/comm_use_subset.tar.gz (346MB)\n",
      "2020-04-03/cord19_specter_embeddings_2020-04-03.tar.gz (303MB)\n",
      "2020-04-03/custom_license.tar.gz (512MB)\n",
      "2020-04-03/metadata.csv ( 69MB)\n",
      "2020-04-03/metadata_with_mag_mapping_04_03.csv ( 69MB)\n",
      "2020-04-03/noncomm_use_subset.tar.gz ( 70MB)\n",
      "2020-04-10/04-10-mag-mapping.csv ( 75MB)\n",
      "2020-04-10/biorxiv_medrxiv.tar.gz ( 21MB)\n",
      "2020-04-10/changelog (  0MB)\n",
      "2020-04-10/comm_use_subset.tar.gz (350MB)\n",
      "2020-04-10/cord19_specter_embeddings_2020-04-10.tar.gz (327MB)\n",
      "2020-04-10/custom_license.tar.gz (629MB)\n",
      "2020-04-10/metadata.csv ( 74MB)\n",
      "2020-04-10/noncomm_use_subset.tar.gz ( 73MB)\n",
      "2020-04-17/biorxiv_medrxiv.tar.gz ( 25MB)\n",
      "2020-04-17/biorxiv_medrxiv/pdf_json/0015023cc06b5362d332b3baf348d11567ca2fbb.json (  0MB)\n",
      "Bucket total size is 4.6GB with 39 files\n"
     ]
    }
   ],
   "source": [
    "list_bucket_contents(cord19_bucket)"
   ]
  },
  {
   "cell_type": "code",
   "execution_count": 8,
   "metadata": {
    "ExecuteTime": {
     "end_time": "2020-04-27T18:01:20.642930Z",
     "start_time": "2020-04-27T18:01:20.593433Z"
    }
   },
   "outputs": [],
   "source": [
    "def preview_csv_dataset(bucket, key, rows=10):\n",
    "    data_source = {\n",
    "            'Bucket': bucket,\n",
    "            'Key': key\n",
    "        }\n",
    "    # Generate the URL to get Key from Bucket\n",
    "    url = s3.generate_presigned_url(\n",
    "        ClientMethod = 'get_object',\n",
    "        Params = data_source\n",
    "    )\n",
    "\n",
    "    data = pd.read_csv(url, nrows=rows)\n",
    "    return data"
   ]
  },
  {
   "cell_type": "code",
   "execution_count": 9,
   "metadata": {
    "ExecuteTime": {
     "end_time": "2020-04-27T18:01:25.385296Z",
     "start_time": "2020-04-27T18:01:21.092888Z"
    }
   },
   "outputs": [
    {
     "data": {
      "text/html": [
       "<div>\n",
       "<style scoped>\n",
       "    .dataframe tbody tr th:only-of-type {\n",
       "        vertical-align: middle;\n",
       "    }\n",
       "\n",
       "    .dataframe tbody tr th {\n",
       "        vertical-align: top;\n",
       "    }\n",
       "\n",
       "    .dataframe thead th {\n",
       "        text-align: right;\n",
       "    }\n",
       "</style>\n",
       "<table border=\"1\" class=\"dataframe\">\n",
       "  <thead>\n",
       "    <tr style=\"text-align: right;\">\n",
       "      <th></th>\n",
       "      <th>cord_uid</th>\n",
       "      <th>sha</th>\n",
       "      <th>source_x</th>\n",
       "      <th>title</th>\n",
       "      <th>doi</th>\n",
       "      <th>pmcid</th>\n",
       "      <th>pubmed_id</th>\n",
       "      <th>license</th>\n",
       "      <th>abstract</th>\n",
       "      <th>publish_time</th>\n",
       "      <th>authors</th>\n",
       "      <th>journal</th>\n",
       "      <th>Microsoft Academic Paper ID</th>\n",
       "      <th>WHO #Covidence</th>\n",
       "      <th>has_pdf_parse</th>\n",
       "      <th>has_pmc_xml_parse</th>\n",
       "      <th>full_text_file</th>\n",
       "      <th>url</th>\n",
       "    </tr>\n",
       "  </thead>\n",
       "  <tbody>\n",
       "    <tr>\n",
       "      <th>0</th>\n",
       "      <td>8q5ondtn</td>\n",
       "      <td>NaN</td>\n",
       "      <td>Elsevier</td>\n",
       "      <td>Intrauterine virus infections and congenital h...</td>\n",
       "      <td>10.1016/0002-8703(72)90077-4</td>\n",
       "      <td>NaN</td>\n",
       "      <td>4361535.0</td>\n",
       "      <td>els-covid</td>\n",
       "      <td>Abstract The etiologic basis for the vast majo...</td>\n",
       "      <td>1972-12-31</td>\n",
       "      <td>Overall, James C.</td>\n",
       "      <td>American Heart Journal</td>\n",
       "      <td>NaN</td>\n",
       "      <td>NaN</td>\n",
       "      <td>False</td>\n",
       "      <td>False</td>\n",
       "      <td>custom_license</td>\n",
       "      <td>https://doi.org/10.1016/0002-8703(72)90077-4</td>\n",
       "    </tr>\n",
       "    <tr>\n",
       "      <th>1</th>\n",
       "      <td>pzfd0e50</td>\n",
       "      <td>NaN</td>\n",
       "      <td>Elsevier</td>\n",
       "      <td>Coronaviruses in Balkan nephritis</td>\n",
       "      <td>10.1016/0002-8703(80)90355-5</td>\n",
       "      <td>NaN</td>\n",
       "      <td>6243850.0</td>\n",
       "      <td>els-covid</td>\n",
       "      <td>NaN</td>\n",
       "      <td>1980-03-31</td>\n",
       "      <td>Georgescu, Leonida; Diosi, Peter; Buţiu, Ioan;...</td>\n",
       "      <td>American Heart Journal</td>\n",
       "      <td>NaN</td>\n",
       "      <td>NaN</td>\n",
       "      <td>False</td>\n",
       "      <td>False</td>\n",
       "      <td>custom_license</td>\n",
       "      <td>https://doi.org/10.1016/0002-8703(80)90355-5</td>\n",
       "    </tr>\n",
       "    <tr>\n",
       "      <th>2</th>\n",
       "      <td>22bka3gi</td>\n",
       "      <td>NaN</td>\n",
       "      <td>Elsevier</td>\n",
       "      <td>Cigarette smoking and coronary heart disease: ...</td>\n",
       "      <td>10.1016/0002-8703(80)90356-7</td>\n",
       "      <td>NaN</td>\n",
       "      <td>7355701.0</td>\n",
       "      <td>els-covid</td>\n",
       "      <td>NaN</td>\n",
       "      <td>1980-03-31</td>\n",
       "      <td>Friedman, Gary D</td>\n",
       "      <td>American Heart Journal</td>\n",
       "      <td>NaN</td>\n",
       "      <td>NaN</td>\n",
       "      <td>False</td>\n",
       "      <td>False</td>\n",
       "      <td>custom_license</td>\n",
       "      <td>https://doi.org/10.1016/0002-8703(80)90356-7</td>\n",
       "    </tr>\n",
       "    <tr>\n",
       "      <th>3</th>\n",
       "      <td>zp9k1k3z</td>\n",
       "      <td>aecbc613ebdab36753235197ffb4f35734b5ca63</td>\n",
       "      <td>Elsevier</td>\n",
       "      <td>Clinical and immunologic studies in identical ...</td>\n",
       "      <td>10.1016/0002-9343(73)90176-9</td>\n",
       "      <td>NaN</td>\n",
       "      <td>4579077.0</td>\n",
       "      <td>els-covid</td>\n",
       "      <td>Abstract Middle-aged female identical twins, o...</td>\n",
       "      <td>1973-08-31</td>\n",
       "      <td>Brunner, Carolyn M.; Horwitz, David A.; Shann,...</td>\n",
       "      <td>The American Journal of Medicine</td>\n",
       "      <td>NaN</td>\n",
       "      <td>NaN</td>\n",
       "      <td>True</td>\n",
       "      <td>False</td>\n",
       "      <td>custom_license</td>\n",
       "      <td>https://doi.org/10.1016/0002-9343(73)90176-9</td>\n",
       "    </tr>\n",
       "    <tr>\n",
       "      <th>4</th>\n",
       "      <td>cjuzul89</td>\n",
       "      <td>NaN</td>\n",
       "      <td>Elsevier</td>\n",
       "      <td>Epidemiology of community-acquired respiratory...</td>\n",
       "      <td>10.1016/0002-9343(85)90361-4</td>\n",
       "      <td>NaN</td>\n",
       "      <td>4014285.0</td>\n",
       "      <td>els-covid</td>\n",
       "      <td>Abstract Upper respiratory tract infections ar...</td>\n",
       "      <td>1985-06-28</td>\n",
       "      <td>Garibaldi, Richard A.</td>\n",
       "      <td>The American Journal of Medicine</td>\n",
       "      <td>NaN</td>\n",
       "      <td>NaN</td>\n",
       "      <td>False</td>\n",
       "      <td>False</td>\n",
       "      <td>custom_license</td>\n",
       "      <td>https://doi.org/10.1016/0002-9343(85)90361-4</td>\n",
       "    </tr>\n",
       "    <tr>\n",
       "      <th>...</th>\n",
       "      <td>...</td>\n",
       "      <td>...</td>\n",
       "      <td>...</td>\n",
       "      <td>...</td>\n",
       "      <td>...</td>\n",
       "      <td>...</td>\n",
       "      <td>...</td>\n",
       "      <td>...</td>\n",
       "      <td>...</td>\n",
       "      <td>...</td>\n",
       "      <td>...</td>\n",
       "      <td>...</td>\n",
       "      <td>...</td>\n",
       "      <td>...</td>\n",
       "      <td>...</td>\n",
       "      <td>...</td>\n",
       "      <td>...</td>\n",
       "      <td>...</td>\n",
       "    </tr>\n",
       "    <tr>\n",
       "      <th>95</th>\n",
       "      <td>ro3x3qa3</td>\n",
       "      <td>bcea326da7ffbd034aa531671d14f0b907e561cc</td>\n",
       "      <td>Elsevier</td>\n",
       "      <td>A comparative assessment of four serological m...</td>\n",
       "      <td>10.1016/0020-7519(88)90147-6</td>\n",
       "      <td>NaN</td>\n",
       "      <td>NaN</td>\n",
       "      <td>els-covid</td>\n",
       "      <td>Abstract Antibodies against Crithidia fascicul...</td>\n",
       "      <td>1988-04-30</td>\n",
       "      <td>Ingram, George A.; Al-Yaman, Fadwa</td>\n",
       "      <td>International Journal for Parasitology</td>\n",
       "      <td>NaN</td>\n",
       "      <td>NaN</td>\n",
       "      <td>True</td>\n",
       "      <td>False</td>\n",
       "      <td>custom_license</td>\n",
       "      <td>https://doi.org/10.1016/0020-7519(88)90147-6</td>\n",
       "    </tr>\n",
       "    <tr>\n",
       "      <th>96</th>\n",
       "      <td>ootj52fs</td>\n",
       "      <td>0ec192980f4b5026fb0aeef3de313f14ff58ef3d</td>\n",
       "      <td>Elsevier</td>\n",
       "      <td>Immunolabelling of fish host molecules on the ...</td>\n",
       "      <td>10.1016/0020-7519(94)00076-z</td>\n",
       "      <td>NaN</td>\n",
       "      <td>7622332.0</td>\n",
       "      <td>els-covid</td>\n",
       "      <td>Abstract Immunoblotting, SDS-PAGE and western ...</td>\n",
       "      <td>1995-02-28</td>\n",
       "      <td>Williams, M.A.; Hoole, D.</td>\n",
       "      <td>International Journal for Parasitology</td>\n",
       "      <td>NaN</td>\n",
       "      <td>NaN</td>\n",
       "      <td>True</td>\n",
       "      <td>False</td>\n",
       "      <td>custom_license</td>\n",
       "      <td>https://doi.org/10.1016/0020-7519(94)00076-z</td>\n",
       "    </tr>\n",
       "    <tr>\n",
       "      <th>97</th>\n",
       "      <td>a4f8u1ze</td>\n",
       "      <td>188a50cddda7d12946f81822b3cee70d77d20cb4</td>\n",
       "      <td>Elsevier</td>\n",
       "      <td>Identification of diagnostic antigens for Sout...</td>\n",
       "      <td>10.1016/0020-7519(94)90034-5</td>\n",
       "      <td>NaN</td>\n",
       "      <td>8026903.0</td>\n",
       "      <td>els-covid</td>\n",
       "      <td>Abstract Identification of diagnostic antigens...</td>\n",
       "      <td>1994-04-30</td>\n",
       "      <td>Böse, Reinhard; Peymann, Berit; Barbosa, Imke ...</td>\n",
       "      <td>International Journal for Parasitology</td>\n",
       "      <td>NaN</td>\n",
       "      <td>NaN</td>\n",
       "      <td>True</td>\n",
       "      <td>False</td>\n",
       "      <td>custom_license</td>\n",
       "      <td>https://doi.org/10.1016/0020-7519(94)90034-5</td>\n",
       "    </tr>\n",
       "    <tr>\n",
       "      <th>98</th>\n",
       "      <td>i8x80knq</td>\n",
       "      <td>f6af90a5e3b6a85f64c42d66bbdc9ec3ace4b2ae</td>\n",
       "      <td>Elsevier</td>\n",
       "      <td>Diagnosis of Babesia caballi infections in hor...</td>\n",
       "      <td>10.1016/0020-7519(94)90081-7</td>\n",
       "      <td>NaN</td>\n",
       "      <td>8070952.0</td>\n",
       "      <td>els-covid</td>\n",
       "      <td>Abstract From Babesia caballi in vitro culture...</td>\n",
       "      <td>1994-05-31</td>\n",
       "      <td>Böse, Reinhard; Peymann, Berit</td>\n",
       "      <td>International Journal for Parasitology</td>\n",
       "      <td>NaN</td>\n",
       "      <td>NaN</td>\n",
       "      <td>True</td>\n",
       "      <td>False</td>\n",
       "      <td>custom_license</td>\n",
       "      <td>https://doi.org/10.1016/0020-7519(94)90081-7</td>\n",
       "    </tr>\n",
       "    <tr>\n",
       "      <th>99</th>\n",
       "      <td>7sxioviw</td>\n",
       "      <td>d566761a00777e1dc241fd4966359faf254369c3</td>\n",
       "      <td>Elsevier</td>\n",
       "      <td>Electron microscopy of the intestine of gnotob...</td>\n",
       "      <td>10.1016/0021-9975(82)90011-1</td>\n",
       "      <td>NaN</td>\n",
       "      <td>6296207.0</td>\n",
       "      <td>els-covid</td>\n",
       "      <td>Abstract Five gnotobiotic piglets inoculated o...</td>\n",
       "      <td>1982-10-31</td>\n",
       "      <td>Narita, M.; Fukusho, A.; Shimizu, Y.</td>\n",
       "      <td>Journal of Comparative Pathology</td>\n",
       "      <td>NaN</td>\n",
       "      <td>NaN</td>\n",
       "      <td>True</td>\n",
       "      <td>False</td>\n",
       "      <td>custom_license</td>\n",
       "      <td>https://doi.org/10.1016/0021-9975(82)90011-1</td>\n",
       "    </tr>\n",
       "  </tbody>\n",
       "</table>\n",
       "<p>100 rows × 18 columns</p>\n",
       "</div>"
      ],
      "text/plain": [
       "    cord_uid                                       sha  source_x  \\\n",
       "0   8q5ondtn                                       NaN  Elsevier   \n",
       "1   pzfd0e50                                       NaN  Elsevier   \n",
       "2   22bka3gi                                       NaN  Elsevier   \n",
       "3   zp9k1k3z  aecbc613ebdab36753235197ffb4f35734b5ca63  Elsevier   \n",
       "4   cjuzul89                                       NaN  Elsevier   \n",
       "..       ...                                       ...       ...   \n",
       "95  ro3x3qa3  bcea326da7ffbd034aa531671d14f0b907e561cc  Elsevier   \n",
       "96  ootj52fs  0ec192980f4b5026fb0aeef3de313f14ff58ef3d  Elsevier   \n",
       "97  a4f8u1ze  188a50cddda7d12946f81822b3cee70d77d20cb4  Elsevier   \n",
       "98  i8x80knq  f6af90a5e3b6a85f64c42d66bbdc9ec3ace4b2ae  Elsevier   \n",
       "99  7sxioviw  d566761a00777e1dc241fd4966359faf254369c3  Elsevier   \n",
       "\n",
       "                                                title  \\\n",
       "0   Intrauterine virus infections and congenital h...   \n",
       "1                   Coronaviruses in Balkan nephritis   \n",
       "2   Cigarette smoking and coronary heart disease: ...   \n",
       "3   Clinical and immunologic studies in identical ...   \n",
       "4   Epidemiology of community-acquired respiratory...   \n",
       "..                                                ...   \n",
       "95  A comparative assessment of four serological m...   \n",
       "96  Immunolabelling of fish host molecules on the ...   \n",
       "97  Identification of diagnostic antigens for Sout...   \n",
       "98  Diagnosis of Babesia caballi infections in hor...   \n",
       "99  Electron microscopy of the intestine of gnotob...   \n",
       "\n",
       "                             doi  pmcid  pubmed_id    license  \\\n",
       "0   10.1016/0002-8703(72)90077-4    NaN  4361535.0  els-covid   \n",
       "1   10.1016/0002-8703(80)90355-5    NaN  6243850.0  els-covid   \n",
       "2   10.1016/0002-8703(80)90356-7    NaN  7355701.0  els-covid   \n",
       "3   10.1016/0002-9343(73)90176-9    NaN  4579077.0  els-covid   \n",
       "4   10.1016/0002-9343(85)90361-4    NaN  4014285.0  els-covid   \n",
       "..                           ...    ...        ...        ...   \n",
       "95  10.1016/0020-7519(88)90147-6    NaN        NaN  els-covid   \n",
       "96  10.1016/0020-7519(94)00076-z    NaN  7622332.0  els-covid   \n",
       "97  10.1016/0020-7519(94)90034-5    NaN  8026903.0  els-covid   \n",
       "98  10.1016/0020-7519(94)90081-7    NaN  8070952.0  els-covid   \n",
       "99  10.1016/0021-9975(82)90011-1    NaN  6296207.0  els-covid   \n",
       "\n",
       "                                             abstract publish_time  \\\n",
       "0   Abstract The etiologic basis for the vast majo...   1972-12-31   \n",
       "1                                                 NaN   1980-03-31   \n",
       "2                                                 NaN   1980-03-31   \n",
       "3   Abstract Middle-aged female identical twins, o...   1973-08-31   \n",
       "4   Abstract Upper respiratory tract infections ar...   1985-06-28   \n",
       "..                                                ...          ...   \n",
       "95  Abstract Antibodies against Crithidia fascicul...   1988-04-30   \n",
       "96  Abstract Immunoblotting, SDS-PAGE and western ...   1995-02-28   \n",
       "97  Abstract Identification of diagnostic antigens...   1994-04-30   \n",
       "98  Abstract From Babesia caballi in vitro culture...   1994-05-31   \n",
       "99  Abstract Five gnotobiotic piglets inoculated o...   1982-10-31   \n",
       "\n",
       "                                              authors  \\\n",
       "0                                   Overall, James C.   \n",
       "1   Georgescu, Leonida; Diosi, Peter; Buţiu, Ioan;...   \n",
       "2                                    Friedman, Gary D   \n",
       "3   Brunner, Carolyn M.; Horwitz, David A.; Shann,...   \n",
       "4                               Garibaldi, Richard A.   \n",
       "..                                                ...   \n",
       "95                 Ingram, George A.; Al-Yaman, Fadwa   \n",
       "96                          Williams, M.A.; Hoole, D.   \n",
       "97  Böse, Reinhard; Peymann, Berit; Barbosa, Imke ...   \n",
       "98                     Böse, Reinhard; Peymann, Berit   \n",
       "99               Narita, M.; Fukusho, A.; Shimizu, Y.   \n",
       "\n",
       "                                   journal  Microsoft Academic Paper ID  \\\n",
       "0                   American Heart Journal                          NaN   \n",
       "1                   American Heart Journal                          NaN   \n",
       "2                   American Heart Journal                          NaN   \n",
       "3         The American Journal of Medicine                          NaN   \n",
       "4         The American Journal of Medicine                          NaN   \n",
       "..                                     ...                          ...   \n",
       "95  International Journal for Parasitology                          NaN   \n",
       "96  International Journal for Parasitology                          NaN   \n",
       "97  International Journal for Parasitology                          NaN   \n",
       "98  International Journal for Parasitology                          NaN   \n",
       "99        Journal of Comparative Pathology                          NaN   \n",
       "\n",
       "    WHO #Covidence  has_pdf_parse  has_pmc_xml_parse  full_text_file  \\\n",
       "0              NaN          False              False  custom_license   \n",
       "1              NaN          False              False  custom_license   \n",
       "2              NaN          False              False  custom_license   \n",
       "3              NaN           True              False  custom_license   \n",
       "4              NaN          False              False  custom_license   \n",
       "..             ...            ...                ...             ...   \n",
       "95             NaN           True              False  custom_license   \n",
       "96             NaN           True              False  custom_license   \n",
       "97             NaN           True              False  custom_license   \n",
       "98             NaN           True              False  custom_license   \n",
       "99             NaN           True              False  custom_license   \n",
       "\n",
       "                                             url  \n",
       "0   https://doi.org/10.1016/0002-8703(72)90077-4  \n",
       "1   https://doi.org/10.1016/0002-8703(80)90355-5  \n",
       "2   https://doi.org/10.1016/0002-8703(80)90356-7  \n",
       "3   https://doi.org/10.1016/0002-9343(73)90176-9  \n",
       "4   https://doi.org/10.1016/0002-9343(85)90361-4  \n",
       "..                                           ...  \n",
       "95  https://doi.org/10.1016/0020-7519(88)90147-6  \n",
       "96  https://doi.org/10.1016/0020-7519(94)00076-z  \n",
       "97  https://doi.org/10.1016/0020-7519(94)90034-5  \n",
       "98  https://doi.org/10.1016/0020-7519(94)90081-7  \n",
       "99  https://doi.org/10.1016/0021-9975(82)90011-1  \n",
       "\n",
       "[100 rows x 18 columns]"
      ]
     },
     "execution_count": 9,
     "metadata": {},
     "output_type": "execute_result"
    }
   ],
   "source": [
    "metadata = pd.read_csv(f's3://{config.cord19_aws_bucket}/2020-04-03/metadata.csv',\n",
    "                       nrows=100,\n",
    "                       skiprows=0,\n",
    "                      names=config.metadata_columns,\n",
    "                      header=0)\n",
    "metadata"
   ]
  },
  {
   "cell_type": "code",
   "execution_count": 10,
   "metadata": {
    "ExecuteTime": {
     "end_time": "2020-04-27T18:01:27.625876Z",
     "start_time": "2020-04-27T18:01:27.421353Z"
    }
   },
   "outputs": [
    {
     "data": {
      "text/html": [
       "<div>\n",
       "<style scoped>\n",
       "    .dataframe tbody tr th:only-of-type {\n",
       "        vertical-align: middle;\n",
       "    }\n",
       "\n",
       "    .dataframe tbody tr th {\n",
       "        vertical-align: top;\n",
       "    }\n",
       "\n",
       "    .dataframe thead th {\n",
       "        text-align: right;\n",
       "    }\n",
       "</style>\n",
       "<table border=\"1\" class=\"dataframe\">\n",
       "  <thead>\n",
       "    <tr style=\"text-align: right;\">\n",
       "      <th></th>\n",
       "      <th>cord_uid</th>\n",
       "      <th>sha</th>\n",
       "      <th>source_x</th>\n",
       "      <th>title</th>\n",
       "      <th>doi</th>\n",
       "      <th>pmcid</th>\n",
       "      <th>pubmed_id</th>\n",
       "      <th>license</th>\n",
       "      <th>abstract</th>\n",
       "      <th>publish_time</th>\n",
       "      <th>authors</th>\n",
       "      <th>journal</th>\n",
       "      <th>Microsoft Academic Paper ID</th>\n",
       "      <th>WHO #Covidence</th>\n",
       "      <th>has_pdf_parse</th>\n",
       "      <th>has_pmc_xml_parse</th>\n",
       "      <th>full_text_file</th>\n",
       "      <th>url</th>\n",
       "    </tr>\n",
       "  </thead>\n",
       "  <tbody>\n",
       "    <tr>\n",
       "      <th>3</th>\n",
       "      <td>zp9k1k3z</td>\n",
       "      <td>aecbc613ebdab36753235197ffb4f35734b5ca63</td>\n",
       "      <td>Elsevier</td>\n",
       "      <td>Clinical and immunologic studies in identical ...</td>\n",
       "      <td>10.1016/0002-9343(73)90176-9</td>\n",
       "      <td>NaN</td>\n",
       "      <td>4579077.0</td>\n",
       "      <td>els-covid</td>\n",
       "      <td>Abstract Middle-aged female identical twins, o...</td>\n",
       "      <td>1973-08-31</td>\n",
       "      <td>Brunner, Carolyn M.; Horwitz, David A.; Shann,...</td>\n",
       "      <td>The American Journal of Medicine</td>\n",
       "      <td>NaN</td>\n",
       "      <td>NaN</td>\n",
       "      <td>True</td>\n",
       "      <td>False</td>\n",
       "      <td>custom_license</td>\n",
       "      <td>https://doi.org/10.1016/0002-9343(73)90176-9</td>\n",
       "    </tr>\n",
       "    <tr>\n",
       "      <th>5</th>\n",
       "      <td>wwf90zxt</td>\n",
       "      <td>212e990b378e8d267042753d5f9d4a64ea5e9869</td>\n",
       "      <td>Elsevier</td>\n",
       "      <td>Infectious diarrhea: Pathogenesis and risk fac...</td>\n",
       "      <td>10.1016/0002-9343(85)90367-5</td>\n",
       "      <td>NaN</td>\n",
       "      <td>2861742.0</td>\n",
       "      <td>els-covid</td>\n",
       "      <td>Abstract Our understanding of the pathogenesis...</td>\n",
       "      <td>1985-06-28</td>\n",
       "      <td>Cantey, J.Robert</td>\n",
       "      <td>The American Journal of Medicine</td>\n",
       "      <td>NaN</td>\n",
       "      <td>NaN</td>\n",
       "      <td>True</td>\n",
       "      <td>False</td>\n",
       "      <td>custom_license</td>\n",
       "      <td>https://doi.org/10.1016/0002-9343(85)90367-5</td>\n",
       "    </tr>\n",
       "    <tr>\n",
       "      <th>6</th>\n",
       "      <td>dlh93ax6</td>\n",
       "      <td>bf5d344243153d58be692ceb26f52c08e2bd2d2f</td>\n",
       "      <td>Elsevier</td>\n",
       "      <td>New perspectives on the pathogenesis of rheuma...</td>\n",
       "      <td>10.1016/0002-9343(88)90356-7</td>\n",
       "      <td>NaN</td>\n",
       "      <td>3052052.0</td>\n",
       "      <td>els-covid</td>\n",
       "      <td>Abstract In the pathogenesis of rheumatoid art...</td>\n",
       "      <td>1988-10-14</td>\n",
       "      <td>Zvaifler, Nathan J.</td>\n",
       "      <td>The American Journal of Medicine</td>\n",
       "      <td>NaN</td>\n",
       "      <td>NaN</td>\n",
       "      <td>True</td>\n",
       "      <td>False</td>\n",
       "      <td>custom_license</td>\n",
       "      <td>https://doi.org/10.1016/0002-9343(88)90356-7</td>\n",
       "    </tr>\n",
       "    <tr>\n",
       "      <th>7</th>\n",
       "      <td>i94lyfsh</td>\n",
       "      <td>ddd2ecf42ec86ad66072962081e1ce4594431f9c</td>\n",
       "      <td>Elsevier</td>\n",
       "      <td>Management of acute and chronic respiratory tr...</td>\n",
       "      <td>10.1016/0002-9343(88)90456-1</td>\n",
       "      <td>NaN</td>\n",
       "      <td>3048091.0</td>\n",
       "      <td>els-covid</td>\n",
       "      <td>Abstract Pharyngitis, bronchitis, and pneumoni...</td>\n",
       "      <td>1988-09-16</td>\n",
       "      <td>Ellner, Jerrold J.</td>\n",
       "      <td>The American Journal of Medicine</td>\n",
       "      <td>NaN</td>\n",
       "      <td>NaN</td>\n",
       "      <td>True</td>\n",
       "      <td>False</td>\n",
       "      <td>custom_license</td>\n",
       "      <td>https://doi.org/10.1016/0002-9343(88)90456-1</td>\n",
       "    </tr>\n",
       "    <tr>\n",
       "      <th>8</th>\n",
       "      <td>vs5yondw</td>\n",
       "      <td>a55cb4e724091ced46b5e55b982a14525eea1c7e</td>\n",
       "      <td>Elsevier</td>\n",
       "      <td>Acute bronchitis: Results of U.S. and European...</td>\n",
       "      <td>10.1016/0002-9343(92)90608-e</td>\n",
       "      <td>NaN</td>\n",
       "      <td>1621745.0</td>\n",
       "      <td>els-covid</td>\n",
       "      <td>Abstract Acute bronchitis, an illness frequent...</td>\n",
       "      <td>1992-06-22</td>\n",
       "      <td>Dere, Willard H.</td>\n",
       "      <td>The American Journal of Medicine</td>\n",
       "      <td>NaN</td>\n",
       "      <td>NaN</td>\n",
       "      <td>True</td>\n",
       "      <td>False</td>\n",
       "      <td>custom_license</td>\n",
       "      <td>https://doi.org/10.1016/0002-9343(92)90608-e</td>\n",
       "    </tr>\n",
       "    <tr>\n",
       "      <th>...</th>\n",
       "      <td>...</td>\n",
       "      <td>...</td>\n",
       "      <td>...</td>\n",
       "      <td>...</td>\n",
       "      <td>...</td>\n",
       "      <td>...</td>\n",
       "      <td>...</td>\n",
       "      <td>...</td>\n",
       "      <td>...</td>\n",
       "      <td>...</td>\n",
       "      <td>...</td>\n",
       "      <td>...</td>\n",
       "      <td>...</td>\n",
       "      <td>...</td>\n",
       "      <td>...</td>\n",
       "      <td>...</td>\n",
       "      <td>...</td>\n",
       "      <td>...</td>\n",
       "    </tr>\n",
       "    <tr>\n",
       "      <th>95</th>\n",
       "      <td>ro3x3qa3</td>\n",
       "      <td>bcea326da7ffbd034aa531671d14f0b907e561cc</td>\n",
       "      <td>Elsevier</td>\n",
       "      <td>A comparative assessment of four serological m...</td>\n",
       "      <td>10.1016/0020-7519(88)90147-6</td>\n",
       "      <td>NaN</td>\n",
       "      <td>NaN</td>\n",
       "      <td>els-covid</td>\n",
       "      <td>Abstract Antibodies against Crithidia fascicul...</td>\n",
       "      <td>1988-04-30</td>\n",
       "      <td>Ingram, George A.; Al-Yaman, Fadwa</td>\n",
       "      <td>International Journal for Parasitology</td>\n",
       "      <td>NaN</td>\n",
       "      <td>NaN</td>\n",
       "      <td>True</td>\n",
       "      <td>False</td>\n",
       "      <td>custom_license</td>\n",
       "      <td>https://doi.org/10.1016/0020-7519(88)90147-6</td>\n",
       "    </tr>\n",
       "    <tr>\n",
       "      <th>96</th>\n",
       "      <td>ootj52fs</td>\n",
       "      <td>0ec192980f4b5026fb0aeef3de313f14ff58ef3d</td>\n",
       "      <td>Elsevier</td>\n",
       "      <td>Immunolabelling of fish host molecules on the ...</td>\n",
       "      <td>10.1016/0020-7519(94)00076-z</td>\n",
       "      <td>NaN</td>\n",
       "      <td>7622332.0</td>\n",
       "      <td>els-covid</td>\n",
       "      <td>Abstract Immunoblotting, SDS-PAGE and western ...</td>\n",
       "      <td>1995-02-28</td>\n",
       "      <td>Williams, M.A.; Hoole, D.</td>\n",
       "      <td>International Journal for Parasitology</td>\n",
       "      <td>NaN</td>\n",
       "      <td>NaN</td>\n",
       "      <td>True</td>\n",
       "      <td>False</td>\n",
       "      <td>custom_license</td>\n",
       "      <td>https://doi.org/10.1016/0020-7519(94)00076-z</td>\n",
       "    </tr>\n",
       "    <tr>\n",
       "      <th>97</th>\n",
       "      <td>a4f8u1ze</td>\n",
       "      <td>188a50cddda7d12946f81822b3cee70d77d20cb4</td>\n",
       "      <td>Elsevier</td>\n",
       "      <td>Identification of diagnostic antigens for Sout...</td>\n",
       "      <td>10.1016/0020-7519(94)90034-5</td>\n",
       "      <td>NaN</td>\n",
       "      <td>8026903.0</td>\n",
       "      <td>els-covid</td>\n",
       "      <td>Abstract Identification of diagnostic antigens...</td>\n",
       "      <td>1994-04-30</td>\n",
       "      <td>Böse, Reinhard; Peymann, Berit; Barbosa, Imke ...</td>\n",
       "      <td>International Journal for Parasitology</td>\n",
       "      <td>NaN</td>\n",
       "      <td>NaN</td>\n",
       "      <td>True</td>\n",
       "      <td>False</td>\n",
       "      <td>custom_license</td>\n",
       "      <td>https://doi.org/10.1016/0020-7519(94)90034-5</td>\n",
       "    </tr>\n",
       "    <tr>\n",
       "      <th>98</th>\n",
       "      <td>i8x80knq</td>\n",
       "      <td>f6af90a5e3b6a85f64c42d66bbdc9ec3ace4b2ae</td>\n",
       "      <td>Elsevier</td>\n",
       "      <td>Diagnosis of Babesia caballi infections in hor...</td>\n",
       "      <td>10.1016/0020-7519(94)90081-7</td>\n",
       "      <td>NaN</td>\n",
       "      <td>8070952.0</td>\n",
       "      <td>els-covid</td>\n",
       "      <td>Abstract From Babesia caballi in vitro culture...</td>\n",
       "      <td>1994-05-31</td>\n",
       "      <td>Böse, Reinhard; Peymann, Berit</td>\n",
       "      <td>International Journal for Parasitology</td>\n",
       "      <td>NaN</td>\n",
       "      <td>NaN</td>\n",
       "      <td>True</td>\n",
       "      <td>False</td>\n",
       "      <td>custom_license</td>\n",
       "      <td>https://doi.org/10.1016/0020-7519(94)90081-7</td>\n",
       "    </tr>\n",
       "    <tr>\n",
       "      <th>99</th>\n",
       "      <td>7sxioviw</td>\n",
       "      <td>d566761a00777e1dc241fd4966359faf254369c3</td>\n",
       "      <td>Elsevier</td>\n",
       "      <td>Electron microscopy of the intestine of gnotob...</td>\n",
       "      <td>10.1016/0021-9975(82)90011-1</td>\n",
       "      <td>NaN</td>\n",
       "      <td>6296207.0</td>\n",
       "      <td>els-covid</td>\n",
       "      <td>Abstract Five gnotobiotic piglets inoculated o...</td>\n",
       "      <td>1982-10-31</td>\n",
       "      <td>Narita, M.; Fukusho, A.; Shimizu, Y.</td>\n",
       "      <td>Journal of Comparative Pathology</td>\n",
       "      <td>NaN</td>\n",
       "      <td>NaN</td>\n",
       "      <td>True</td>\n",
       "      <td>False</td>\n",
       "      <td>custom_license</td>\n",
       "      <td>https://doi.org/10.1016/0021-9975(82)90011-1</td>\n",
       "    </tr>\n",
       "  </tbody>\n",
       "</table>\n",
       "<p>72 rows × 18 columns</p>\n",
       "</div>"
      ],
      "text/plain": [
       "    cord_uid                                       sha  source_x  \\\n",
       "3   zp9k1k3z  aecbc613ebdab36753235197ffb4f35734b5ca63  Elsevier   \n",
       "5   wwf90zxt  212e990b378e8d267042753d5f9d4a64ea5e9869  Elsevier   \n",
       "6   dlh93ax6  bf5d344243153d58be692ceb26f52c08e2bd2d2f  Elsevier   \n",
       "7   i94lyfsh  ddd2ecf42ec86ad66072962081e1ce4594431f9c  Elsevier   \n",
       "8   vs5yondw  a55cb4e724091ced46b5e55b982a14525eea1c7e  Elsevier   \n",
       "..       ...                                       ...       ...   \n",
       "95  ro3x3qa3  bcea326da7ffbd034aa531671d14f0b907e561cc  Elsevier   \n",
       "96  ootj52fs  0ec192980f4b5026fb0aeef3de313f14ff58ef3d  Elsevier   \n",
       "97  a4f8u1ze  188a50cddda7d12946f81822b3cee70d77d20cb4  Elsevier   \n",
       "98  i8x80knq  f6af90a5e3b6a85f64c42d66bbdc9ec3ace4b2ae  Elsevier   \n",
       "99  7sxioviw  d566761a00777e1dc241fd4966359faf254369c3  Elsevier   \n",
       "\n",
       "                                                title  \\\n",
       "3   Clinical and immunologic studies in identical ...   \n",
       "5   Infectious diarrhea: Pathogenesis and risk fac...   \n",
       "6   New perspectives on the pathogenesis of rheuma...   \n",
       "7   Management of acute and chronic respiratory tr...   \n",
       "8   Acute bronchitis: Results of U.S. and European...   \n",
       "..                                                ...   \n",
       "95  A comparative assessment of four serological m...   \n",
       "96  Immunolabelling of fish host molecules on the ...   \n",
       "97  Identification of diagnostic antigens for Sout...   \n",
       "98  Diagnosis of Babesia caballi infections in hor...   \n",
       "99  Electron microscopy of the intestine of gnotob...   \n",
       "\n",
       "                             doi  pmcid  pubmed_id    license  \\\n",
       "3   10.1016/0002-9343(73)90176-9    NaN  4579077.0  els-covid   \n",
       "5   10.1016/0002-9343(85)90367-5    NaN  2861742.0  els-covid   \n",
       "6   10.1016/0002-9343(88)90356-7    NaN  3052052.0  els-covid   \n",
       "7   10.1016/0002-9343(88)90456-1    NaN  3048091.0  els-covid   \n",
       "8   10.1016/0002-9343(92)90608-e    NaN  1621745.0  els-covid   \n",
       "..                           ...    ...        ...        ...   \n",
       "95  10.1016/0020-7519(88)90147-6    NaN        NaN  els-covid   \n",
       "96  10.1016/0020-7519(94)00076-z    NaN  7622332.0  els-covid   \n",
       "97  10.1016/0020-7519(94)90034-5    NaN  8026903.0  els-covid   \n",
       "98  10.1016/0020-7519(94)90081-7    NaN  8070952.0  els-covid   \n",
       "99  10.1016/0021-9975(82)90011-1    NaN  6296207.0  els-covid   \n",
       "\n",
       "                                             abstract publish_time  \\\n",
       "3   Abstract Middle-aged female identical twins, o...   1973-08-31   \n",
       "5   Abstract Our understanding of the pathogenesis...   1985-06-28   \n",
       "6   Abstract In the pathogenesis of rheumatoid art...   1988-10-14   \n",
       "7   Abstract Pharyngitis, bronchitis, and pneumoni...   1988-09-16   \n",
       "8   Abstract Acute bronchitis, an illness frequent...   1992-06-22   \n",
       "..                                                ...          ...   \n",
       "95  Abstract Antibodies against Crithidia fascicul...   1988-04-30   \n",
       "96  Abstract Immunoblotting, SDS-PAGE and western ...   1995-02-28   \n",
       "97  Abstract Identification of diagnostic antigens...   1994-04-30   \n",
       "98  Abstract From Babesia caballi in vitro culture...   1994-05-31   \n",
       "99  Abstract Five gnotobiotic piglets inoculated o...   1982-10-31   \n",
       "\n",
       "                                              authors  \\\n",
       "3   Brunner, Carolyn M.; Horwitz, David A.; Shann,...   \n",
       "5                                    Cantey, J.Robert   \n",
       "6                                 Zvaifler, Nathan J.   \n",
       "7                                  Ellner, Jerrold J.   \n",
       "8                                    Dere, Willard H.   \n",
       "..                                                ...   \n",
       "95                 Ingram, George A.; Al-Yaman, Fadwa   \n",
       "96                          Williams, M.A.; Hoole, D.   \n",
       "97  Böse, Reinhard; Peymann, Berit; Barbosa, Imke ...   \n",
       "98                     Böse, Reinhard; Peymann, Berit   \n",
       "99               Narita, M.; Fukusho, A.; Shimizu, Y.   \n",
       "\n",
       "                                   journal  Microsoft Academic Paper ID  \\\n",
       "3         The American Journal of Medicine                          NaN   \n",
       "5         The American Journal of Medicine                          NaN   \n",
       "6         The American Journal of Medicine                          NaN   \n",
       "7         The American Journal of Medicine                          NaN   \n",
       "8         The American Journal of Medicine                          NaN   \n",
       "..                                     ...                          ...   \n",
       "95  International Journal for Parasitology                          NaN   \n",
       "96  International Journal for Parasitology                          NaN   \n",
       "97  International Journal for Parasitology                          NaN   \n",
       "98  International Journal for Parasitology                          NaN   \n",
       "99        Journal of Comparative Pathology                          NaN   \n",
       "\n",
       "    WHO #Covidence  has_pdf_parse  has_pmc_xml_parse  full_text_file  \\\n",
       "3              NaN           True              False  custom_license   \n",
       "5              NaN           True              False  custom_license   \n",
       "6              NaN           True              False  custom_license   \n",
       "7              NaN           True              False  custom_license   \n",
       "8              NaN           True              False  custom_license   \n",
       "..             ...            ...                ...             ...   \n",
       "95             NaN           True              False  custom_license   \n",
       "96             NaN           True              False  custom_license   \n",
       "97             NaN           True              False  custom_license   \n",
       "98             NaN           True              False  custom_license   \n",
       "99             NaN           True              False  custom_license   \n",
       "\n",
       "                                             url  \n",
       "3   https://doi.org/10.1016/0002-9343(73)90176-9  \n",
       "5   https://doi.org/10.1016/0002-9343(85)90367-5  \n",
       "6   https://doi.org/10.1016/0002-9343(88)90356-7  \n",
       "7   https://doi.org/10.1016/0002-9343(88)90456-1  \n",
       "8   https://doi.org/10.1016/0002-9343(92)90608-e  \n",
       "..                                           ...  \n",
       "95  https://doi.org/10.1016/0020-7519(88)90147-6  \n",
       "96  https://doi.org/10.1016/0020-7519(94)00076-z  \n",
       "97  https://doi.org/10.1016/0020-7519(94)90034-5  \n",
       "98  https://doi.org/10.1016/0020-7519(94)90081-7  \n",
       "99  https://doi.org/10.1016/0021-9975(82)90011-1  \n",
       "\n",
       "[72 rows x 18 columns]"
      ]
     },
     "execution_count": 10,
     "metadata": {},
     "output_type": "execute_result"
    }
   ],
   "source": [
    "metadata[~pd.isna(metadata['sha'])]"
   ]
  },
  {
   "cell_type": "code",
   "execution_count": 140,
   "metadata": {
    "ExecuteTime": {
     "end_time": "2020-04-28T01:36:43.568855Z",
     "start_time": "2020-04-28T01:36:43.342734Z"
    }
   },
   "outputs": [
    {
     "ename": "AttributeError",
     "evalue": "'dict' object has no attribute 'sha'",
     "output_type": "error",
     "traceback": [
      "\u001b[0;31m---------------------------------------------------------------------------\u001b[0m",
      "\u001b[0;31mAttributeError\u001b[0m                            Traceback (most recent call last)",
      "\u001b[0;32m<ipython-input-140-cfc807afd41d>\u001b[0m in \u001b[0;36m<module>\u001b[0;34m\u001b[0m\n\u001b[0;32m----> 1\u001b[0;31m \u001b[0mmetadata\u001b[0m\u001b[0;34m.\u001b[0m\u001b[0mhead\u001b[0m\u001b[0;34m(\u001b[0m\u001b[0;36m10\u001b[0m\u001b[0;34m)\u001b[0m\u001b[0;34m.\u001b[0m\u001b[0mto_dict\u001b[0m\u001b[0;34m(\u001b[0m\u001b[0;34m'records'\u001b[0m\u001b[0;34m)\u001b[0m\u001b[0;34m[\u001b[0m\u001b[0;36m0\u001b[0m\u001b[0;34m]\u001b[0m\u001b[0;34m.\u001b[0m\u001b[0msha\u001b[0m\u001b[0;34m\u001b[0m\u001b[0;34m\u001b[0m\u001b[0m\n\u001b[0m",
      "\u001b[0;31mAttributeError\u001b[0m: 'dict' object has no attribute 'sha'"
     ]
    }
   ],
   "source": [
    "metadata.head(10).to_dict('records')[0].sha"
   ]
  },
  {
   "cell_type": "code",
   "execution_count": 141,
   "metadata": {
    "ExecuteTime": {
     "end_time": "2020-04-28T01:42:50.289448Z",
     "start_time": "2020-04-28T01:42:50.031916Z"
    }
   },
   "outputs": [
    {
     "data": {
      "text/plain": [
       "(1, 3, 6, 5, 6, 7)"
      ]
     },
     "execution_count": 141,
     "metadata": {},
     "output_type": "execute_result"
    }
   ],
   "source": [
    "tup1 = (1, 3, 6)\n",
    "tup2 = (5, 6, 7)\n",
    "tup1 + tup2"
   ]
  },
  {
   "cell_type": "code",
   "execution_count": 122,
   "metadata": {
    "ExecuteTime": {
     "end_time": "2020-04-28T01:16:25.178582Z",
     "start_time": "2020-04-28T01:16:23.710485Z"
    }
   },
   "outputs": [
    {
     "data": {
      "text/plain": [
       "{'paper_id': 'f6af90a5e3b6a85f64c42d66bbdc9ec3ace4b2ae',\n",
       " 'metadata': {'title': 'DIAGNOSIS OF BABESIA CABALLI INFECTIONS IN HORSES BY ENZYME-LINKED IMMUNOSORBENT ASSAY (ELISA) AND WESTERN BLOT',\n",
       "  'authors': [{'first': 'Reinhard',\n",
       "    'middle': [],\n",
       "    'last': 'Bose',\n",
       "    'suffix': '',\n",
       "    'affiliation': {},\n",
       "    'email': ''},\n",
       "   {'first': 'Berit',\n",
       "    'middle': [],\n",
       "    'last': 'Peymann',\n",
       "    'suffix': '',\n",
       "    'affiliation': {},\n",
       "    'email': ''}]},\n",
       " 'abstract': [{'text': 'R. and PEYMANN 3. 1994. Diagnosis of &&sia caba& infections in horses by enzymelinked immunosorbent assay (ELBA) and Western blot. inrernntionalJaurnulfnr Parasitology 24: 341-346. From Bubesia cabal/i in vitro cultures a preparation of 100% infected erythrocytes was obtained. From this, B. cabutli antigens were extracted with the detergent 3-[(3-CholamidopropyI)-dimethylammonio]-lpropane-sulfonate (CHAPS) and used as ELISA antigens. A control antigen of normal erythrocytes from the same donor horse was prepared in an identical manner. The ELBA and Western blot were validated by testing of sera from horses experimentally infected with B. caballi or B. equi or not infected with Babesia spp. ELISA and Western blot results were compared with those obtained by the immunofluorescence antibody test (IFAT) and complement fixation test (CFT). The sensitivity of the ELISA of98.3% obtained for sera from day 14 after infection was superior to the Western blot (94.9%), the IFAT (96.6%) and the CFT (28.8%). No positive results were obtained in the ELISA and Western blot with 106 sera from horses not infected with &b&a spp. resulting in a calculated specificity of 100% for both tests. Cross reactions of 8.',\n",
       "   'cite_spans': [],\n",
       "   'ref_spans': [],\n",
       "   'section': 'Abstract'},\n",
       "  {'text': 'cqui-positive sera did occur to a larger extent in the ELBA (20%) than in the IFAT (4%). No cross reactions were observed with the Western blot and the CFT. The higher sensitivity of the ELISA was also demonstrated by testing of t 32 field sera: more positi~s resuhs were obtained by ELBA (112) as compared to IFAT (92) or CFT (41). The validity of these results was confirmed by testing of sera by Western blot. The ELBA as the most sensitive test provides the best method for the identifi~tion of carrier horses to prevent the introduction into non-endemic areas (export testing). Positive ELBA results can be confirmed by Western blot, if a species-specific diagnosis is required. 20: 4348.',\n",
       "   'cite_spans': [],\n",
       "   'ref_spans': [],\n",
       "   'section': 'Abstract'}],\n",
       " 'body_text': [{'text': 'INDEX KEY WORDS: Babesia cahelli. sero diagnosis; ELISA; Western blot; IFAT; CFT.',\n",
       "   'cite_spans': [],\n",
       "   'ref_spans': [],\n",
       "   'section': ''},\n",
       "  {'text': 'Bubesiu caballi and 3. equiare obligate intraerythrocytic parasites of equines. They are the causative agents of equine babesioses which are endemic in most tropical and subtropical areas of the world (Friedhoff, 1982; Friedhoff, Tenter & Miller, 1990) . Whereas 8. cabalii only invades erythrocytes B. equi is also capable of infecting lymphocytes (Schein, Rehbein, Voigt & Zweygarth, 1981) . Both parasites are transmitted by tick vectors with almost worldwide distribution (Fricdhoff, 1982) . Consequently, it is important to prevent the introduction of carrier animals into nonendemic areas, particuiariy where the diseases could be spread by vector ticks. Horses to be exported into the U.S.A., Japan, Australia or other countries have to be tested negative for babesioses by the camplement fixation test (CFT) or the immunofluores&en~ antibody test (IFAT) . The CFT yiefds a considerable number of false-negative results (Weiland, 1985;  Tenter L Friedhoff, 1986 ). The IFAT is laborious and not amenable to standardization. Thus, there is a need for improved serological tests for the diagnosis of equine babesioses. A first step was made by deveioping a Western blot for the diagnosis of B. cab& infections. This test can be used in case of contradicting CFT and IFAT results and provides a speciesspecific diagnosis (Base & Daemen, 1992) . For routine diagnosis, however, the test is too laborious. In general, the advantages of the ELISA in contrast to CFT or IFAT are its high sensitivity and the possibility of standardization and computer evaluation. We here report the development of a sensitive ELISA and the application of the Western blot for the diagnosis of B. caballi infections.',\n",
       "   'cite_spans': [{'start': 201,\n",
       "     'end': 218,\n",
       "     'text': '(Friedhoff, 1982;',\n",
       "     'ref_id': 'BIBREF5'},\n",
       "    {'start': 219,\n",
       "     'end': 252,\n",
       "     'text': 'Friedhoff, Tenter & Miller, 1990)',\n",
       "     'ref_id': None},\n",
       "    {'start': 349,\n",
       "     'end': 391,\n",
       "     'text': '(Schein, Rehbein, Voigt & Zweygarth, 1981)',\n",
       "     'ref_id': 'BIBREF10'},\n",
       "    {'start': 476, 'end': 493, 'text': '(Fricdhoff, 1982)', 'ref_id': None},\n",
       "    {'start': 855, 'end': 861, 'text': '(IFAT)', 'ref_id': None},\n",
       "    {'start': 927, 'end': 942, 'text': '(Weiland, 1985;', 'ref_id': None},\n",
       "    {'start': 943, 'end': 943, 'text': '', 'ref_id': None},\n",
       "    {'start': 951, 'end': 968, 'text': 'L Friedhoff, 1986', 'ref_id': None},\n",
       "    {'start': 1325,\n",
       "     'end': 1346,\n",
       "     'text': '(Base & Daemen, 1992)',\n",
       "     'ref_id': None}],\n",
       "   'ref_spans': [],\n",
       "   'section': 'INTRODUCTXON'},\n",
       "  {'text': 'Rnrigen preparation. Parasites were cultured using the m~~roaeroph~ious stationary phase culture technique [Levy Bt Risk, t980) essentially as described previously (3&e L Daemen, 1992). Parasitized erythrocytes were enriched to about 100% infected cells with density gradient centrifugation on a two-step Percoll gradient (Bhushan, Miiller & Friedhoff, 1991) , washed three times in RPMI-1~0 tissue culture medium and stored in aliquots at -80°C. A control antigen of non-infected erythrocytes of the same doner horse used for the cultures was prepared in the same manner. For the ELISA both antigens were extracted with urea OF with detergents. Urea (Gibco/BRL, Eggenbeim, Germany, no. 54@5505Uv) was used in a final concentration of 4.5 M-Sodium dodecyl sulfate (SDS) (Gibco/BRL, no. 5525UA), Triton X-100 (Boehringer, Mannheim, Germany, no. 13324811, Nonidet P-40 (Boehringer, no. 1332473 ) and 3-[3-Cholamidopropyl)-dimethyiammonio]-l-propane-sulfonate (CHAPS) (Boehringer, no. 810118) were used in final concns of I %. Antigen and reagent were mixed and incubated for 20 min at 37°C (urea, Triton X-100, Nonidet P-40, CHAPS) or for 5 mm at 95°C (SDS) and centrifuged (22,000 g, IO min, 4°C). The supernatant was used as antigen in the ELISA.',\n",
       "   'cite_spans': [{'start': 322,\n",
       "     'end': 358,\n",
       "     'text': '(Bhushan, Miiller & Friedhoff, 1991)',\n",
       "     'ref_id': None},\n",
       "    {'start': 808,\n",
       "     'end': 891,\n",
       "     'text': '(Boehringer, Mannheim, Germany, no. 13324811, Nonidet P-40 (Boehringer, no. 1332473',\n",
       "     'ref_id': None}],\n",
       "   'ref_spans': [],\n",
       "   'section': 'MATERIALS AND METHODS'},\n",
       "  {'text': 'prokxol.', 'cite_spans': [], 'ref_spans': [], 'section': 'HJ&4'},\n",
       "  {'text': \"The ELISA was performed as a heterogeneous, indirect, non-competitive test for the detection of antibodies. Extracted antigens were diluted in 0.1 Mcarbonate-bicarbonate buffer, pH 9.6, 200 ~1 transferred to each well of a microtitre plate and incubated for 1 h at 37°C. pool and a good discrimination between positive and negative sera. Plates were washed 3 times for 5 min with PBS (5 mt+phosphate buffer 147 m&i-NaCl, pH 7.2) containing 0.05% Tween 20R (PBS--T). Assays were performed without a blocking step or plates were blocked for 30 min at 37°C. Gelatin (Sigma, Deisenhofen, Germany, no. G-6144) BSA (Sigma, no. A-21 53}, ovalbumin (Sigma, no A-5253), rabbit serum, a *blocking reagent' (Boehringer, Mal~nheim, Germany, no. 1142372) and low-fat milk (Ueltena Mil~hwerke, Uefzen, Germany) were used in concns of 1% A chemically modified BSA (BSAc) (Aurion, Wageningen, Netherlands) was tested in a concn of0.2%. Sera were diluted l/100 in PBS with 1% BSA and plates incubated for I h at 37°C followed by a set of washes and a 30 min incubation for the conjugate (rabbit anti-horse IgG (H+L) HRP, Dianova GmbH, Hamburg, Germany, no. 308-035-003) diluted l/3000 in PBS with 1% BSA. When assays were performed without a blocking step, different dilution buffers were tested. Sera and conjugate were diluted in PBS with 1% BSA. PBS with 0.05% Tween 20 OF PBS with 1% BSA and 0.05% Tween 20. After a further set of washes substrate (1 mg ml I of 5-aminosali~ylic acid (Ellens & Gielkens, 1980) in 0.1 M-sodiumphosphate buffer, pH 6.0 containing 0.1 m&i-EDTA and 6 mM-H&f was dispensed and plates were read. IVeszertt blot. The Western blot was carried out as described previously (Bose & Daemen, 1992) , except that TBS with 1% gelatin was substituted for TBS with 0.05% Tween 20. Sera reacting with antigens of mol. wts of 48 and SO kDa and one or more of the 70, f I2 or 141 kDa antigens were regarded positive. Sera reacting strongly only with the 48 and 50 kDa anfligens were also considered positive.\",\n",
       "   'cite_spans': [{'start': 1471,\n",
       "     'end': 1496,\n",
       "     'text': '(Ellens & Gielkens, 1980)',\n",
       "     'ref_id': 'BIBREF4'},\n",
       "    {'start': 1683,\n",
       "     'end': 1704,\n",
       "     'text': '(Bose & Daemen, 1992)',\n",
       "     'ref_id': None}],\n",
       "   'ref_spans': [],\n",
       "   'section': 'HJ&4'},\n",
       "  {'text': \"Sera. Sera tested were as follows: (I) sera from 106 horses not infected with Bubesia spp., i.e. horses from Germany tested negative in preliminary studies by IFAT at a serum dilution of 4 l/40 and by CFT at a serum dilution of < l/5; the results for these sera were used to calculate the diagnostic specificity of the ELISA and Western blot; (2) 71 sera from 15 horses experimentally infected with B. cabal/i or with B. caba~l~ and B. equi; these results were used to calculate the diagnostic sensitivity of the ELISA, Western blot, IFAT and CFT; (3) 76 sera from 13 horses experimentally infected with 3. egui; these results were used to evaluate the extent of cross reactions; (4) I32 field sera, i.e. 20 sera from Corsica, 35 sera from different European countries and 77 sera from 18 horses from Brazil. For the ELISA the following standards were used: (I) a high&red B. caballi serum pool; (2) a low-titred B. cabah serum pool; (3) a pool of sera negative for B. cabdi and B. eqeti. The CFT was performed following the instructions of the United States Department of Agriculture (1979) and the IFAT according to Tenter & Friedhoff (1986) . L)ntu generation and ~va~ua~~on. To allow a comparison between different microtitre plates and different runs at each microtitre plate the three standards were run on each plate in duptica&es. The absorbance values were measured approx. 2, 4 and 6 min after substrate addition with an ELISA reader (Titertek Multiskan plus MK II, Flow Laboratories, Meckenheim, Germany) interfaced with an IBM compatible personal computer. The computer based kinetics linked immunosorbent assay (KELA) programme was used to calculate slope values as the relationship between the rate of substrate conversion by enzyme and time (Jacobson, Downing & Lynch, 1982; Barlough, Jacobson, Downing, Marcella, Lynch & Scott, 1983 : Bose, Jacobson, Gale, Walt~sbuhl & Wright, 1990) . Further, the KELA programme was used to calculate 'delta values' by subtraction of the KELA slope values for control antigen from those for B. cuba& antigen. Data generated by the KELA programme provided a basis for maintaining quality control in the assays. The KELA programme included assessment of the: (1) linearity of the reaction rate (OD vs time) in each well of the microtitre plate to ascertain whether the enzyme-substratechromogen reactants were performing properly, (2) mean, S.U. and coefficient of variation for the slopes of sample replicates to determine within-run variation, (3) degree of correlation of observed slopes for standard sera compared with their expected values by linear regression analysis and (4) normalization of mean slopes for each sample to the expected values for controls thus allowing direct comparison of results on a day-to-day basis. All of these data were generated automatically at the end of each run by the KELA programme and presented in printed reports for easy evafuation. The threshold was determined arbitrarily under \",\n",
       "   'cite_spans': [{'start': 1118,\n",
       "     'end': 1143,\n",
       "     'text': 'Tenter & Friedhoff (1986)',\n",
       "     'ref_id': 'BIBREF11'},\n",
       "    {'start': 1756,\n",
       "     'end': 1789,\n",
       "     'text': '(Jacobson, Downing & Lynch, 1982;',\n",
       "     'ref_id': 'BIBREF7'},\n",
       "    {'start': 1790,\n",
       "     'end': 1848,\n",
       "     'text': 'Barlough, Jacobson, Downing, Marcella, Lynch & Scott, 1983',\n",
       "     'ref_id': 'BIBREF0'},\n",
       "    {'start': 1873,\n",
       "     'end': 1899,\n",
       "     'text': 'Walt~sbuhl & Wright, 1990)',\n",
       "     'ref_id': None}],\n",
       "   'ref_spans': [],\n",
       "   'section': 'HJ&4'},\n",
       "  {'text': 'Antigen preparation. When extracted with urea, Triton X-100, Nonidet P-40 or CHAPS, a high specific activity of the antigen was observed. In contrast the use of SDS led to a low reaction between antigen and the high-titred B. cab& serum pool (Fig. 1.) . The best discrimination between positive and negative sera was obtained with the antigen extracted with CHAPS that was selected for further studies. Checkerboard titrations with B. cu~a~I~ antigen, the control antigen and serum pools revealed suitable dilutions of l/4000 to I/ 8000 for the B. caballi antigen. For the control antigen the reaction with the high-titre B. caballi serum pool and the negative serum pool remained at an almost constant level for dilutions from l/1000 to l/64,000. Thus, we used the same working dilution of l/4000 for both, the B. caballi antigen and the control antigen.',\n",
       "   'cite_spans': [],\n",
       "   'ref_spans': [{'start': 242,\n",
       "     'end': 251,\n",
       "     'text': '(Fig. 1.)',\n",
       "     'ref_id': None}],\n",
       "   'section': 'Optimization of the ELiSA protocol'},\n",
       "  {'text': 'Selection of the microtitre plate. ELlSAs were performed using 15 different microtitre plates. Considerable differences between the performance of the plates tested were observed and the selection of a suitable plate was crucial to obtain a good discrimination in the ELISA. Best results were obtained with the plates no. 26 97 87, Nunc GmbH and no. 76-l 8l-',\n",
       "   'cite_spans': [],\n",
       "   'ref_spans': [],\n",
       "   'section': 'Optimization of the ELiSA protocol'},\n",
       "  {'text': 'GmbH, and the latter was chosen for the further studies.',\n",
       "   'cite_spans': [],\n",
       "   'ref_spans': [],\n",
       "   'section': '04, Flow Laboratories'},\n",
       "  {'text': 'Hocking of plates and diluents for sera. Several blocking reagents were investigated regarding their ability to reduce the non-specific binding of sera and thereby improve the discrimination.',\n",
       "   'cite_spans': [],\n",
       "   'ref_spans': [],\n",
       "   'section': '04, Flow Laboratories'},\n",
       "  {'text': 'Results were compared with those obtained without a blocking step. No improvement in the discrimination could be achieved by introducing a blocking step with any of the 7 blocking reagents tried.',\n",
       "   'cite_spans': [],\n",
       "   'ref_spans': [],\n",
       "   'section': '04, Flow Laboratories'},\n",
       "  {'text': 'When different dilution buffers for sera and conjugate were tested, best results were obtained with PBS-T with 1% BSA.',\n",
       "   'cite_spans': [],\n",
       "   'ref_spans': [],\n",
       "   'section': '04, Flow Laboratories'},\n",
       "  {'text': 'Upt~m~zed ELISA protocol. B. caballi antigen and control antigen were extracted with CHAPS and used in a final dilution of l/4000. The microtitre plate no. 76-181-04, Flow Laboratories, was used; a blocking step was omitted.',\n",
       "   'cite_spans': [],\n",
       "   'ref_spans': [],\n",
       "   'section': '04, Flow Laboratories'},\n",
       "  {'text': 'Sera were diluted l/l00 and conjugate l/3000 in PBS-T with 1% BSA. As the problem of non-specific binding of test sera could not be solved by introducing a blocking step the control antigen was used. Delta values were calculated by subtraction of slope values of control antigen from slope values for B. caballi antigen.',\n",
       "   'cite_spans': [],\n",
       "   'ref_spans': [],\n",
       "   'section': '04, Flow Laboratories'},\n",
       "  {'text': 'Determination of the threshold. Under consideration of the results in all four tests the threshold was set at 13.669 for the delta values ( x 103). The average of all delta values ( x 103) of sera from horses not infected with Babesiaspp. was4.617 (range-6.19 to 13.41)with a S.D. of 3.748.',\n",
       "   'cite_spans': [],\n",
       "   'ref_spans': [],\n",
       "   'section': 'Assay evaluation under optimized conditions'},\n",
       "  {'text': 'Validation of the assay. Calculations of the sensitivity of the tests were carried out either with the results of sera from day 1 or from day 14 after experimental infection with B. ca~ai~i (Table 1 ). In both cases the sensitivity of the ELISA was superior to all other tests; the CFT revealed the lowest sensitivity (Table 2 ). All sera from horses not infected did not react in the ELISA and in the Western blot leading to a specificity of 100% (Table 2 ). The specificity was not calculated for the IFAT and CFT as a negative result was required for the sera to be considered as originating from horses not infected.',\n",
       "   'cite_spans': [],\n",
       "   'ref_spans': [{'start': 190,\n",
       "     'end': 198,\n",
       "     'text': '(Table 1',\n",
       "     'ref_id': None},\n",
       "    {'start': 318, 'end': 326, 'text': '(Table 2', 'ref_id': None},\n",
       "    {'start': 448, 'end': 456, 'text': '(Table 2', 'ref_id': None}],\n",
       "   'section': 'Assay evaluation under optimized conditions'},\n",
       "  {'text': 'Cross reactions. In the ELISA for B. caballi 15176 (20%) sera from horses experimentally infected with B. equi reacted, the highest delta value ( x 103) being 3 1.125. None of these sera was positive for B. cabal& in the Western blot. Of the sera cross reacting in the ELISA 14/l 5 had a titre of Q 1: 160 in the IFAT for 3. ?-Data are based on the results of sera from horses not infected with Babesiu spp., i.e. horses originating from Germany and tested negative for B. cuballi and B. equi by IFAT and CFT. Consequently, the specificity was not calculated (n.c.) for the IFAT and CFT.',\n",
       "   'cite_spans': [],\n",
       "   'ref_spans': [],\n",
       "   'section': 'Assay evaluation under optimized conditions'},\n",
       "  {'text': 'equi. The IFAT revealed 3/76 cross reactions (4%); with the Western blot and the CFT no cross reactions were observed.',\n",
       "   'cite_spans': [],\n",
       "   'ref_spans': [],\n",
       "   'section': 'Assay evaluation under optimized conditions'},\n",
       "  {'text': 'sera. Tested were 132 field sera, i.e. 20 sera from Corsica, 35 sera from different European countries, and 77 sera from Brazil. Whereas ELISA, Western blot and IFAT showed similar results, the CFT revealed significantly fewer reactions; the agreement between CFT results and those of the other tests was not calculated. In 96/132 cases (73%) identical results were obtained with ELISA, Western blot and IFAT. The results of ELISA and Western blot agreed to 83% (109/132), the results of ELISA and IFAT agreed to 82% (108/132) and the results of Western blot and IFAT agreed to 83% (109/132). All 35/132 sera positive by CFT and IFAT were also positive by ELISA and Western blot (Table 3) . 6/132 sera reacted in the CFT and not in the IFAT; 5 of these sera were positive in the ELISA and in the Western blot suggesting false negative results in IFAT, whereas the remaining serum tested probably false positive by CFT. 57/132 sera reacted not in the CFT but in the IFAT. Two of these sera were negative in the ELISA and Western blot suggesting false positive results of the IFAT. From 34 sera negative by CFT and IFAT, 17 sera, all from Brazilian horses, reacted in the ELISA. Seven of these sera tested positive and IO negative with the Western blot; 8 of the sera negative in the Western blot originated from foals younger than 3 months born to sero positive mares.',\n",
       "   'cite_spans': [],\n",
       "   'ref_spans': [{'start': 679,\n",
       "     'end': 688,\n",
       "     'text': '(Table 3)',\n",
       "     'ref_id': None}],\n",
       "   'section': 'Comparison of ELISA, Western blot, IFATand CFT as diagnostic tests for3eld'},\n",
       "  {'text': 'One of the problems developing ELISAs for babesial infections is the contamination of antigen preparations with host proteins, namely from erythrocytes. For B. bovis a simple method for the enrichment of infected erythrocytes by selective lysis of noninfected erythrocytes is available (Mahoney, 1967) and preparations of 100% infected erythrocytes have been used for the development of sensitive and specific ELISAs (Waltisbuhl, Goodger, Wright, Commins & Mahoney, 1987; B&e et al., 1990) . For B. caballi only small amounts of 100% infected erythrocytes can be obtained using Percoll gradients (Bhushan et al., 1991) . Attempts to develop an ELISA for B. cab&i with crude antigen made from blood with low parasitaemias have led to limited improvements in the sero diagnosis of B. cab& (Weiland, 1986) . In preliminary expts we used antigen with a percentage of parasitized erythrocytes (PPE) of 34% from in vitro cultures and found this preparation not suitable as antigen in the ELISA. Reactions with positive sera were low and a poor discrimination was obtained (data not shown). Only antigens extracted from a preparation of 100% infected erythrocytes were suitable as ELISA antigens.',\n",
       "   'cite_spans': [{'start': 417,\n",
       "     'end': 471,\n",
       "     'text': '(Waltisbuhl, Goodger, Wright, Commins & Mahoney, 1987;',\n",
       "     'ref_id': 'BIBREF14'},\n",
       "    {'start': 472, 'end': 489, 'text': 'B&e et al., 1990)', 'ref_id': None},\n",
       "    {'start': 596,\n",
       "     'end': 618,\n",
       "     'text': '(Bhushan et al., 1991)',\n",
       "     'ref_id': 'BIBREF1'},\n",
       "    {'start': 787,\n",
       "     'end': 802,\n",
       "     'text': '(Weiland, 1986)',\n",
       "     'ref_id': 'BIBREF15'}],\n",
       "   'ref_spans': [],\n",
       "   'section': 'DISCUSSION'},\n",
       "  {'text': 'A particular problem in preliminary studies was the high background staining caused by negative sera. Background staining could not be reduced by the introduction of a blocking step after antigen coating without a loss of sensitivity. However, when different methods of antigen extraction (Fig. l) , different microtitre plates and different dilution buffers were tried simultaneously, conditions could be defined which reduced the background staining and improved the discrimination significantly. The reason for the high background staining caused by equine sera is not known. For B. bovis there is evidence, that serum components other than IgG are involved (Bose et al., 1990) . These serum components, possibly IgM by nature, are recognised by conventional conjugates and thus cause the background staining. For B. caballi we found that IgG itself is probably causing most of the background staining in the ELISA. Background staining was not reduced when an IgG Fc-specific conjugate was used, but was almost completely absent after equine sera were passed over a protein G affinity column (data not shown). It appears that immunoglobulins from horse sera exhibit a high tendency to adhere to the surface of polystyrene microtitre plates. Thus, to date the only practical solution for the problem is the use of an appropriate control antigen.',\n",
       "   'cite_spans': [{'start': 661,\n",
       "     'end': 680,\n",
       "     'text': '(Bose et al., 1990)',\n",
       "     'ref_id': 'BIBREF2'}],\n",
       "   'ref_spans': [{'start': 289,\n",
       "     'end': 297,\n",
       "     'text': '(Fig. l)',\n",
       "     'ref_id': None}],\n",
       "   'section': 'DISCUSSION'},\n",
       "  {'text': 'Apart from the high non-specific binding of horse sera a strong reaction of some negative sera with B. cab&i antigens or erythrocyte antigens extracted from the preparation of 100% infected erythrocytes was observed. We did not attempt to solve this problem by adsorption with normal erythrocytes as described for B. bovis (Waltisbuhl et al., 1987) as this would have introduced another time-consuming step into the ELISA protocol. With the use of the control antigen the reaction of negative sera with the antigen preparation and the background staining were not eliminated, but did no longer lead to false positive results after calculation of delta values.',\n",
       "   'cite_spans': [{'start': 323,\n",
       "     'end': 348,\n",
       "     'text': '(Waltisbuhl et al., 1987)',\n",
       "     'ref_id': 'BIBREF14'}],\n",
       "   'ref_spans': [],\n",
       "   'section': 'DISCUSSION'},\n",
       "  {'text': 'Defined sera were used to validate the ELISA and Western blot (Table 1 ). The ELISA proved to be the test with the highest sensitivity (Table 2) . Western blot and IFAT provided comparable results, while the CFT must be regarded as obsolete due to a low sensitivity which does not meet the requirements for export testing or epidemiological studies. The consideration of sera taken from day 14 of the infection for the calculation of the sensitivity of a diagnostic test seems to be sufficient for the requirements of the export testing as no serological test is capable to detect fresh infections.',\n",
       "   'cite_spans': [],\n",
       "   'ref_spans': [{'start': 62, 'end': 70, 'text': '(Table 1', 'ref_id': None},\n",
       "    {'start': 135, 'end': 144, 'text': '(Table 2)', 'ref_id': None}],\n",
       "   'section': 'DISCUSSION'},\n",
       "  {'text': 'The main disadvantage of the ELISA is the high percentage of cross reactions with sera from horses infected with B. equi. Thus a species-specific diagnosis is not always possible by ELISA, i.e. positive reactions up to delta values ( x 10-l) of approx. 32 can be due to a B. equi infection. For export testing the cross reactions are of little significance as horses infected with B. equi are excluded from export as well.',\n",
       "   'cite_spans': [],\n",
       "   'ref_spans': [],\n",
       "   'section': 'DISCUSSION'},\n",
       "  {'text': 'The disadvantage of cross reactions in the ELISA can be overcome by testing of ELISA-positive sera by Western blot. Sera were regarded positive, when a clearly visible reaction with the 48 and 50 kDa antigens was present and one or more of the 70, 112, and 141 kDa antigens was also recognized. A number of B. caballi sera, however, particularly shortly after infection, recognized only the 50 and 48 kDa antigens, albeit strongly. Thus strong reactions with the 50 and 48 kDa antigens were also regarded positive. With these criteria applied no false positive reactions were obtained with B. equi sera. Most B. equi sera did not react with any of the 5 diagnostic antigens of B. cab& Some sera showed a faint reaction with the 50 and 48 kDa antigens which was clearly distinguishable from the strong reactions of B. caballi sera. Thus, the Western blot can serve as a confirmative test which provides a species-specific diagnosis.',\n",
       "   'cite_spans': [],\n",
       "   'ref_spans': [],\n",
       "   'section': 'DISCUSSION'}],\n",
       " 'bib_entries': {'BIBREF0': {'ref_id': 'b0',\n",
       "   'title': 'Evaluation of a computer-assisted, kinetic-based enzymelinked immunosorbent assay for detection of coronavirus antibodies in cats',\n",
       "   'authors': [{'first': 'J',\n",
       "     'middle': ['E'],\n",
       "     'last': 'Barlough',\n",
       "     'suffix': ''},\n",
       "    {'first': '', 'middle': ['H'], 'last': 'Jacobson R', 'suffix': ''},\n",
       "    {'first': '', 'middle': ['R'], 'last': 'Downing D', 'suffix': ''},\n",
       "    {'first': '', 'middle': ['L'], 'last': 'Marcella K', 'suffix': ''},\n",
       "    {'first': '', 'middle': ['J'], 'last': 'Lynch T', 'suffix': ''},\n",
       "    {'first': '', 'middle': ['W'], 'last': 'Scott F', 'suffix': ''}],\n",
       "   'year': 1983,\n",
       "   'venue': 'Journal of Clinical Microbiology',\n",
       "   'volume': '17',\n",
       "   'issn': '',\n",
       "   'pages': '202--217',\n",
       "   'other_ids': {}},\n",
       "  'BIBREF1': {'ref_id': 'b1',\n",
       "   'title': 'Enrichment of Babesia cabal/i-infected erythrocytes from microaerophilous stationary-phase cultures using Percoll gradients',\n",
       "   'authors': [{'first': 'C', 'middle': [], 'last': 'Bhushan', 'suffix': ''},\n",
       "    {'first': '',\n",
       "     'middle': ['T'],\n",
       "     'last': 'Moller I. &amp; Friedhoff K',\n",
       "     'suffix': ''}],\n",
       "   'year': 1991,\n",
       "   'venue': 'Parasitology Research',\n",
       "   'volume': '77',\n",
       "   'issn': '',\n",
       "   'pages': '177--179',\n",
       "   'other_ids': {}},\n",
       "  'BIBREF2': {'ref_id': 'b2',\n",
       "   'title': 'An improved ELISA for the detection of antibodies against Babesiu bovis using either a native or a recombinant B. bovis antigen',\n",
       "   'authors': [{'first': '', 'middle': [], 'last': 'Bose R', 'suffix': ''},\n",
       "    {'first': '', 'middle': ['H'], 'last': 'Jacobson R', 'suffix': ''},\n",
       "    {'first': '', 'middle': ['R'], 'last': 'Gale K', 'suffix': ''},\n",
       "    {'first': '', 'middle': ['J'], 'last': 'Waltisbuhl D', 'suffix': ''},\n",
       "    {'first': '', 'middle': ['G'], 'last': 'Wright I', 'suffix': ''}],\n",
       "   'year': 1990,\n",
       "   'venue': 'Parasitology Research',\n",
       "   'volume': '76',\n",
       "   'issn': '',\n",
       "   'pages': '648--652',\n",
       "   'other_ids': {}},\n",
       "  'BIBREF3': {'ref_id': 'b3',\n",
       "   'title': 'Demonstration of the humoral immune response of horses to Babesia caballi by Western blotting',\n",
       "   'authors': [{'first': '',\n",
       "     'middle': [],\n",
       "     'last': 'B&amp;e R. &amp; Daemen K',\n",
       "     'suffix': ''}],\n",
       "   'year': 1992,\n",
       "   'venue': 'International Journal for Parasitology',\n",
       "   'volume': '22',\n",
       "   'issn': '',\n",
       "   'pages': '62--630',\n",
       "   'other_ids': {}},\n",
       "  'BIBREF4': {'ref_id': 'b4',\n",
       "   'title': 'A simple method for the purification of 5-aminosalicylic acid. Application of the product as substrate in enzyme-linked immunosorbent assay (ELISA)',\n",
       "   'authors': [{'first': '',\n",
       "     'middle': ['J'],\n",
       "     'last': 'Ellens D',\n",
       "     'suffix': ''},\n",
       "    {'first': '', 'middle': ['L J'], 'last': 'Gielkens A', 'suffix': ''}],\n",
       "   'year': 1980,\n",
       "   'venue': 'Journal oflmmunological Methods',\n",
       "   'volume': '37',\n",
       "   'issn': '',\n",
       "   'pages': '325--332',\n",
       "   'other_ids': {}},\n",
       "  'BIBREF5': {'ref_id': 'b5',\n",
       "   'title': 'Die Piroplasmen der Equiden-Bedeutung fiir den internationalen Pferdeverkehr',\n",
       "   'authors': [{'first': 'K',\n",
       "     'middle': ['T'],\n",
       "     'last': 'Friedhoff',\n",
       "     'suffix': ''}],\n",
       "   'year': 1982,\n",
       "   'venue': 'Berliner und Miinchener Tieriirztliche Wochenschrif',\n",
       "   'volume': '95',\n",
       "   'issn': '',\n",
       "   'pages': '368--374',\n",
       "   'other_ids': {}},\n",
       "  'BIBREF6': {'ref_id': 'b6',\n",
       "   'title': 'Haemoparasites of equines: impact on international trade of horses',\n",
       "   'authors': [{'first': '',\n",
       "     'middle': ['T'],\n",
       "     'last': 'Friedhoff K',\n",
       "     'suffix': ''},\n",
       "    {'first': '', 'middle': ['M'], 'last': 'Tenter A', 'suffix': ''},\n",
       "    {'first': '', 'middle': [], 'last': 'Mueller I', 'suffix': ''}],\n",
       "   'year': 1990,\n",
       "   'venue': 'Revue Scientifique et Technique-OSJice International des Epizooties',\n",
       "   'volume': '9',\n",
       "   'issn': '',\n",
       "   'pages': '1187--194',\n",
       "   'other_ids': {}},\n",
       "  'BIBREF7': {'ref_id': 'b7',\n",
       "   'title': \"Computer-assisted enzyme immunoassays and simplified immunofluorescence assays: applications for the diagnostic laboratory and the veterinarian's office\",\n",
       "   'authors': [{'first': '',\n",
       "     'middle': ['H'],\n",
       "     'last': 'Jacobson R',\n",
       "     'suffix': ''},\n",
       "    {'first': '', 'middle': ['R'], 'last': 'Downing D', 'suffix': ''},\n",
       "    {'first': '', 'middle': ['J'], 'last': 'Lynch T', 'suffix': ''}],\n",
       "   'year': 1982,\n",
       "   'venue': 'Journal of the American Veterinary Medical Association',\n",
       "   'volume': '181',\n",
       "   'issn': '',\n",
       "   'pages': '1166--168',\n",
       "   'other_ids': {}},\n",
       "  'BIBREF8': {'ref_id': 'b8',\n",
       "   'title': 'Bubesia bovis: continuous cultivation in a microaerophilous stationary phase culture',\n",
       "   'authors': [{'first': '', 'middle': ['G'], 'last': 'Levy M', 'suffix': ''},\n",
       "    {'first': '', 'middle': [], 'last': 'Rist~c M', 'suffix': ''}],\n",
       "   'year': 1980,\n",
       "   'venue': 'Science',\n",
       "   'volume': '207',\n",
       "   'issn': '',\n",
       "   'pages': '1218--1220',\n",
       "   'other_ids': {}},\n",
       "  'BIBREF9': {'ref_id': 'b9',\n",
       "   'title': 'Bovine babesiosis: preparation and assessment of complement fixing antigens',\n",
       "   'authors': [{'first': '',\n",
       "     'middle': ['F'],\n",
       "     'last': 'Mahoney D',\n",
       "     'suffix': ''}],\n",
       "   'year': 1967,\n",
       "   'venue': 'Experimental Parasitology',\n",
       "   'volume': '20',\n",
       "   'issn': '',\n",
       "   'pages': '232--241',\n",
       "   'other_ids': {}},\n",
       "  'BIBREF10': {'ref_id': 'b10',\n",
       "   'title': 'Babesia equi (Laveran 1901) 1. Development in horses and in lymphocyte culture',\n",
       "   'authors': [{'first': '', 'middle': [], 'last': 'Schein E', 'suffix': ''},\n",
       "    {'first': '', 'middle': [], 'last': 'Rehbein G', 'suffix': ''},\n",
       "    {'first': '', 'middle': ['P'], 'last': 'Voigt W', 'suffix': ''},\n",
       "    {'first': '', 'middle': [], 'last': 'Zweygarth E', 'suffix': ''}],\n",
       "   'year': 1981,\n",
       "   'venue': 'Zeitschrifr fir Tropenmedizin und Parasitologie',\n",
       "   'volume': '32',\n",
       "   'issn': '',\n",
       "   'pages': '223--227',\n",
       "   'other_ids': {}},\n",
       "  'BIBREF11': {'ref_id': 'b11',\n",
       "   'title': 'Serodiagnosis of experimental and natural Babesia equi and B. caballi infections',\n",
       "   'authors': [{'first': '',\n",
       "     'middle': ['M'],\n",
       "     'last': 'Tenter A',\n",
       "     'suffix': ''},\n",
       "    {'first': '', 'middle': ['T'], 'last': 'Friedhoff K', 'suffix': ''}],\n",
       "   'year': 1986,\n",
       "   'venue': 'Veterinary Parasitology',\n",
       "   'volume': '20',\n",
       "   'issn': '',\n",
       "   'pages': '49--61',\n",
       "   'other_ids': {}},\n",
       "  'BIBREF12': {'ref_id': 'b12',\n",
       "   'title': 'Titers, tests, and truisms: rational interpretation of diagnostic serologic testing',\n",
       "   'authors': [{'first': 'Tyler',\n",
       "     'middle': ['J W'],\n",
       "     'last': 'Cullor',\n",
       "     'suffix': ''},\n",
       "    {'first': 'J', 'middle': ['S'], 'last': '', 'suffix': ''}],\n",
       "   'year': 1989,\n",
       "   'venue': 'Journal of the American Veterinary Medical Association',\n",
       "   'volume': '194',\n",
       "   'issn': '',\n",
       "   'pages': '155--1558',\n",
       "   'other_ids': {}},\n",
       "  'BIBREF13': {'ref_id': 'b13',\n",
       "   'title': 'UNITED STATES DEPARTMENT OF AGRICULTURE 1979. 1. Equine piroplasmosis complement fixation test antigen production. 2. Piroplasmosis complement fixation testmicro method. United States Department of Agriculture, Animal and Plant Health Inspection Service',\n",
       "   'authors': [],\n",
       "   'year': None,\n",
       "   'venue': '',\n",
       "   'volume': '',\n",
       "   'issn': '',\n",
       "   'pages': '',\n",
       "   'other_ids': {}},\n",
       "  'BIBREF14': {'ref_id': 'b14',\n",
       "   'title': 'An enzyme-linked immunosorbent assay to diagnose Babesia bovis infection in cattle',\n",
       "   'authors': [{'first': '',\n",
       "     'middle': ['J'],\n",
       "     'last': 'Waltisbuhl D',\n",
       "     'suffix': ''},\n",
       "    {'first': '', 'middle': ['V'], 'last': 'Goodger B', 'suffix': ''},\n",
       "    {'first': '', 'middle': ['G'], 'last': 'Wright I', 'suffix': ''},\n",
       "    {'first': '', 'middle': ['A'], 'last': 'Commins M', 'suffix': ''},\n",
       "    {'first': '', 'middle': ['F'], 'last': 'Mahoney D', 'suffix': ''}],\n",
       "   'year': 1987,\n",
       "   'venue': 'Parasitology Research',\n",
       "   'volume': '73',\n",
       "   'issn': '',\n",
       "   'pages': '',\n",
       "   'other_ids': {}},\n",
       "  'BIBREF15': {'ref_id': 'b15',\n",
       "   'title': 'Species-specific serodiagnosis of equine piroplasma infections by means of complement fixation test (CFT), immunofluorescence (IIF), and enzyme-linked immunosorbent assay (ELISA)',\n",
       "   'authors': [{'first': '', 'middle': [], 'last': 'Weiland G', 'suffix': ''}],\n",
       "   'year': 1986,\n",
       "   'venue': '',\n",
       "   'volume': '',\n",
       "   'issn': '',\n",
       "   'pages': '',\n",
       "   'other_ids': {}}},\n",
       " 'ref_entries': {'FIGREF0': {'text': 'extracted with urea, sodium dodecyl sulfate (SDS), Triton X-100 (TX-lo), Nonidet P-40 (NP-40) or with 3-[(3/Cholamidoproy1)-dimethylammonio]-I-propane-sulfonate (CHAPS), centrifuged and the supernatant used as an antigen in a heterogenous, non-competitive ELISA. Antigen coated wells were incubated with a high-titred B. cabdi serum pool or a serum pool from horses not infected with Babesiu spp. ELBA reactions are given as slope values of the curve describing the rate of substrate conversion by enzyme vs times. consideration of the results of 71 sera from 15 horses experimentally infected with B. cab& and 106 horses not infected with i3. cabalti obtained in all 4 tests. For validation of the assay, sensitivity and specificity (Tyler & Cullor, 1989) were calculated.',\n",
       "   'latex': None,\n",
       "   'type': 'figure'},\n",
       "  'FIGREF1': {'text': 'TABLE ~-SEROLOGICAL DIAGNOSIS OF B. caballi. COMPARI-SON OF CFT AND IFAT RESULTS FOR 132 FIELD SERA WITH THOSE OBTAINED BY ELISA AND WESTERN',\n",
       "   'latex': None,\n",
       "   'type': 'figure'},\n",
       "  'TABREF0': {'text': 'The following microtitre plates were tried: 2 plates from Dynatech, Denkendorf, Germany, nos. MA 1501 and M 129 A; I plate from Becton Dickinson, Heidelberg, Germany, Falcon no. 3912; 4 plates from Nunc, Wiesbaden, Germany, plate from Renner, Darmstadt, Germany, Costar no. 3590. Criteria for the selection of a suitable microtitre plate were high reactions with the high-titred B. caballiserum',\n",
       "   'latex': None,\n",
       "   'type': 'table'},\n",
       "  'TABREF1': {'text': 'VALIDATION OF THE ELISA AND WESTERN BLOT FOR Babesia caballi AND COMPARISON WITH IFAT AND CFT *Data are based on the results of sera from horses experimentally infected with B. caballi. Sera were tested from day 1 after infection (n = 71) or from day 14 after infection (n = 59).',\n",
       "   'latex': None,\n",
       "   'type': 'table'}},\n",
       " 'back_matter': []}"
      ]
     },
     "execution_count": 122,
     "metadata": {},
     "output_type": "execute_result"
    }
   ],
   "source": [
    "id_ = 'f6af90a5e3b6a85f64c42d66bbdc9ec3ace4b2ae'\n",
    "subset = 'custom_license'\n",
    "article = aws.read_item(subset, id_, s3=s3)\n",
    "article"
   ]
  },
  {
   "cell_type": "code",
   "execution_count": 3,
   "metadata": {
    "ExecuteTime": {
     "end_time": "2020-04-27T18:00:50.248861Z",
     "start_time": "2020-04-27T18:00:49.638134Z"
    }
   },
   "outputs": [],
   "source": [
    "import spacy\n",
    "import scispacy"
   ]
  },
  {
   "cell_type": "code",
   "execution_count": 4,
   "metadata": {
    "ExecuteTime": {
     "end_time": "2020-04-27T18:00:53.701072Z",
     "start_time": "2020-04-27T18:00:50.881546Z"
    }
   },
   "outputs": [],
   "source": [
    "nlp = spacy.load(\"en_core_sci_sm\", disable=[\"ner\"])"
   ]
  },
  {
   "cell_type": "code",
   "execution_count": 14,
   "metadata": {
    "ExecuteTime": {
     "end_time": "2020-04-27T18:03:09.463594Z",
     "start_time": "2020-04-27T18:03:09.250545Z"
    }
   },
   "outputs": [],
   "source": [
    "section = article['body_text'][1]\n",
    "doc = nlp(section['text'])"
   ]
  },
  {
   "cell_type": "code",
   "execution_count": 17,
   "metadata": {
    "ExecuteTime": {
     "end_time": "2020-04-27T18:03:17.615570Z",
     "start_time": "2020-04-27T18:03:17.552595Z"
    }
   },
   "outputs": [
    {
     "data": {
      "text/plain": [
       "[In a recent prevalence study of nosocomial infection in the United Kingdom (Meers et al., 1981) , there were surprisingly few reports of virus-associated disease.,\n",
       " There is, however, clear evidence that enteric viruses may be transmitted to patients in hospitals and other confined communities.,\n",
       " The spread of enteroviruses such as Echo (Nagington et al., 1978) and Coxsackie (Pether, 1982) is known to occur in these environments and in the case of neonates has occasionally resulted in serious illness with significant mortality.,\n",
       " Transmission of hepatitis A virus has also been documented as an infection hazard, especially in institutions caring for mentally retarded children (Krugman and Giles, 1970) .,\n",
       " During the last decade viruses have been recognized as an important major cause of acute diarrhoeal disease.,\n",
       " At present rotavirus infection is thought to account for the majority of these cases although there is increasing evidence of episodes associated with other agents, e.g. adenovirus (Flewett et al., 1975) , astrovirus (Kurtz, Lee and Pickering, 1977) , calicivirus (Cubitt, McSwiggan and Arstall, 1980) and coronavirus (Caul, Paver and Clarke, 1975) .]"
      ]
     },
     "execution_count": 17,
     "metadata": {},
     "output_type": "execute_result"
    }
   ],
   "source": [
    "list(doc.sents)"
   ]
  },
  {
   "cell_type": "code",
   "execution_count": 27,
   "metadata": {
    "ExecuteTime": {
     "end_time": "2020-04-27T18:04:42.550603Z",
     "start_time": "2020-04-27T18:04:42.490464Z"
    }
   },
   "outputs": [],
   "source": [
    "sentences = list(doc.sents)"
   ]
  },
  {
   "cell_type": "code",
   "execution_count": 42,
   "metadata": {
    "ExecuteTime": {
     "end_time": "2020-04-27T18:20:41.782860Z",
     "start_time": "2020-04-27T18:20:41.728234Z"
    }
   },
   "outputs": [
    {
     "name": "stdout",
     "output_type": "stream",
     "text": [
      "START: 0 -- END: 162\n",
      "In a recent prevalence study of nosocomial infection in the United Kingdom (Meers et al., 1981) , there were surprisingly few reports of virus-associated disease.\n"
     ]
    }
   ],
   "source": [
    "print(f'START: {sentences[0].start_char} -- END: {sentences[0].end_char}')\n",
    "print(sentences[0])"
   ]
  },
  {
   "cell_type": "code",
   "execution_count": 43,
   "metadata": {
    "ExecuteTime": {
     "end_time": "2020-04-27T18:20:43.858871Z",
     "start_time": "2020-04-27T18:20:43.793904Z"
    }
   },
   "outputs": [
    {
     "data": {
      "text/plain": [
       "94"
      ]
     },
     "execution_count": 43,
     "metadata": {},
     "output_type": "execute_result"
    }
   ],
   "source": [
    "sentences[0].text.index(')')"
   ]
  },
  {
   "cell_type": "code",
   "execution_count": 44,
   "metadata": {
    "ExecuteTime": {
     "end_time": "2020-04-27T18:20:53.355056Z",
     "start_time": "2020-04-27T18:20:53.299342Z"
    }
   },
   "outputs": [
    {
     "name": "stdout",
     "output_type": "stream",
     "text": [
      "START: 163 -- END: 293\n",
      "There is, however, clear evidence that enteric viruses may be transmitted to patients in hospitals and other confined communities.\n"
     ]
    }
   ],
   "source": [
    "print(f'START: {sentences[1].start_char} -- END: {sentences[1].end_char}')\n",
    "print(sentences[1])"
   ]
  },
  {
   "cell_type": "code",
   "execution_count": 45,
   "metadata": {
    "ExecuteTime": {
     "end_time": "2020-04-27T18:20:56.255360Z",
     "start_time": "2020-04-27T18:20:56.196676Z"
    }
   },
   "outputs": [
    {
     "data": {
      "text/plain": [
       "[{'start': 75, 'end': 95, 'text': '(Meers et al., 1981)', 'ref_id': 'BIBREF3'},\n",
       " {'start': 335,\n",
       "  'end': 359,\n",
       "  'text': '(Nagington et al., 1978)',\n",
       "  'ref_id': None},\n",
       " {'start': 364,\n",
       "  'end': 388,\n",
       "  'text': 'Coxsackie (Pether, 1982)',\n",
       "  'ref_id': None},\n",
       " {'start': 678,\n",
       "  'end': 703,\n",
       "  'text': '(Krugman and Giles, 1970)',\n",
       "  'ref_id': None},\n",
       " {'start': 996, 'end': 1018, 'text': '(Flewett et al., 1975)', 'ref_id': None},\n",
       " {'start': 1040,\n",
       "  'end': 1064,\n",
       "  'text': 'Lee and Pickering, 1977)',\n",
       "  'ref_id': 'BIBREF1'},\n",
       " {'start': 1079,\n",
       "  'end': 1116,\n",
       "  'text': '(Cubitt, McSwiggan and Arstall, 1980)',\n",
       "  'ref_id': None},\n",
       " {'start': 1133,\n",
       "  'end': 1163,\n",
       "  'text': '(Caul, Paver and Clarke, 1975)',\n",
       "  'ref_id': None}]"
      ]
     },
     "execution_count": 45,
     "metadata": {},
     "output_type": "execute_result"
    }
   ],
   "source": [
    "section['cite_spans']"
   ]
  },
  {
   "cell_type": "code",
   "execution_count": 46,
   "metadata": {
    "ExecuteTime": {
     "end_time": "2020-04-27T18:21:01.703369Z",
     "start_time": "2020-04-27T18:21:01.659142Z"
    }
   },
   "outputs": [
    {
     "data": {
      "text/plain": [
       "[162, 293, 529, 705, 814, 1165]"
      ]
     },
     "execution_count": 46,
     "metadata": {},
     "output_type": "execute_result"
    }
   ],
   "source": [
    "sent_ends = [sent.end_char for sent in sentences]\n",
    "sent_ends"
   ]
  },
  {
   "cell_type": "code",
   "execution_count": 47,
   "metadata": {
    "ExecuteTime": {
     "end_time": "2020-04-27T18:21:03.134680Z",
     "start_time": "2020-04-27T18:21:03.010741Z"
    }
   },
   "outputs": [
    {
     "data": {
      "text/plain": [
       "{'start': 364, 'end': 388, 'text': 'Coxsackie (Pether, 1982)', 'ref_id': None}"
      ]
     },
     "execution_count": 47,
     "metadata": {},
     "output_type": "execute_result"
    }
   ],
   "source": [
    "cite_ex = section['cite_spans'][2]\n",
    "cite_ex"
   ]
  },
  {
   "cell_type": "code",
   "execution_count": 51,
   "metadata": {
    "ExecuteTime": {
     "end_time": "2020-04-27T18:21:26.270059Z",
     "start_time": "2020-04-27T18:21:26.172426Z"
    }
   },
   "outputs": [
    {
     "data": {
      "text/plain": [
       "2"
      ]
     },
     "execution_count": 51,
     "metadata": {},
     "output_type": "execute_result"
    }
   ],
   "source": [
    "np.searchsorted(sent_ends, cite_ex['end'])"
   ]
  },
  {
   "cell_type": "code",
   "execution_count": 54,
   "metadata": {
    "ExecuteTime": {
     "end_time": "2020-04-27T18:22:14.243343Z",
     "start_time": "2020-04-27T18:22:14.141174Z"
    }
   },
   "outputs": [
    {
     "data": {
      "text/plain": [
       "2"
      ]
     },
     "execution_count": 54,
     "metadata": {},
     "output_type": "execute_result"
    }
   ],
   "source": [
    "np.searchsorted(sent_ends, 529, side='left')"
   ]
  },
  {
   "cell_type": "code",
   "execution_count": 56,
   "metadata": {
    "ExecuteTime": {
     "end_time": "2020-04-27T18:25:26.138726Z",
     "start_time": "2020-04-27T18:25:26.029782Z"
    }
   },
   "outputs": [
    {
     "data": {
      "text/plain": [
       "[In a recent prevalence study of nosocomial infection in the United Kingdom (Meers et al., 1981) , there were surprisingly few reports of virus-associated disease.]"
      ]
     },
     "execution_count": 56,
     "metadata": {},
     "output_type": "execute_result"
    }
   ],
   "source": [
    "sentences[0:1]"
   ]
  },
  {
   "cell_type": "code",
   "execution_count": 65,
   "metadata": {
    "ExecuteTime": {
     "end_time": "2020-04-27T18:32:51.072547Z",
     "start_time": "2020-04-27T18:32:50.933870Z"
    }
   },
   "outputs": [
    {
     "name": "stdout",
     "output_type": "stream",
     "text": [
      "CPU times: user 125 µs, sys: 2 µs, total: 127 µs\n",
      "Wall time: 136 µs\n"
     ]
    },
    {
     "data": {
      "text/plain": [
       "'In a recent prevalence study of nosocomial infection in the United Kingdom <CITE> , there were surprisingly few reports of virus-associated disease.'"
      ]
     },
     "execution_count": 65,
     "metadata": {},
     "output_type": "execute_result"
    }
   ],
   "source": [
    "%time sentences[0].text.replace('(Meers et al., 1981)', '<CITE>')"
   ]
  },
  {
   "cell_type": "code",
   "execution_count": 67,
   "metadata": {
    "ExecuteTime": {
     "end_time": "2020-04-27T18:33:18.607786Z",
     "start_time": "2020-04-27T18:33:18.560215Z"
    }
   },
   "outputs": [
    {
     "name": "stdout",
     "output_type": "stream",
     "text": [
      "CPU times: user 338 µs, sys: 7 µs, total: 345 µs\n",
      "Wall time: 354 µs\n"
     ]
    },
    {
     "data": {
      "text/plain": [
       "'In a recent prevalence study of nosocomial infection in the United Kingdom <CITE> , there were surprisingly few reports of virus-associated disease.'"
      ]
     },
     "execution_count": 67,
     "metadata": {},
     "output_type": "execute_result"
    }
   ],
   "source": [
    "%time re.sub(re.escape('(Meers et al., 1981)'), '<CITE>', sentences[0].text)"
   ]
  },
  {
   "cell_type": "code",
   "execution_count": 71,
   "metadata": {
    "ExecuteTime": {
     "end_time": "2020-04-27T18:35:12.609758Z",
     "start_time": "2020-04-27T18:35:12.540656Z"
    }
   },
   "outputs": [
    {
     "data": {
      "text/plain": [
       "'In a recent prevalence study of nosocomial infection in the United Kingdom (Meers et al., 1981) , there were surprisingly few reports of virus-associated disease. There is, however, clear evidence that enteric viruses may be transmitted to patients in hospitals and other confined communities.'"
      ]
     },
     "execution_count": 71,
     "metadata": {},
     "output_type": "execute_result"
    }
   ],
   "source": [
    "' '.join([s.text for s in sentences[0:2]])"
   ]
  },
  {
   "cell_type": "code",
   "execution_count": 79,
   "metadata": {
    "ExecuteTime": {
     "end_time": "2020-04-27T20:35:13.920057Z",
     "start_time": "2020-04-27T20:35:13.845677Z"
    }
   },
   "outputs": [],
   "source": [
    "import csv"
   ]
  },
  {
   "cell_type": "code",
   "execution_count": 81,
   "metadata": {
    "ExecuteTime": {
     "end_time": "2020-04-27T20:43:43.895477Z",
     "start_time": "2020-04-27T20:43:43.805799Z"
    }
   },
   "outputs": [],
   "source": [
    "with (config.raw / 'cord19_articles.csv').open('w') as fp:\n",
    "    csvwriter = csv.writer(fp)\n",
    "    \n",
    "    csvwriter.writerow(['test1', 'test2', 'test3'])\n",
    "    csvwriter.writerow(['r1', 'r2', 'r3'])\n",
    "    csvwriter.writerow(['text with, a comma', 'text with, a semicolon;', 'r3'])"
   ]
  },
  {
   "cell_type": "code",
   "execution_count": null,
   "metadata": {},
   "outputs": [],
   "source": []
  },
  {
   "cell_type": "code",
   "execution_count": 75,
   "metadata": {
    "ExecuteTime": {
     "end_time": "2020-04-27T20:33:23.244498Z",
     "start_time": "2020-04-27T20:33:22.540839Z"
    }
   },
   "outputs": [],
   "source": [
    "fp = (config.raw / 'cord19_articles.csv').open('w')"
   ]
  },
  {
   "cell_type": "code",
   "execution_count": 78,
   "metadata": {
    "ExecuteTime": {
     "end_time": "2020-04-27T20:33:50.414649Z",
     "start_time": "2020-04-27T20:33:50.316156Z"
    }
   },
   "outputs": [
    {
     "data": {
      "text/plain": [
       "8"
      ]
     },
     "execution_count": 78,
     "metadata": {},
     "output_type": "execute_result"
    }
   ],
   "source": [
    "fp.write(','.join(['test1', 'test2', 'test3']))\n",
    "fp.write(','.join(['11', '12', '13']))\n",
    "fp.write(','.join(['21', '22', '23']))"
   ]
  },
  {
   "cell_type": "code",
   "execution_count": 82,
   "metadata": {
    "ExecuteTime": {
     "end_time": "2020-04-27T21:50:31.563611Z",
     "start_time": "2020-04-27T21:50:30.718198Z"
    }
   },
   "outputs": [
    {
     "data": {
      "text/plain": [
       "['Hello']"
      ]
     },
     "execution_count": 82,
     "metadata": {},
     "output_type": "execute_result"
    }
   ],
   "source": [
    "'Hello'.split(';')"
   ]
  },
  {
   "cell_type": "code",
   "execution_count": 83,
   "metadata": {
    "ExecuteTime": {
     "end_time": "2020-04-27T21:50:39.248006Z",
     "start_time": "2020-04-27T21:50:39.184848Z"
    }
   },
   "outputs": [
    {
     "data": {
      "text/plain": [
       "['Hello', ' hello']"
      ]
     },
     "execution_count": 83,
     "metadata": {},
     "output_type": "execute_result"
    }
   ],
   "source": [
    "'Hello; hello'.split(';')"
   ]
  },
  {
   "cell_type": "code",
   "execution_count": 84,
   "metadata": {
    "ExecuteTime": {
     "end_time": "2020-04-27T21:52:06.742031Z",
     "start_time": "2020-04-27T21:52:06.642285Z"
    }
   },
   "outputs": [
    {
     "data": {
      "text/plain": [
       "'f94beaebca9e855e0f2f632aefb0c3e44d8fcf54'"
      ]
     },
     "execution_count": 84,
     "metadata": {},
     "output_type": "execute_result"
    }
   ],
   "source": [
    "id_"
   ]
  },
  {
   "cell_type": "code",
   "execution_count": 85,
   "metadata": {
    "ExecuteTime": {
     "end_time": "2020-04-27T21:52:32.590629Z",
     "start_time": "2020-04-27T21:52:31.017318Z"
    }
   },
   "outputs": [
    {
     "name": "stdout",
     "output_type": "stream",
     "text": [
      "CPU times: user 69.6 ms, sys: 154 ms, total: 223 ms\n",
      "Wall time: 1.49 s\n"
     ]
    },
    {
     "data": {
      "text/plain": [
       "{'paper_id': 'f94beaebca9e855e0f2f632aefb0c3e44d8fcf54',\n",
       " 'metadata': {'title': '', 'authors': []},\n",
       " 'abstract': [],\n",
       " 'body_text': [{'text': ' Infection (1982) ',\n",
       "   'cite_spans': [{'start': 1,\n",
       "     'end': 17,\n",
       "     'text': 'Infection (1982)',\n",
       "     'ref_id': None}],\n",
       "   'ref_spans': [],\n",
       "   'section': 'Journal of Hospital'},\n",
       "  {'text': 'In a recent prevalence study of nosocomial infection in the United Kingdom (Meers et al., 1981) , there were surprisingly few reports of virus-associated disease. There is, however, clear evidence that enteric viruses may be transmitted to patients in hospitals and other confined communities. The spread of enteroviruses such as Echo (Nagington et al., 1978) and Coxsackie (Pether, 1982) is known to occur in these environments and in the case of neonates has occasionally resulted in serious illness with significant mortality. Transmission of hepatitis A virus has also been documented as an infection hazard, especially in institutions caring for mentally retarded children (Krugman and Giles, 1970) . During the last decade viruses have been recognized as an important major cause of acute diarrhoeal disease. At present rotavirus infection is thought to account for the majority of these cases although there is increasing evidence of episodes associated with other agents, e.g. adenovirus (Flewett et al., 1975) , astrovirus (Kurtz, Lee and Pickering, 1977) , calicivirus (Cubitt, McSwiggan and Arstall, 1980) and coronavirus (Caul, Paver and Clarke, 1975) .',\n",
       "   'cite_spans': [{'start': 75,\n",
       "     'end': 95,\n",
       "     'text': '(Meers et al., 1981)',\n",
       "     'ref_id': 'BIBREF3'},\n",
       "    {'start': 335,\n",
       "     'end': 359,\n",
       "     'text': '(Nagington et al., 1978)',\n",
       "     'ref_id': None},\n",
       "    {'start': 364,\n",
       "     'end': 388,\n",
       "     'text': 'Coxsackie (Pether, 1982)',\n",
       "     'ref_id': None},\n",
       "    {'start': 678,\n",
       "     'end': 703,\n",
       "     'text': '(Krugman and Giles, 1970)',\n",
       "     'ref_id': None},\n",
       "    {'start': 996,\n",
       "     'end': 1018,\n",
       "     'text': '(Flewett et al., 1975)',\n",
       "     'ref_id': None},\n",
       "    {'start': 1040,\n",
       "     'end': 1064,\n",
       "     'text': 'Lee and Pickering, 1977)',\n",
       "     'ref_id': 'BIBREF1'},\n",
       "    {'start': 1079,\n",
       "     'end': 1116,\n",
       "     'text': '(Cubitt, McSwiggan and Arstall, 1980)',\n",
       "     'ref_id': None},\n",
       "    {'start': 1133,\n",
       "     'end': 1163,\n",
       "     'text': '(Caul, Paver and Clarke, 1975)',\n",
       "     'ref_id': None}],\n",
       "   'ref_spans': [],\n",
       "   'section': 'Enteric viruses in hospital-acquired infection'},\n",
       "  {'text': 'In special care baby units, outbreaks of rotavirus infection may cause symptoms of mild diarrhoea and vomiting (Bishop et al., 1976) , but this is not always the case. We have investigated an episode in which infection was accompanied by severe illness which resulted in a number of deaths. Rotavirus may become endemic in such units and under these circumstances infected babies often remain asymptomatic (Chrystie, Totterdell and Banatvala, 1978) . Evidence for this situation was provided by a study of the RNA profiles of rotaviruses affecting neonates in a unit in JJelbourne (Rodger et al., 1981) . In this study, certain strains of virus persisted in the unit for a period of up to four years and differed from strains circulating in the community during this time. Rotavirus infection requiring hospital admission is most common in the six months to three years age group. Nosocomial infections are extremely common in this age range (Holmes, 1979) . Recently there have also been a number of reports of infection in adults, involving both patients and staff. These have taken place in an obstetric unit (Hildreth, Thomas and Ridgeway, 1981) and in several wards and residential homes caring for elderly patients (Cubitt and Holzel, 1980; Holzel et al., 1980) . In these episodes symptoms ranged from mild diarrhoea to severe gastrointestinal fluid loss requiring intravenous rehydration.',\n",
       "   'cite_spans': [{'start': 111,\n",
       "     'end': 132,\n",
       "     'text': '(Bishop et al., 1976)',\n",
       "     'ref_id': None},\n",
       "    {'start': 406,\n",
       "     'end': 448,\n",
       "     'text': '(Chrystie, Totterdell and Banatvala, 1978)',\n",
       "     'ref_id': None},\n",
       "    {'start': 581,\n",
       "     'end': 602,\n",
       "     'text': '(Rodger et al., 1981)',\n",
       "     'ref_id': 'BIBREF6'},\n",
       "    {'start': 942, 'end': 956, 'text': '(Holmes, 1979)', 'ref_id': None},\n",
       "    {'start': 1123,\n",
       "     'end': 1149,\n",
       "     'text': 'Thomas and Ridgeway, 1981)',\n",
       "     'ref_id': None},\n",
       "    {'start': 1221,\n",
       "     'end': 1246,\n",
       "     'text': '(Cubitt and Holzel, 1980;',\n",
       "     'ref_id': None},\n",
       "    {'start': 1247,\n",
       "     'end': 1267,\n",
       "     'text': 'Holzel et al., 1980)',\n",
       "     'ref_id': None}],\n",
       "   'ref_spans': [],\n",
       "   'section': 'Enteric viruses in hospital-acquired infection'},\n",
       "  {'text': 'An appreciation of the world-wide distribution of rotavirus infection became possible only recently following the introduction of methods, e.g. immunofluorescence, ClE and ELISA, which are more readily available than electron microscopy as diagnostic techniques. At present, electron microscopy provides c195-6701/82/02~101 i-04 Soz.oo;o (9 1982 The IIospital Infection Society the only means of diagnosis of infection caused by the non-cultivable gastroenteritis viruses and, therefore, little is known of their true significance in nosocomial infection. During the last year, both astrovirus (Lee and Kurtz, 1981) and adenovirus type 38 (De Jong et al., 1981) h ave been propagated in vitro and further progress along these lines should lead to the development of less sophisticated and expensive means of diagnosis. Transmission of enteric viruses is generally considered to be via the faecaloral route and spread of infection may be from patient to patient, or via members of the hospital staff. Upper respiratory tract symptoms are, however, not infrequently reported in association with gastrointestinal disturbance (Steinhoff, 1980; Cubitt and McSwiggan, 1981) . These findings suggest that spread of virus may occur via the respiratory route, a possibility which requires further investigation.',\n",
       "   'cite_spans': [{'start': 594,\n",
       "     'end': 615,\n",
       "     'text': '(Lee and Kurtz, 1981)',\n",
       "     'ref_id': 'BIBREF2'},\n",
       "    {'start': 639,\n",
       "     'end': 661,\n",
       "     'text': '(De Jong et al., 1981)',\n",
       "     'ref_id': None},\n",
       "    {'start': 1122,\n",
       "     'end': 1139,\n",
       "     'text': '(Steinhoff, 1980;',\n",
       "     'ref_id': 'BIBREF7'},\n",
       "    {'start': 1140,\n",
       "     'end': 1167,\n",
       "     'text': 'Cubitt and McSwiggan, 1981)',\n",
       "     'ref_id': None}],\n",
       "   'ref_spans': [],\n",
       "   'section': 'Enteric viruses in hospital-acquired infection'},\n",
       "  {'text': \"Recent studies (Kurtz, Lee and Parsons, 1980; Tan and Schnagl, 1981) investigating the virucidal activity of various disinfectants, have shown the importance of selecting an appropriate compound. These reports indicated that 90 per cent ethanol was the most effective agent against a whole range of enteric viruses. Tan and Schnagl found that commonly used disinfectants, such as 'Hexol', 'Hibiclens' and 'Betadine', were of little value. These findings should be considered in formulating policies both for hand washing and for the disinfection of contaminated equipment. Use of inefficient bedpan washers is a recognized hazard and this possible source of virus transmission was highlighted in the report concerning the outbreak in an obstetric unit (Hildreth et al., 1981) .\",\n",
       "   'cite_spans': [{'start': 23,\n",
       "     'end': 45,\n",
       "     'text': 'Lee and Parsons, 1980;',\n",
       "     'ref_id': None},\n",
       "    {'start': 46,\n",
       "     'end': 68,\n",
       "     'text': 'Tan and Schnagl, 1981)',\n",
       "     'ref_id': 'BIBREF8'},\n",
       "    {'start': 752,\n",
       "     'end': 775,\n",
       "     'text': '(Hildreth et al., 1981)',\n",
       "     'ref_id': None}],\n",
       "   'ref_spans': [],\n",
       "   'section': 'Enteric viruses in hospital-acquired infection'},\n",
       "  {'text': 'Management of outbreaks of rotavirus infection requires close collaboration between laboratory and clinical staff. Virological investigations are frequently omitted until bacterial causes have been excluded and we strongly recommend that both types of investigations are performed in parallel. Whenever possible faecal specimens from all patients and staff of an infected unit should be screened for the presence of virus. This may be of particular value as some patients may continue to excrete virus long after the cessation of symptoms. Ideally if all cases are to be diagnosed investigations should also include serological tests.',\n",
       "   'cite_spans': [],\n",
       "   'ref_spans': [],\n",
       "   'section': 'Enteric viruses in hospital-acquired infection'},\n",
       "  {'text': \"Our experience of outbreaks in three distinct clinical settings provides information on some aspects of control. Where isolation facilities are provided and correctly used, it is possible to terminate an outbreak rapidly. In practice, isolation cubicles are rarely available and, in units dealing with long-stay patients, control measures are limited to 'stool urine needle' isolation (Bagshawe, Blowers and Lidwell, 1978) and to the limitation of all staff movement from the affected ward. In general wards, where length of hospital stay is short, it may be feasible to close the unit to admissions until no further cases have appeared for 72 h. These measures should limit the extent of the outbreak.\",\n",
       "   'cite_spans': [{'start': 385,\n",
       "     'end': 422,\n",
       "     'text': '(Bagshawe, Blowers and Lidwell, 1978)',\n",
       "     'ref_id': 'BIBREF0'}],\n",
       "   'ref_spans': [],\n",
       "   'section': 'Enteric viruses in hospital-acquired infection'},\n",
       "  {'text': 'It seems likely that a wider realization of the importance of hospital-acquired viral infection supported by the availability of new diagnostic techniques will improve our understanding and management of this type of nosocomial infection. ',\n",
       "   'cite_spans': [],\n",
       "   'ref_spans': [],\n",
       "   'section': 'Enteric viruses in hospital-acquired infection'}],\n",
       " 'bib_entries': {'BIBREF0': {'ref_id': 'b0',\n",
       "   'title': 'Isolating patients in hospital to control infection',\n",
       "   'authors': [{'first': 'K',\n",
       "     'middle': ['D'],\n",
       "     'last': 'Bagshawe',\n",
       "     'suffix': ''},\n",
       "    {'first': 'R', 'middle': [], 'last': 'Blowers', 'suffix': ''},\n",
       "    {'first': '.', 'middle': ['M'], 'last': 'Lidwell', 'suffix': ''}],\n",
       "   'year': 1978,\n",
       "   'venue': 'Journal of Hospital Infection',\n",
       "   'volume': '1',\n",
       "   'issn': '',\n",
       "   'pages': '321--326',\n",
       "   'other_ids': {}},\n",
       "  'BIBREF1': {'ref_id': 'b1',\n",
       "   'title': \"Astrovirus associated gastroenteritis in a children's ward\",\n",
       "   'authors': [{'first': 'J', 'middle': ['B'], 'last': 'Kcrtz', 'suffix': ''},\n",
       "    {'first': 'T', 'middle': ['W'], 'last': 'Lee', 'suffix': ''},\n",
       "    {'first': 'P', 'middle': ['J'], 'last': 'Pickering', 'suffix': ''}],\n",
       "   'year': 1977,\n",
       "   'venue': 'Journal of Clinical Pathology',\n",
       "   'volume': '30',\n",
       "   'issn': '',\n",
       "   'pages': '948--952',\n",
       "   'other_ids': {}},\n",
       "  'BIBREF2': {'ref_id': 'b2',\n",
       "   'title': 'Serial propagation of astrovirus in tissue culture with the aid of trypsin',\n",
       "   'authors': [{'first': 'T', 'middle': ['W'], 'last': 'Lee', 'suffix': ''},\n",
       "    {'first': 'J', 'middle': ['B'], 'last': 'Kurtz', 'suffix': ''}],\n",
       "   'year': 1981,\n",
       "   'venue': 'Journal of General Virology',\n",
       "   'volume': '57',\n",
       "   'issn': '',\n",
       "   'pages': '421--424',\n",
       "   'other_ids': {}},\n",
       "  'BIBREF3': {'ref_id': 'b3',\n",
       "   'title': 'Report on the National Survey of Infection in Hospitals',\n",
       "   'authors': [{'first': 'P', 'middle': ['D'], 'last': 'Meers', 'suffix': ''},\n",
       "    {'first': 'G', 'middle': ['A J'], 'last': 'Ayliffe', 'suffix': ''},\n",
       "    {'first': 'A', 'middle': ['M'], 'last': 'Emmerson', 'suffix': ''},\n",
       "    {'first': 'D', 'middle': ['A'], 'last': 'Leigh', 'suffix': ''},\n",
       "    {'first': 'R', 'middle': ['T'], 'last': 'Mayon-White', 'suffix': ''},\n",
       "    {'first': 'C', 'middle': ['A'], 'last': 'Mackintosh', 'suffix': ''},\n",
       "    {'first': 'J', 'middle': ['L'], 'last': 'Stronge', 'suffix': ''}],\n",
       "   'year': 1980,\n",
       "   'venue': 'Journal of Hospital Infection',\n",
       "   'volume': '2',\n",
       "   'issn': '',\n",
       "   'pages': '',\n",
       "   'other_ids': {}},\n",
       "  'BIBREF5': {'ref_id': 'b5',\n",
       "   'title': 'Coxsackie B2 outbreak in a special care baby unit',\n",
       "   'authors': [{'first': 'J', 'middle': ['V S'], 'last': '', 'suffix': ''}],\n",
       "   'year': 1982,\n",
       "   'venue': '',\n",
       "   'volume': '',\n",
       "   'issn': '',\n",
       "   'pages': '',\n",
       "   'other_ids': {}},\n",
       "  'BIBREF6': {'ref_id': 'b6',\n",
       "   'title': 'Molecular epidemiology of human rotaviruses in Melbourne, Australia from 1973-1979, as determined by electrophoresis of genome ribonucleic acid',\n",
       "   'authors': [{'first': 'J', 'middle': ['M'], 'last': 'Rodger', 'suffix': ''},\n",
       "    {'first': 'R', 'middle': ['F'], 'last': 'Bishop', 'suffix': ''},\n",
       "    {'first': 'C', 'middle': [], 'last': 'Birch', 'suffix': ''},\n",
       "    {'first': 'B', 'middle': [], 'last': 'Mcclean', 'suffix': ''},\n",
       "    {'first': 'I', 'middle': ['H'], 'last': 'Holmes', 'suffix': ''}],\n",
       "   'year': 1981,\n",
       "   'venue': 'Journal of Clinical Microbiology',\n",
       "   'volume': '13',\n",
       "   'issn': '',\n",
       "   'pages': '272--278',\n",
       "   'other_ids': {}},\n",
       "  'BIBREF7': {'ref_id': 'b7',\n",
       "   'title': 'Rotavirus: the first five years',\n",
       "   'authors': [{'first': 'M',\n",
       "     'middle': ['C'],\n",
       "     'last': 'Steinhoff',\n",
       "     'suffix': ''}],\n",
       "   'year': 1980,\n",
       "   'venue': 'Joumul of Puediutrics',\n",
       "   'volume': '96',\n",
       "   'issn': '',\n",
       "   'pages': '611--622',\n",
       "   'other_ids': {}},\n",
       "  'BIBREF8': {'ref_id': 'b8',\n",
       "   'title': 'Inactivation of a rotavirus by disinfectants',\n",
       "   'authors': [{'first': 'J', 'middle': ['A'], 'last': 'Tan', 'suffix': ''},\n",
       "    {'first': 'R', 'middle': ['D'], 'last': 'Schnagl', 'suffix': ''}],\n",
       "   'year': 1981,\n",
       "   'venue': 'Medical Journal of Australia',\n",
       "   'volume': '1',\n",
       "   'issn': '',\n",
       "   'pages': '19--23',\n",
       "   'other_ids': {}}},\n",
       " 'ref_entries': {'TABREF1': {'text': \"Helen S. Holzel King's College Hospital, Denmark Hill, London SE5 6RS W. D. Cubitt Public Health Laboratory, Central Middlesex Hospital, Park Royal, London NW1 0 7NS\",\n",
       "   'latex': None,\n",
       "   'type': 'table'}},\n",
       " 'back_matter': []}"
      ]
     },
     "execution_count": 85,
     "metadata": {},
     "output_type": "execute_result"
    }
   ],
   "source": [
    "%time aws.read_item(subset, id_)"
   ]
  },
  {
   "cell_type": "code",
   "execution_count": 99,
   "metadata": {
    "ExecuteTime": {
     "end_time": "2020-04-27T22:06:46.539468Z",
     "start_time": "2020-04-27T22:06:45.241697Z"
    }
   },
   "outputs": [],
   "source": [
    "cord_uid_test = 'test'\n",
    "sha_test = 'f6af90a5e3b6a85f64c42d66bbdc9ec3ace4b2ae'\n",
    "article = aws.read_item('custom_license', sha_test)"
   ]
  },
  {
   "cell_type": "code",
   "execution_count": 102,
   "metadata": {
    "ExecuteTime": {
     "end_time": "2020-04-27T22:07:46.035121Z",
     "start_time": "2020-04-27T22:07:45.987867Z"
    }
   },
   "outputs": [],
   "source": [
    "def get_and_process_article(sha, subset):\n",
    "    uid = 'test'\n",
    "    article = aws.read_item(subset, sha)\n",
    "    return processing_data.get_citation_data(uid, article)"
   ]
  },
  {
   "cell_type": "code",
   "execution_count": 144,
   "metadata": {
    "ExecuteTime": {
     "end_time": "2020-04-28T01:48:04.167880Z",
     "start_time": "2020-04-28T01:48:02.654922Z"
    }
   },
   "outputs": [
    {
     "data": {
      "text/plain": [
       "[('test',\n",
       "  'equiare obligate intraerythrocytic parasites of equines. They are the causative agents of equine babesioses which are endemic in most tropical and subtropical areas of the world <CITE> Friedhoff, Tenter & Miller, 1990) .',\n",
       "  'Die Piroplasmen der Equiden-Bedeutung fiir den internationalen Pferdeverkehr',\n",
       "  [{'first': 'K', 'middle': ['T'], 'last': 'Friedhoff', 'suffix': ''}],\n",
       "  1982,\n",
       "  'Berliner und Miinchener Tieriirztliche Wochenschrif'),\n",
       " ('test',\n",
       "  'They are the causative agents of equine babesioses which are endemic in most tropical and subtropical areas of the world (Friedhoff, 1982; Friedhoff, Tenter & Miller, 1990) . Whereas 8. cabalii only invades erythrocytes B. equi is also capable of infecting lymphocytes <CITE> .',\n",
       "  'Babesia equi (Laveran 1901) 1. Development in horses and in lymphocyte culture',\n",
       "  [{'first': '', 'middle': [], 'last': 'Schein E', 'suffix': ''},\n",
       "   {'first': '', 'middle': [], 'last': 'Rehbein G', 'suffix': ''},\n",
       "   {'first': '', 'middle': ['P'], 'last': 'Voigt W', 'suffix': ''},\n",
       "   {'first': '', 'middle': [], 'last': 'Zweygarth E', 'suffix': ''}],\n",
       "  1981,\n",
       "  'Zeitschrifr fir Tropenmedizin und Parasitologie'),\n",
       " ('test',\n",
       "  'PBS with 0.05% Tween 20 OF PBS with 1% BSA and 0.05% Tween 20. After a further set of washes substrate (1 mg ml I of 5-aminosali~ylic acid <CITE> in 0.1 M-sodiumphosphate buffer, pH 6.0 containing 0.1 m&i-EDTA and 6 mM-H&f was dispensed and plates were read.',\n",
       "  'A simple method for the purification of 5-aminosalicylic acid. Application of the product as substrate in enzyme-linked immunosorbent assay (ELISA)',\n",
       "  [{'first': '', 'middle': ['J'], 'last': 'Ellens D', 'suffix': ''},\n",
       "   {'first': '', 'middle': ['L J'], 'last': 'Gielkens A', 'suffix': ''}],\n",
       "  1980,\n",
       "  'Journal oflmmunological Methods'),\n",
       " ('test',\n",
       "  'For the ELISA the following standards were used: (I) a high&red B. caballi serum pool; (2) a low-titred B. cabah serum pool; (3) a pool of sera negative for B. cabdi and B. eqeti. The CFT was performed following the instructions of the United States Department of Agriculture (1979) and the IFAT according to <CITE> .',\n",
       "  'Serodiagnosis of experimental and natural Babesia equi and B. caballi infections',\n",
       "  [{'first': '', 'middle': ['M'], 'last': 'Tenter A', 'suffix': ''},\n",
       "   {'first': '', 'middle': ['T'], 'last': 'Friedhoff K', 'suffix': ''}],\n",
       "  1986,\n",
       "  'Veterinary Parasitology'),\n",
       " ('test',\n",
       "  '2, 4 and 6 min after substrate addition with an ELISA reader (Titertek Multiskan plus MK II, Flow Laboratories, Meckenheim, Germany) interfaced with an IBM compatible personal computer. The computer based kinetics linked immunosorbent assay (KELA) programme was used to calculate slope values as the relationship between the rate of substrate conversion by enzyme and time <CITE> Barlough, Jacobson, Downing, Marcella, Lynch & Scott, 1983 : Bose, Jacobson, Gale, Walt~sbuhl & Wright, 1990) .',\n",
       "  \"Computer-assisted enzyme immunoassays and simplified immunofluorescence assays: applications for the diagnostic laboratory and the veterinarian's office\",\n",
       "  [{'first': '', 'middle': ['H'], 'last': 'Jacobson R', 'suffix': ''},\n",
       "   {'first': '', 'middle': ['R'], 'last': 'Downing D', 'suffix': ''},\n",
       "   {'first': '', 'middle': ['J'], 'last': 'Lynch T', 'suffix': ''}],\n",
       "  1982,\n",
       "  'Journal of the American Veterinary Medical Association'),\n",
       " ('test',\n",
       "  '2, 4 and 6 min after substrate addition with an ELISA reader (Titertek Multiskan plus MK II, Flow Laboratories, Meckenheim, Germany) interfaced with an IBM compatible personal computer. The computer based kinetics linked immunosorbent assay (KELA) programme was used to calculate slope values as the relationship between the rate of substrate conversion by enzyme and time (Jacobson, Downing & Lynch, 1982; <CITE> : Bose, Jacobson, Gale, Walt~sbuhl & Wright, 1990) .',\n",
       "  'Evaluation of a computer-assisted, kinetic-based enzymelinked immunosorbent assay for detection of coronavirus antibodies in cats',\n",
       "  [{'first': 'J', 'middle': ['E'], 'last': 'Barlough', 'suffix': ''},\n",
       "   {'first': '', 'middle': ['H'], 'last': 'Jacobson R', 'suffix': ''},\n",
       "   {'first': '', 'middle': ['R'], 'last': 'Downing D', 'suffix': ''},\n",
       "   {'first': '', 'middle': ['L'], 'last': 'Marcella K', 'suffix': ''},\n",
       "   {'first': '', 'middle': ['J'], 'last': 'Lynch T', 'suffix': ''},\n",
       "   {'first': '', 'middle': ['W'], 'last': 'Scott F', 'suffix': ''}],\n",
       "  1983,\n",
       "  'Journal of Clinical Microbiology'),\n",
       " ('test',\n",
       "  'One of the problems developing ELISAs for babesial infections is the contamination of antigen preparations with host proteins, namely from erythrocytes. For B. bovis a simple method for the enrichment of infected erythrocytes by selective lysis of noninfected erythrocytes is available (Mahoney, 1967) and preparations of 100% infected erythrocytes have been used for the development of sensitive and specific ELISAs <CITE> B&e et al., 1990) .',\n",
       "  'An enzyme-linked immunosorbent assay to diagnose Babesia bovis infection in cattle',\n",
       "  [{'first': '', 'middle': ['J'], 'last': 'Waltisbuhl D', 'suffix': ''},\n",
       "   {'first': '', 'middle': ['V'], 'last': 'Goodger B', 'suffix': ''},\n",
       "   {'first': '', 'middle': ['G'], 'last': 'Wright I', 'suffix': ''},\n",
       "   {'first': '', 'middle': ['A'], 'last': 'Commins M', 'suffix': ''},\n",
       "   {'first': '', 'middle': ['F'], 'last': 'Mahoney D', 'suffix': ''}],\n",
       "  1987,\n",
       "  'Parasitology Research'),\n",
       " ('test',\n",
       "  'For B. bovis a simple method for the enrichment of infected erythrocytes by selective lysis of noninfected erythrocytes is available (Mahoney, 1967) and preparations of 100% infected erythrocytes have been used for the development of sensitive and specific ELISAs (Waltisbuhl, Goodger, Wright, Commins & Mahoney, 1987; B&e et al., 1990) . For B. caballi only small amounts of 100% infected erythrocytes can be obtained using Percoll gradients <CITE> .',\n",
       "  'Enrichment of Babesia cabal/i-infected erythrocytes from microaerophilous stationary-phase cultures using Percoll gradients',\n",
       "  [{'first': 'C', 'middle': [], 'last': 'Bhushan', 'suffix': ''},\n",
       "   {'first': '',\n",
       "    'middle': ['T'],\n",
       "    'last': 'Moller I. &amp; Friedhoff K',\n",
       "    'suffix': ''}],\n",
       "  1991,\n",
       "  'Parasitology Research'),\n",
       " ('test',\n",
       "  'For B. caballi only small amounts of 100% infected erythrocytes can be obtained using Percoll gradients (Bhushan et al., 1991) . Attempts to develop an ELISA for B. cab&i with crude antigen made from blood with low parasitaemias have led to limited improvements in the sero diagnosis of B. cab& <CITE> .',\n",
       "  'Species-specific serodiagnosis of equine piroplasma infections by means of complement fixation test (CFT), immunofluorescence (IIF), and enzyme-linked immunosorbent assay (ELISA)',\n",
       "  [{'first': '', 'middle': [], 'last': 'Weiland G', 'suffix': ''}],\n",
       "  1986,\n",
       "  ''),\n",
       " ('test',\n",
       "  'The reason for the high background staining caused by equine sera is not known. For B. bovis there is evidence, that serum components other than IgG are involved <CITE> .',\n",
       "  'An improved ELISA for the detection of antibodies against Babesiu bovis using either a native or a recombinant B. bovis antigen',\n",
       "  [{'first': '', 'middle': [], 'last': 'Bose R', 'suffix': ''},\n",
       "   {'first': '', 'middle': ['H'], 'last': 'Jacobson R', 'suffix': ''},\n",
       "   {'first': '', 'middle': ['R'], 'last': 'Gale K', 'suffix': ''},\n",
       "   {'first': '', 'middle': ['J'], 'last': 'Waltisbuhl D', 'suffix': ''},\n",
       "   {'first': '', 'middle': ['G'], 'last': 'Wright I', 'suffix': ''}],\n",
       "  1990,\n",
       "  'Parasitology Research'),\n",
       " ('test',\n",
       "  'Apart from the high non-specific binding of horse sera a strong reaction of some negative sera with B. cab&i antigens or erythrocyte antigens extracted from the preparation of 100% infected erythrocytes was observed. We did not attempt to solve this problem by adsorption with normal erythrocytes as described for B. bovis <CITE> as this would have introduced another time-consuming step into the ELISA protocol.',\n",
       "  'An enzyme-linked immunosorbent assay to diagnose Babesia bovis infection in cattle',\n",
       "  [{'first': '', 'middle': ['J'], 'last': 'Waltisbuhl D', 'suffix': ''},\n",
       "   {'first': '', 'middle': ['V'], 'last': 'Goodger B', 'suffix': ''},\n",
       "   {'first': '', 'middle': ['G'], 'last': 'Wright I', 'suffix': ''},\n",
       "   {'first': '', 'middle': ['A'], 'last': 'Commins M', 'suffix': ''},\n",
       "   {'first': '', 'middle': ['F'], 'last': 'Mahoney D', 'suffix': ''}],\n",
       "  1987,\n",
       "  'Parasitology Research')]"
      ]
     },
     "execution_count": 144,
     "metadata": {},
     "output_type": "execute_result"
    }
   ],
   "source": [
    "context_citation = get_and_process_article(sha_test, 'custom_license')\n",
    "context_citation"
   ]
  },
  {
   "cell_type": "code",
   "execution_count": 147,
   "metadata": {
    "ExecuteTime": {
     "end_time": "2020-04-28T01:48:25.419326Z",
     "start_time": "2020-04-28T01:48:25.382213Z"
    }
   },
   "outputs": [
    {
     "data": {
      "text/plain": [
       "('test',\n",
       " 'PBS with 0.05% Tween 20 OF PBS with 1% BSA and 0.05% Tween 20. After a further set of washes substrate (1 mg ml I of 5-aminosali~ylic acid <CITE> in 0.1 M-sodiumphosphate buffer, pH 6.0 containing 0.1 m&i-EDTA and 6 mM-H&f was dispensed and plates were read.',\n",
       " 'A simple method for the purification of 5-aminosalicylic acid. Application of the product as substrate in enzyme-linked immunosorbent assay (ELISA)',\n",
       " [{'first': '', 'middle': ['J'], 'last': 'Ellens D', 'suffix': ''},\n",
       "  {'first': '', 'middle': ['L J'], 'last': 'Gielkens A', 'suffix': ''}],\n",
       " 1980,\n",
       " 'Journal oflmmunological Methods')"
      ]
     },
     "execution_count": 147,
     "metadata": {},
     "output_type": "execute_result"
    }
   ],
   "source": [
    "context_citation[2]"
   ]
  },
  {
   "cell_type": "code",
   "execution_count": 120,
   "metadata": {
    "ExecuteTime": {
     "end_time": "2020-04-27T22:21:41.694545Z",
     "start_time": "2020-04-27T22:21:39.736664Z"
    }
   },
   "outputs": [
    {
     "name": "stdout",
     "output_type": "stream",
     "text": [
      "CPU times: user 397 ms, sys: 344 ms, total: 741 ms\n",
      "Wall time: 1.88 s\n"
     ]
    },
    {
     "data": {
      "text/plain": [
       "[('test',\n",
       "  'equiare obligate intraerythrocytic parasites of equines. They are the causative agents of equine babesioses which are endemic in most tropical and subtropical areas of the world <CITE> Friedhoff, Tenter & Miller, 1990) .',\n",
       "  ('Die Piroplasmen der Equiden-Bedeutung fiir den internationalen Pferdeverkehr',\n",
       "   [{'first': 'K', 'middle': ['T'], 'last': 'Friedhoff', 'suffix': ''}],\n",
       "   1982,\n",
       "   'Berliner und Miinchener Tieriirztliche Wochenschrif')),\n",
       " ('test',\n",
       "  'They are the causative agents of equine babesioses which are endemic in most tropical and subtropical areas of the world (Friedhoff, 1982; Friedhoff, Tenter & Miller, 1990) . Whereas 8. cabalii only invades erythrocytes B. equi is also capable of infecting lymphocytes <CITE> .',\n",
       "  ('Babesia equi (Laveran 1901) 1. Development in horses and in lymphocyte culture',\n",
       "   [{'first': '', 'middle': [], 'last': 'Schein E', 'suffix': ''},\n",
       "    {'first': '', 'middle': [], 'last': 'Rehbein G', 'suffix': ''},\n",
       "    {'first': '', 'middle': ['P'], 'last': 'Voigt W', 'suffix': ''},\n",
       "    {'first': '', 'middle': [], 'last': 'Zweygarth E', 'suffix': ''}],\n",
       "   1981,\n",
       "   'Zeitschrifr fir Tropenmedizin und Parasitologie')),\n",
       " ('test',\n",
       "  'PBS with 0.05% Tween 20 OF PBS with 1% BSA and 0.05% Tween 20. After a further set of washes substrate (1 mg ml I of 5-aminosali~ylic acid <CITE> in 0.1 M-sodiumphosphate buffer, pH 6.0 containing 0.1 m&i-EDTA and 6 mM-H&f was dispensed and plates were read.',\n",
       "  ('A simple method for the purification of 5-aminosalicylic acid. Application of the product as substrate in enzyme-linked immunosorbent assay (ELISA)',\n",
       "   [{'first': '', 'middle': ['J'], 'last': 'Ellens D', 'suffix': ''},\n",
       "    {'first': '', 'middle': ['L J'], 'last': 'Gielkens A', 'suffix': ''}],\n",
       "   1980,\n",
       "   'Journal oflmmunological Methods')),\n",
       " ('test',\n",
       "  'For the ELISA the following standards were used: (I) a high&red B. caballi serum pool; (2) a low-titred B. cabah serum pool; (3) a pool of sera negative for B. cabdi and B. eqeti. The CFT was performed following the instructions of the United States Department of Agriculture (1979) and the IFAT according to <CITE> .',\n",
       "  ('Serodiagnosis of experimental and natural Babesia equi and B. caballi infections',\n",
       "   [{'first': '', 'middle': ['M'], 'last': 'Tenter A', 'suffix': ''},\n",
       "    {'first': '', 'middle': ['T'], 'last': 'Friedhoff K', 'suffix': ''}],\n",
       "   1986,\n",
       "   'Veterinary Parasitology')),\n",
       " ('test',\n",
       "  '2, 4 and 6 min after substrate addition with an ELISA reader (Titertek Multiskan plus MK II, Flow Laboratories, Meckenheim, Germany) interfaced with an IBM compatible personal computer. The computer based kinetics linked immunosorbent assay (KELA) programme was used to calculate slope values as the relationship between the rate of substrate conversion by enzyme and time <CITE> Barlough, Jacobson, Downing, Marcella, Lynch & Scott, 1983 : Bose, Jacobson, Gale, Walt~sbuhl & Wright, 1990) .',\n",
       "  (\"Computer-assisted enzyme immunoassays and simplified immunofluorescence assays: applications for the diagnostic laboratory and the veterinarian's office\",\n",
       "   [{'first': '', 'middle': ['H'], 'last': 'Jacobson R', 'suffix': ''},\n",
       "    {'first': '', 'middle': ['R'], 'last': 'Downing D', 'suffix': ''},\n",
       "    {'first': '', 'middle': ['J'], 'last': 'Lynch T', 'suffix': ''}],\n",
       "   1982,\n",
       "   'Journal of the American Veterinary Medical Association')),\n",
       " ('test',\n",
       "  '2, 4 and 6 min after substrate addition with an ELISA reader (Titertek Multiskan plus MK II, Flow Laboratories, Meckenheim, Germany) interfaced with an IBM compatible personal computer. The computer based kinetics linked immunosorbent assay (KELA) programme was used to calculate slope values as the relationship between the rate of substrate conversion by enzyme and time (Jacobson, Downing & Lynch, 1982; <CITE> : Bose, Jacobson, Gale, Walt~sbuhl & Wright, 1990) .',\n",
       "  ('Evaluation of a computer-assisted, kinetic-based enzymelinked immunosorbent assay for detection of coronavirus antibodies in cats',\n",
       "   [{'first': 'J', 'middle': ['E'], 'last': 'Barlough', 'suffix': ''},\n",
       "    {'first': '', 'middle': ['H'], 'last': 'Jacobson R', 'suffix': ''},\n",
       "    {'first': '', 'middle': ['R'], 'last': 'Downing D', 'suffix': ''},\n",
       "    {'first': '', 'middle': ['L'], 'last': 'Marcella K', 'suffix': ''},\n",
       "    {'first': '', 'middle': ['J'], 'last': 'Lynch T', 'suffix': ''},\n",
       "    {'first': '', 'middle': ['W'], 'last': 'Scott F', 'suffix': ''}],\n",
       "   1983,\n",
       "   'Journal of Clinical Microbiology')),\n",
       " ('test',\n",
       "  'One of the problems developing ELISAs for babesial infections is the contamination of antigen preparations with host proteins, namely from erythrocytes. For B. bovis a simple method for the enrichment of infected erythrocytes by selective lysis of noninfected erythrocytes is available (Mahoney, 1967) and preparations of 100% infected erythrocytes have been used for the development of sensitive and specific ELISAs <CITE> B&e et al., 1990) .',\n",
       "  ('An enzyme-linked immunosorbent assay to diagnose Babesia bovis infection in cattle',\n",
       "   [{'first': '', 'middle': ['J'], 'last': 'Waltisbuhl D', 'suffix': ''},\n",
       "    {'first': '', 'middle': ['V'], 'last': 'Goodger B', 'suffix': ''},\n",
       "    {'first': '', 'middle': ['G'], 'last': 'Wright I', 'suffix': ''},\n",
       "    {'first': '', 'middle': ['A'], 'last': 'Commins M', 'suffix': ''},\n",
       "    {'first': '', 'middle': ['F'], 'last': 'Mahoney D', 'suffix': ''}],\n",
       "   1987,\n",
       "   'Parasitology Research')),\n",
       " ('test',\n",
       "  'For B. bovis a simple method for the enrichment of infected erythrocytes by selective lysis of noninfected erythrocytes is available (Mahoney, 1967) and preparations of 100% infected erythrocytes have been used for the development of sensitive and specific ELISAs (Waltisbuhl, Goodger, Wright, Commins & Mahoney, 1987; B&e et al., 1990) . For B. caballi only small amounts of 100% infected erythrocytes can be obtained using Percoll gradients <CITE> .',\n",
       "  ('Enrichment of Babesia cabal/i-infected erythrocytes from microaerophilous stationary-phase cultures using Percoll gradients',\n",
       "   [{'first': 'C', 'middle': [], 'last': 'Bhushan', 'suffix': ''},\n",
       "    {'first': '',\n",
       "     'middle': ['T'],\n",
       "     'last': 'Moller I. &amp; Friedhoff K',\n",
       "     'suffix': ''}],\n",
       "   1991,\n",
       "   'Parasitology Research')),\n",
       " ('test',\n",
       "  'For B. caballi only small amounts of 100% infected erythrocytes can be obtained using Percoll gradients (Bhushan et al., 1991) . Attempts to develop an ELISA for B. cab&i with crude antigen made from blood with low parasitaemias have led to limited improvements in the sero diagnosis of B. cab& <CITE> .',\n",
       "  ('Species-specific serodiagnosis of equine piroplasma infections by means of complement fixation test (CFT), immunofluorescence (IIF), and enzyme-linked immunosorbent assay (ELISA)',\n",
       "   [{'first': '', 'middle': [], 'last': 'Weiland G', 'suffix': ''}],\n",
       "   1986,\n",
       "   '')),\n",
       " ('test',\n",
       "  'The reason for the high background staining caused by equine sera is not known. For B. bovis there is evidence, that serum components other than IgG are involved <CITE> .',\n",
       "  ('An improved ELISA for the detection of antibodies against Babesiu bovis using either a native or a recombinant B. bovis antigen',\n",
       "   [{'first': '', 'middle': [], 'last': 'Bose R', 'suffix': ''},\n",
       "    {'first': '', 'middle': ['H'], 'last': 'Jacobson R', 'suffix': ''},\n",
       "    {'first': '', 'middle': ['R'], 'last': 'Gale K', 'suffix': ''},\n",
       "    {'first': '', 'middle': ['J'], 'last': 'Waltisbuhl D', 'suffix': ''},\n",
       "    {'first': '', 'middle': ['G'], 'last': 'Wright I', 'suffix': ''}],\n",
       "   1990,\n",
       "   'Parasitology Research')),\n",
       " ('test',\n",
       "  'Apart from the high non-specific binding of horse sera a strong reaction of some negative sera with B. cab&i antigens or erythrocyte antigens extracted from the preparation of 100% infected erythrocytes was observed. We did not attempt to solve this problem by adsorption with normal erythrocytes as described for B. bovis <CITE> as this would have introduced another time-consuming step into the ELISA protocol.',\n",
       "  ('An enzyme-linked immunosorbent assay to diagnose Babesia bovis infection in cattle',\n",
       "   [{'first': '', 'middle': ['J'], 'last': 'Waltisbuhl D', 'suffix': ''},\n",
       "    {'first': '', 'middle': ['V'], 'last': 'Goodger B', 'suffix': ''},\n",
       "    {'first': '', 'middle': ['G'], 'last': 'Wright I', 'suffix': ''},\n",
       "    {'first': '', 'middle': ['A'], 'last': 'Commins M', 'suffix': ''},\n",
       "    {'first': '', 'middle': ['F'], 'last': 'Mahoney D', 'suffix': ''}],\n",
       "   1987,\n",
       "   'Parasitology Research'))]"
      ]
     },
     "execution_count": 120,
     "metadata": {},
     "output_type": "execute_result"
    }
   ],
   "source": [
    "%time get_and_process_article(sha_test, 'custom_license')"
   ]
  },
  {
   "cell_type": "code",
   "execution_count": 121,
   "metadata": {
    "ExecuteTime": {
     "end_time": "2020-04-27T22:22:04.066206Z",
     "start_time": "2020-04-27T22:22:02.763220Z"
    }
   },
   "outputs": [],
   "source": [
    "%lprun -f get_and_process_article get_and_process_article(sha_test, 'custom_license')\n"
   ]
  },
  {
   "cell_type": "code",
   "execution_count": null,
   "metadata": {},
   "outputs": [],
   "source": []
  }
 ],
 "metadata": {
  "kernelspec": {
   "display_name": "Python 3",
   "language": "python",
   "name": "python3"
  },
  "language_info": {
   "codemirror_mode": {
    "name": "ipython",
    "version": 3
   },
   "file_extension": ".py",
   "mimetype": "text/x-python",
   "name": "python",
   "nbconvert_exporter": "python",
   "pygments_lexer": "ipython3",
   "version": "3.7.6"
  },
  "varInspector": {
   "cols": {
    "lenName": 16,
    "lenType": 16,
    "lenVar": 40
   },
   "kernels_config": {
    "python": {
     "delete_cmd_postfix": "",
     "delete_cmd_prefix": "del ",
     "library": "var_list.py",
     "varRefreshCmd": "print(var_dic_list())"
    },
    "r": {
     "delete_cmd_postfix": ") ",
     "delete_cmd_prefix": "rm(",
     "library": "var_list.r",
     "varRefreshCmd": "cat(var_dic_list()) "
    }
   },
   "types_to_exclude": [
    "module",
    "function",
    "builtin_function_or_method",
    "instance",
    "_Feature"
   ],
   "window_display": false
  }
 },
 "nbformat": 4,
 "nbformat_minor": 2
}
